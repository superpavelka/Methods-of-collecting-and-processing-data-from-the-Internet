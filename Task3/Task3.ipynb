{
 "cells": [
  {
   "cell_type": "markdown",
   "metadata": {},
   "source": [
    "1)Если еще не сделано, то: Модифицировать приложение из предыдущего домашнего задания:\n",
    "- приложение должно собирать вакансии сразу с двух сайтов hh.ru и superjob.ru\n",
    "- собранные данные должны быть приведены к общей структуре\n",
    "- разделить зарплату на две составляющие (мин. и макс.) и сохранить в виде int. Если валюта указана другая, привести все к рублям.\n",
    "\n",
    "2)Реализовать сохранение полученных вакансий в СУБД (на выбор SQLite или MongoDB)\n",
    "3)Написать функцию, которая производит поиск и выводит на экран вакансии с заработной платой больше введенной суммы.\n",
    "3*)Модифицировать функцию, которая будет добавлять в вашу базу данных только новые вакансии с сайта"
   ]
  },
  {
   "cell_type": "code",
   "execution_count": 78,
   "metadata": {},
   "outputs": [],
   "source": [
    "import pandas as pd\n",
    "from pymongo import MongoClient\n",
    "from pprint import pprint"
   ]
  },
  {
   "cell_type": "markdown",
   "metadata": {},
   "source": [
    "#### Загрузка датасетов"
   ]
  },
  {
   "cell_type": "code",
   "execution_count": 79,
   "metadata": {},
   "outputs": [],
   "source": [
    "HH_PATH = 'hh программист с++.csv'\n",
    "SUPERJOB_PATH = 'superjob программист c#.csv'"
   ]
  },
  {
   "cell_type": "code",
   "execution_count": 80,
   "metadata": {},
   "outputs": [
    {
     "data": {
      "text/html": [
       "<div>\n",
       "<style scoped>\n",
       "    .dataframe tbody tr th:only-of-type {\n",
       "        vertical-align: middle;\n",
       "    }\n",
       "\n",
       "    .dataframe tbody tr th {\n",
       "        vertical-align: top;\n",
       "    }\n",
       "\n",
       "    .dataframe thead th {\n",
       "        text-align: right;\n",
       "    }\n",
       "</style>\n",
       "<table border=\"1\" class=\"dataframe\">\n",
       "  <thead>\n",
       "    <tr style=\"text-align: right;\">\n",
       "      <th></th>\n",
       "      <th>vacansy</th>\n",
       "      <th>min_salary</th>\n",
       "      <th>max_salary</th>\n",
       "      <th>url</th>\n",
       "      <th>source</th>\n",
       "      <th>employer</th>\n",
       "    </tr>\n",
       "  </thead>\n",
       "  <tbody>\n",
       "    <tr>\n",
       "      <th>0</th>\n",
       "      <td>Программист С++/Qt</td>\n",
       "      <td>70000.0</td>\n",
       "      <td>NaN</td>\n",
       "      <td>https://hh.ru/vacancy/31273030?query=%D0%BF%D1...</td>\n",
       "      <td>hh.ru</td>\n",
       "      <td>Cappasity Inc.</td>\n",
       "    </tr>\n",
       "    <tr>\n",
       "      <th>1</th>\n",
       "      <td>Программист С++ (графика)</td>\n",
       "      <td>80000.0</td>\n",
       "      <td>NaN</td>\n",
       "      <td>https://hh.ru/vacancy/32543357?query=%D0%BF%D1...</td>\n",
       "      <td>hh.ru</td>\n",
       "      <td>Cappasity Inc.</td>\n",
       "    </tr>\n",
       "    <tr>\n",
       "      <th>2</th>\n",
       "      <td>Программист С++</td>\n",
       "      <td>NaN</td>\n",
       "      <td>100000.0</td>\n",
       "      <td>https://hh.ru/vacancy/32417827?query=%D0%BF%D1...</td>\n",
       "      <td>hh.ru</td>\n",
       "      <td>Группа Компаний «АМЕ»</td>\n",
       "    </tr>\n",
       "  </tbody>\n",
       "</table>\n",
       "</div>"
      ],
      "text/plain": [
       "                     vacansy  min_salary  max_salary  \\\n",
       "0         Программист С++/Qt     70000.0         NaN   \n",
       "1  Программист С++ (графика)     80000.0         NaN   \n",
       "2            Программист С++         NaN    100000.0   \n",
       "\n",
       "                                                 url source  \\\n",
       "0  https://hh.ru/vacancy/31273030?query=%D0%BF%D1...  hh.ru   \n",
       "1  https://hh.ru/vacancy/32543357?query=%D0%BF%D1...  hh.ru   \n",
       "2  https://hh.ru/vacancy/32417827?query=%D0%BF%D1...  hh.ru   \n",
       "\n",
       "                 employer  \n",
       "0          Cappasity Inc.  \n",
       "1          Cappasity Inc.  \n",
       "2   Группа Компаний «АМЕ»  "
      ]
     },
     "execution_count": 80,
     "metadata": {},
     "output_type": "execute_result"
    }
   ],
   "source": [
    "hh_df = pd.read_csv(HH_PATH, encoding='utf-8')\n",
    "hh_df.head(3)"
   ]
  },
  {
   "cell_type": "code",
   "execution_count": 81,
   "metadata": {},
   "outputs": [
    {
     "data": {
      "text/html": [
       "<div>\n",
       "<style scoped>\n",
       "    .dataframe tbody tr th:only-of-type {\n",
       "        vertical-align: middle;\n",
       "    }\n",
       "\n",
       "    .dataframe tbody tr th {\n",
       "        vertical-align: top;\n",
       "    }\n",
       "\n",
       "    .dataframe thead th {\n",
       "        text-align: right;\n",
       "    }\n",
       "</style>\n",
       "<table border=\"1\" class=\"dataframe\">\n",
       "  <thead>\n",
       "    <tr style=\"text-align: right;\">\n",
       "      <th></th>\n",
       "      <th>vacansy</th>\n",
       "      <th>min_salary</th>\n",
       "      <th>max_salary</th>\n",
       "      <th>url</th>\n",
       "      <th>source</th>\n",
       "      <th>employer</th>\n",
       "    </tr>\n",
       "  </thead>\n",
       "  <tbody>\n",
       "    <tr>\n",
       "      <th>0</th>\n",
       "      <td>Инженер-программист / Разработчик C#</td>\n",
       "      <td>300000.0</td>\n",
       "      <td>NaN</td>\n",
       "      <td>https://www.superjob.ru/vakansii/inzhener-prog...</td>\n",
       "      <td>superjob.ru</td>\n",
       "      <td>ФГУ НПП Гамма</td>\n",
       "    </tr>\n",
       "    <tr>\n",
       "      <th>1</th>\n",
       "      <td>Инженер-программист C#</td>\n",
       "      <td>NaN</td>\n",
       "      <td>NaN</td>\n",
       "      <td>https://www.superjob.ru/vakansii/inzhener-prog...</td>\n",
       "      <td>superjob.ru</td>\n",
       "      <td>Центральная ППК</td>\n",
       "    </tr>\n",
       "    <tr>\n",
       "      <th>2</th>\n",
       "      <td>.NET Developer / Разработчик C#</td>\n",
       "      <td>NaN</td>\n",
       "      <td>NaN</td>\n",
       "      <td>https://www.superjob.ru/vakansii/net-developer...</td>\n",
       "      <td>superjob.ru</td>\n",
       "      <td>Информационные технологии</td>\n",
       "    </tr>\n",
       "  </tbody>\n",
       "</table>\n",
       "</div>"
      ],
      "text/plain": [
       "                                vacansy  min_salary  max_salary  \\\n",
       "0  Инженер-программист / Разработчик C#    300000.0         NaN   \n",
       "1                Инженер-программист C#         NaN         NaN   \n",
       "2       .NET Developer / Разработчик C#         NaN         NaN   \n",
       "\n",
       "                                                 url       source  \\\n",
       "0  https://www.superjob.ru/vakansii/inzhener-prog...  superjob.ru   \n",
       "1  https://www.superjob.ru/vakansii/inzhener-prog...  superjob.ru   \n",
       "2  https://www.superjob.ru/vakansii/net-developer...  superjob.ru   \n",
       "\n",
       "                    employer  \n",
       "0              ФГУ НПП Гамма  \n",
       "1            Центральная ППК  \n",
       "2  Информационные технологии  "
      ]
     },
     "execution_count": 81,
     "metadata": {},
     "output_type": "execute_result"
    }
   ],
   "source": [
    "sj_df = pd.read_csv(SUPERJOB_PATH, encoding='utf-8')\n",
    "sj_df.head(3)"
   ]
  },
  {
   "cell_type": "code",
   "execution_count": 82,
   "metadata": {},
   "outputs": [
    {
     "data": {
      "text/plain": [
       "vacansy        object\n",
       "min_salary    float64\n",
       "max_salary    float64\n",
       "url            object\n",
       "source         object\n",
       "employer       object\n",
       "dtype: object"
      ]
     },
     "execution_count": 82,
     "metadata": {},
     "output_type": "execute_result"
    }
   ],
   "source": [
    "hh_df.dtypes"
   ]
  },
  {
   "cell_type": "code",
   "execution_count": 83,
   "metadata": {},
   "outputs": [
    {
     "data": {
      "text/plain": [
       "vacansy        object\n",
       "min_salary    float64\n",
       "max_salary    float64\n",
       "url            object\n",
       "source         object\n",
       "employer       object\n",
       "dtype: object"
      ]
     },
     "execution_count": 83,
     "metadata": {},
     "output_type": "execute_result"
    }
   ],
   "source": [
    "sj_df.dtypes"
   ]
  },
  {
   "cell_type": "markdown",
   "metadata": {},
   "source": [
    "#### Заполним NaN значения нулями"
   ]
  },
  {
   "cell_type": "code",
   "execution_count": 84,
   "metadata": {},
   "outputs": [],
   "source": [
    "values = {'min_salary': 0, 'max_salary': 0}\n",
    "hh_df = hh_df.fillna(value=values,);\n",
    "sj_df = sj_df.fillna(value=values);"
   ]
  },
  {
   "cell_type": "code",
   "execution_count": 85,
   "metadata": {},
   "outputs": [
    {
     "data": {
      "text/html": [
       "<div>\n",
       "<style scoped>\n",
       "    .dataframe tbody tr th:only-of-type {\n",
       "        vertical-align: middle;\n",
       "    }\n",
       "\n",
       "    .dataframe tbody tr th {\n",
       "        vertical-align: top;\n",
       "    }\n",
       "\n",
       "    .dataframe thead th {\n",
       "        text-align: right;\n",
       "    }\n",
       "</style>\n",
       "<table border=\"1\" class=\"dataframe\">\n",
       "  <thead>\n",
       "    <tr style=\"text-align: right;\">\n",
       "      <th></th>\n",
       "      <th>vacansy</th>\n",
       "      <th>min_salary</th>\n",
       "      <th>max_salary</th>\n",
       "      <th>url</th>\n",
       "      <th>source</th>\n",
       "      <th>employer</th>\n",
       "    </tr>\n",
       "  </thead>\n",
       "  <tbody>\n",
       "    <tr>\n",
       "      <th>0</th>\n",
       "      <td>Программист С++/Qt</td>\n",
       "      <td>70000.0</td>\n",
       "      <td>0.0</td>\n",
       "      <td>https://hh.ru/vacancy/31273030?query=%D0%BF%D1...</td>\n",
       "      <td>hh.ru</td>\n",
       "      <td>Cappasity Inc.</td>\n",
       "    </tr>\n",
       "    <tr>\n",
       "      <th>1</th>\n",
       "      <td>Программист С++ (графика)</td>\n",
       "      <td>80000.0</td>\n",
       "      <td>0.0</td>\n",
       "      <td>https://hh.ru/vacancy/32543357?query=%D0%BF%D1...</td>\n",
       "      <td>hh.ru</td>\n",
       "      <td>Cappasity Inc.</td>\n",
       "    </tr>\n",
       "    <tr>\n",
       "      <th>2</th>\n",
       "      <td>Программист С++</td>\n",
       "      <td>0.0</td>\n",
       "      <td>100000.0</td>\n",
       "      <td>https://hh.ru/vacancy/32417827?query=%D0%BF%D1...</td>\n",
       "      <td>hh.ru</td>\n",
       "      <td>Группа Компаний «АМЕ»</td>\n",
       "    </tr>\n",
       "  </tbody>\n",
       "</table>\n",
       "</div>"
      ],
      "text/plain": [
       "                     vacansy  min_salary  max_salary  \\\n",
       "0         Программист С++/Qt     70000.0         0.0   \n",
       "1  Программист С++ (графика)     80000.0         0.0   \n",
       "2            Программист С++         0.0    100000.0   \n",
       "\n",
       "                                                 url source  \\\n",
       "0  https://hh.ru/vacancy/31273030?query=%D0%BF%D1...  hh.ru   \n",
       "1  https://hh.ru/vacancy/32543357?query=%D0%BF%D1...  hh.ru   \n",
       "2  https://hh.ru/vacancy/32417827?query=%D0%BF%D1...  hh.ru   \n",
       "\n",
       "                 employer  \n",
       "0          Cappasity Inc.  \n",
       "1          Cappasity Inc.  \n",
       "2   Группа Компаний «АМЕ»  "
      ]
     },
     "execution_count": 85,
     "metadata": {},
     "output_type": "execute_result"
    }
   ],
   "source": [
    "hh_df.head(3)"
   ]
  },
  {
   "cell_type": "code",
   "execution_count": 86,
   "metadata": {},
   "outputs": [
    {
     "data": {
      "text/html": [
       "<div>\n",
       "<style scoped>\n",
       "    .dataframe tbody tr th:only-of-type {\n",
       "        vertical-align: middle;\n",
       "    }\n",
       "\n",
       "    .dataframe tbody tr th {\n",
       "        vertical-align: top;\n",
       "    }\n",
       "\n",
       "    .dataframe thead th {\n",
       "        text-align: right;\n",
       "    }\n",
       "</style>\n",
       "<table border=\"1\" class=\"dataframe\">\n",
       "  <thead>\n",
       "    <tr style=\"text-align: right;\">\n",
       "      <th></th>\n",
       "      <th>vacansy</th>\n",
       "      <th>min_salary</th>\n",
       "      <th>max_salary</th>\n",
       "      <th>url</th>\n",
       "      <th>source</th>\n",
       "      <th>employer</th>\n",
       "    </tr>\n",
       "  </thead>\n",
       "  <tbody>\n",
       "    <tr>\n",
       "      <th>0</th>\n",
       "      <td>Инженер-программист / Разработчик C#</td>\n",
       "      <td>300000.0</td>\n",
       "      <td>0.0</td>\n",
       "      <td>https://www.superjob.ru/vakansii/inzhener-prog...</td>\n",
       "      <td>superjob.ru</td>\n",
       "      <td>ФГУ НПП Гамма</td>\n",
       "    </tr>\n",
       "    <tr>\n",
       "      <th>1</th>\n",
       "      <td>Инженер-программист C#</td>\n",
       "      <td>0.0</td>\n",
       "      <td>0.0</td>\n",
       "      <td>https://www.superjob.ru/vakansii/inzhener-prog...</td>\n",
       "      <td>superjob.ru</td>\n",
       "      <td>Центральная ППК</td>\n",
       "    </tr>\n",
       "    <tr>\n",
       "      <th>2</th>\n",
       "      <td>.NET Developer / Разработчик C#</td>\n",
       "      <td>0.0</td>\n",
       "      <td>0.0</td>\n",
       "      <td>https://www.superjob.ru/vakansii/net-developer...</td>\n",
       "      <td>superjob.ru</td>\n",
       "      <td>Информационные технологии</td>\n",
       "    </tr>\n",
       "  </tbody>\n",
       "</table>\n",
       "</div>"
      ],
      "text/plain": [
       "                                vacansy  min_salary  max_salary  \\\n",
       "0  Инженер-программист / Разработчик C#    300000.0         0.0   \n",
       "1                Инженер-программист C#         0.0         0.0   \n",
       "2       .NET Developer / Разработчик C#         0.0         0.0   \n",
       "\n",
       "                                                 url       source  \\\n",
       "0  https://www.superjob.ru/vakansii/inzhener-prog...  superjob.ru   \n",
       "1  https://www.superjob.ru/vakansii/inzhener-prog...  superjob.ru   \n",
       "2  https://www.superjob.ru/vakansii/net-developer...  superjob.ru   \n",
       "\n",
       "                    employer  \n",
       "0              ФГУ НПП Гамма  \n",
       "1            Центральная ППК  \n",
       "2  Информационные технологии  "
      ]
     },
     "execution_count": 86,
     "metadata": {},
     "output_type": "execute_result"
    }
   ],
   "source": [
    "sj_df.head(3)"
   ]
  },
  {
   "cell_type": "markdown",
   "metadata": {},
   "source": [
    "#### Подключаемся к БД и создаем записи"
   ]
  },
  {
   "cell_type": "code",
   "execution_count": 87,
   "metadata": {},
   "outputs": [],
   "source": [
    "client = MongoClient('localhost',27017)\n",
    "db = client['vacancys']"
   ]
  },
  {
   "cell_type": "markdown",
   "metadata": {},
   "source": [
    "#### Вставляем данные в БД"
   ]
  },
  {
   "cell_type": "code",
   "execution_count": 92,
   "metadata": {},
   "outputs": [
    {
     "data": {
      "text/plain": [
       "<pymongo.results.InsertManyResult at 0xbd20c88>"
      ]
     },
     "execution_count": 92,
     "metadata": {},
     "output_type": "execute_result"
    }
   ],
   "source": [
    "data = hh_df.to_dict(orient='records')\n",
    "hh_db = db.hh_cpp\n",
    "hh_db.insert_many(data)"
   ]
  },
  {
   "cell_type": "code",
   "execution_count": 93,
   "metadata": {},
   "outputs": [
    {
     "name": "stderr",
     "output_type": "stream",
     "text": [
      "D:\\Anaconda3\\lib\\site-packages\\ipykernel_launcher.py:1: DeprecationWarning: count is deprecated. Use estimated_document_count or count_documents instead. Please note that $where must be replaced by $expr, $near must be replaced by $geoWithin with $center, and $nearSphere must be replaced by $geoWithin with $centerSphere\n",
      "  \"\"\"Entry point for launching an IPython kernel.\n"
     ]
    },
    {
     "data": {
      "text/plain": [
       "165"
      ]
     },
     "execution_count": 93,
     "metadata": {},
     "output_type": "execute_result"
    }
   ],
   "source": [
    "hh_db.count()"
   ]
  },
  {
   "cell_type": "code",
   "execution_count": 94,
   "metadata": {},
   "outputs": [
    {
     "data": {
      "text/plain": [
       "<pymongo.results.InsertManyResult at 0xb970488>"
      ]
     },
     "execution_count": 94,
     "metadata": {},
     "output_type": "execute_result"
    }
   ],
   "source": [
    "data = sj_df.to_dict(orient='records')\n",
    "sj_db = db.sj_csharp\n",
    "sj_db.insert_many(data)"
   ]
  },
  {
   "cell_type": "code",
   "execution_count": 95,
   "metadata": {},
   "outputs": [
    {
     "name": "stderr",
     "output_type": "stream",
     "text": [
      "D:\\Anaconda3\\lib\\site-packages\\ipykernel_launcher.py:1: DeprecationWarning: count is deprecated. Use estimated_document_count or count_documents instead. Please note that $where must be replaced by $expr, $near must be replaced by $geoWithin with $center, and $nearSphere must be replaced by $geoWithin with $centerSphere\n",
      "  \"\"\"Entry point for launching an IPython kernel.\n"
     ]
    },
    {
     "data": {
      "text/plain": [
       "200"
      ]
     },
     "execution_count": 95,
     "metadata": {},
     "output_type": "execute_result"
    }
   ],
   "source": [
    "sj_db.count()"
   ]
  },
  {
   "cell_type": "markdown",
   "metadata": {},
   "source": [
    "#### Функция поиска и вывода на экран вакансий с суммой, вводимой пользователем"
   ]
  },
  {
   "cell_type": "code",
   "execution_count": 96,
   "metadata": {},
   "outputs": [],
   "source": [
    "def showVacancys(col_name):\n",
    "    salary = input('Введите сумму: ')\n",
    "    for post in col_name.find({'max_salary': {'$gt':int(salary)}}):\n",
    "        pprint(post)"
   ]
  },
  {
   "cell_type": "markdown",
   "metadata": {},
   "source": [
    "#### Демонстрация работы функции"
   ]
  },
  {
   "cell_type": "code",
   "execution_count": 97,
   "metadata": {},
   "outputs": [
    {
     "name": "stdout",
     "output_type": "stream",
     "text": [
      "Введите сумму: 100000\n",
      "{'_id': ObjectId('5d7fbdefa88bb059034219a6'),\n",
      " 'employer': ' МСК БЛ ГРУПП',\n",
      " 'max_salary': 150000.0,\n",
      " 'min_salary': 0.0,\n",
      " 'source': 'hh.ru',\n",
      " 'url': 'https://hh.ru/vacancy/33514106?query=%D0%BF%D1%80%D0%BE%D0%B3%D1%80%D0%B0%D0%BC%D0%BC%D0%B8%D1%81%D1%82%20%D1%81%2B%2B',\n",
      " 'vacansy': 'Программист С++'}\n",
      "{'_id': ObjectId('5d7fbdefa88bb059034219ac'),\n",
      " 'employer': ' ФОРМ',\n",
      " 'max_salary': 170000.0,\n",
      " 'min_salary': 115000.0,\n",
      " 'source': 'hh.ru',\n",
      " 'url': 'https://hh.ru/vacancy/33289931?query=%D0%BF%D1%80%D0%BE%D0%B3%D1%80%D0%B0%D0%BC%D0%BC%D0%B8%D1%81%D1%82%20%D1%81%2B%2B',\n",
      " 'vacansy': 'Ведущий инженер-программист С++'}\n",
      "{'_id': ObjectId('5d7fbdefa88bb059034219b0'),\n",
      " 'employer': ' ЮРИОН',\n",
      " 'max_salary': 110000.0,\n",
      " 'min_salary': 90000.0,\n",
      " 'source': 'hh.ru',\n",
      " 'url': 'https://hh.ru/vacancy/33483197?query=%D0%BF%D1%80%D0%BE%D0%B3%D1%80%D0%B0%D0%BC%D0%BC%D0%B8%D1%81%D1%82%20%D1%81%2B%2B',\n",
      " 'vacansy': 'Программист С++'}\n",
      "{'_id': ObjectId('5d7fbdefa88bb059034219b2'),\n",
      " 'employer': 'ООО НПО ПКРВ',\n",
      " 'max_salary': 140000.0,\n",
      " 'min_salary': 80000.0,\n",
      " 'source': 'hh.ru',\n",
      " 'url': 'https://hh.ru/vacancy/33515950?query=%D0%BF%D1%80%D0%BE%D0%B3%D1%80%D0%B0%D0%BC%D0%BC%D0%B8%D1%81%D1%82%20%D1%81%2B%2B',\n",
      " 'vacansy': 'Ведущий программист С++'}\n",
      "{'_id': ObjectId('5d7fbdefa88bb059034219b3'),\n",
      " 'employer': 'ООО Финстарлабс',\n",
      " 'max_salary': 130000.0,\n",
      " 'min_salary': 100000.0,\n",
      " 'source': 'hh.ru',\n",
      " 'url': 'https://hh.ru/vacancy/33173099?query=%D0%BF%D1%80%D0%BE%D0%B3%D1%80%D0%B0%D0%BC%D0%BC%D0%B8%D1%81%D1%82%20%D1%81%2B%2B',\n",
      " 'vacansy': 'Программист С++'}\n",
      "{'_id': ObjectId('5d7fbdefa88bb059034219ba'),\n",
      " 'employer': ' Комтех-Н',\n",
      " 'max_salary': 150000.0,\n",
      " 'min_salary': 0.0,\n",
      " 'source': 'hh.ru',\n",
      " 'url': 'https://hh.ru/vacancy/33165016?query=%D0%BF%D1%80%D0%BE%D0%B3%D1%80%D0%B0%D0%BC%D0%BC%D0%B8%D1%81%D1%82%20%D1%81%2B%2B',\n",
      " 'vacansy': 'Программист С++'}\n",
      "{'_id': ObjectId('5d7fbdefa88bb059034219c0'),\n",
      " 'employer': ' Никс',\n",
      " 'max_salary': 170000.0,\n",
      " 'min_salary': 115000.0,\n",
      " 'source': 'hh.ru',\n",
      " 'url': 'https://hh.ru/vacancy/32985391?query=%D0%BF%D1%80%D0%BE%D0%B3%D1%80%D0%B0%D0%BC%D0%BC%D0%B8%D1%81%D1%82%20%D1%81%2B%2B',\n",
      " 'vacansy': 'Программист С/C++'}\n",
      "{'_id': ObjectId('5d7fbdefa88bb059034219c4'),\n",
      " 'employer': 'ООО СКАТТ Электроникс',\n",
      " 'max_salary': 110000.0,\n",
      " 'min_salary': 90000.0,\n",
      " 'source': 'hh.ru',\n",
      " 'url': 'https://hh.ru/vacancy/33258509?query=%D0%BF%D1%80%D0%BE%D0%B3%D1%80%D0%B0%D0%BC%D0%BC%D0%B8%D1%81%D1%82%20%D1%81%2B%2B',\n",
      " 'vacansy': 'Программист С++/Qt'}\n",
      "{'_id': ObjectId('5d7fbdefa88bb059034219c6'),\n",
      " 'employer': 'ООО Ребус Кэпитал',\n",
      " 'max_salary': 140000.0,\n",
      " 'min_salary': 80000.0,\n",
      " 'source': 'hh.ru',\n",
      " 'url': 'https://hh.ru/vacancy/32958264?query=%D0%BF%D1%80%D0%BE%D0%B3%D1%80%D0%B0%D0%BC%D0%BC%D0%B8%D1%81%D1%82%20%D1%81%2B%2B',\n",
      " 'vacansy': 'Программист С++ / Разработчик C++'}\n",
      "{'_id': ObjectId('5d7fbdefa88bb059034219c7'),\n",
      " 'employer': 'ООО Битбокс',\n",
      " 'max_salary': 130000.0,\n",
      " 'min_salary': 100000.0,\n",
      " 'source': 'hh.ru',\n",
      " 'url': 'https://hh.ru/vacancy/33114472?query=%D0%BF%D1%80%D0%BE%D0%B3%D1%80%D0%B0%D0%BC%D0%BC%D0%B8%D1%81%D1%82%20%D1%81%2B%2B',\n",
      " 'vacansy': 'Программист С ++'}\n",
      "{'_id': ObjectId('5d7fbdefa88bb059034219e2'),\n",
      " 'employer': ' Гарант',\n",
      " 'max_salary': 150000.0,\n",
      " 'min_salary': 0.0,\n",
      " 'source': 'hh.ru',\n",
      " 'url': 'https://hh.ru/vacancy/31589908?query=%D0%BF%D1%80%D0%BE%D0%B3%D1%80%D0%B0%D0%BC%D0%BC%D0%B8%D1%81%D1%82%20%D1%81%2B%2B',\n",
      " 'vacansy': 'Программист C/С++'}\n",
      "{'_id': ObjectId('5d7fbdefa88bb059034219e8'),\n",
      " 'employer': ' BeeJee',\n",
      " 'max_salary': 170000.0,\n",
      " 'min_salary': 115000.0,\n",
      " 'source': 'hh.ru',\n",
      " 'url': 'https://hh.ru/vacancy/32455941?query=%D0%BF%D1%80%D0%BE%D0%B3%D1%80%D0%B0%D0%BC%D0%BC%D0%B8%D1%81%D1%82%20%D1%81%2B%2B',\n",
      " 'vacansy': 'Web-разработчик (Node.js, React)'}\n",
      "{'_id': ObjectId('5d7fbdefa88bb059034219ec'),\n",
      " 'employer': ' BeeTL, Агентство интегрированных коммуникаций',\n",
      " 'max_salary': 110000.0,\n",
      " 'min_salary': 90000.0,\n",
      " 'source': 'hh.ru',\n",
      " 'url': 'https://hh.ru/vacancy/32570125?query=%D0%BF%D1%80%D0%BE%D0%B3%D1%80%D0%B0%D0%BC%D0%BC%D0%B8%D1%81%D1%82%20%D1%81%2B%2B',\n",
      " 'vacansy': 'Разработчик ПО / Программист'}\n",
      "{'_id': ObjectId('5d7fbdefa88bb059034219ee'),\n",
      " 'employer': ' Rock Flow Dynamics',\n",
      " 'max_salary': 140000.0,\n",
      " 'min_salary': 80000.0,\n",
      " 'source': 'hh.ru',\n",
      " 'url': 'https://hh.ru/vacancy/33419363?query=%D0%BF%D1%80%D0%BE%D0%B3%D1%80%D0%B0%D0%BC%D0%BC%D0%B8%D1%81%D1%82%20%D1%81%2B%2B',\n",
      " 'vacansy': 'Математик-программист (С++)'}\n",
      "{'_id': ObjectId('5d7fbdefa88bb059034219ef'),\n",
      " 'employer': 'ООО ТСС',\n",
      " 'max_salary': 130000.0,\n",
      " 'min_salary': 100000.0,\n",
      " 'source': 'hh.ru',\n",
      " 'url': 'https://hh.ru/vacancy/32723734?query=%D0%BF%D1%80%D0%BE%D0%B3%D1%80%D0%B0%D0%BC%D0%BC%D0%B8%D1%81%D1%82%20%D1%81%2B%2B',\n",
      " 'vacansy': 'Ведущий разработчик ПО / Системный программист (C,C++, Linux)'}\n",
      "{'_id': ObjectId('5d7fbdefa88bb05903421a1e'),\n",
      " 'employer': ' The Skolkovo Institute of Science and Technology',\n",
      " 'max_salary': 150000.0,\n",
      " 'min_salary': 0.0,\n",
      " 'source': 'hh.ru',\n",
      " 'url': 'https://hh.ru/vacancy/33285304?query=%D0%BF%D1%80%D0%BE%D0%B3%D1%80%D0%B0%D0%BC%D0%BC%D0%B8%D1%81%D1%82%20%D1%81%2B%2B',\n",
      " 'vacansy': 'Инженер – программист C/C++ в проект \"Интернет вещей\"'}\n",
      "{'_id': ObjectId('5d7fbdefa88bb05903421a24'),\n",
      " 'employer': 'ООО НПП МЕРА',\n",
      " 'max_salary': 170000.0,\n",
      " 'min_salary': 115000.0,\n",
      " 'source': 'hh.ru',\n",
      " 'url': 'https://hh.ru/vacancy/33142485?query=%D0%BF%D1%80%D0%BE%D0%B3%D1%80%D0%B0%D0%BC%D0%BC%D0%B8%D1%81%D1%82%20%D1%81%2B%2B',\n",
      " 'vacansy': 'Программист C/С++ под Linux'}\n",
      "{'_id': ObjectId('5d7fbdefa88bb05903421a28'),\n",
      " 'employer': 'АО Мособлгаз',\n",
      " 'max_salary': 110000.0,\n",
      " 'min_salary': 90000.0,\n",
      " 'source': 'hh.ru',\n",
      " 'url': 'https://hh.ru/vacancy/32830597?query=%D0%BF%D1%80%D0%BE%D0%B3%D1%80%D0%B0%D0%BC%D0%BC%D0%B8%D1%81%D1%82%20%D1%81%2B%2B',\n",
      " 'vacansy': 'Ведущий программист С++ проекты в сфере IoT'}\n",
      "{'_id': ObjectId('5d7fbdefa88bb05903421a2a'),\n",
      " 'employer': ' Открытая Мобильная Платформа',\n",
      " 'max_salary': 140000.0,\n",
      " 'min_salary': 80000.0,\n",
      " 'source': 'hh.ru',\n",
      " 'url': 'https://hh.ru/vacancy/29727630?query=%D0%BF%D1%80%D0%BE%D0%B3%D1%80%D0%B0%D0%BC%D0%BC%D0%B8%D1%81%D1%82%20%D1%81%2B%2B',\n",
      " 'vacansy': 'Системный программист С/С++ (разработка ОС)'}\n",
      "{'_id': ObjectId('5d7fbdefa88bb05903421a2b'),\n",
      " 'employer': 'ООО АМИКОН',\n",
      " 'max_salary': 130000.0,\n",
      " 'min_salary': 100000.0,\n",
      " 'source': 'hh.ru',\n",
      " 'url': 'https://hh.ru/vacancy/31546434?query=%D0%BF%D1%80%D0%BE%D0%B3%D1%80%D0%B0%D0%BC%D0%BC%D0%B8%D1%81%D1%82%20%D1%81%2B%2B',\n",
      " 'vacansy': 'Программист (C, Linux)'}\n"
     ]
    }
   ],
   "source": [
    "showVacancys(hh_db)"
   ]
  },
  {
   "cell_type": "code",
   "execution_count": 98,
   "metadata": {},
   "outputs": [
    {
     "name": "stdout",
     "output_type": "stream",
     "text": [
      "Введите сумму: 100000\n",
      "{'_id': ObjectId('5d7fbdf4a88bb05903421a4c'),\n",
      " 'employer': 'Минерал-Инфо',\n",
      " 'max_salary': 200000.0,\n",
      " 'min_salary': 150000.0,\n",
      " 'source': 'superjob.ru',\n",
      " 'url': 'https://www.superjob.ru/vakansii/web-programmist-29723693.html',\n",
      " 'vacansy': 'Web-программист / Web-разработчик'}\n",
      "{'_id': ObjectId('5d7fbdf4a88bb05903421a50'),\n",
      " 'employer': 'Кадровый Центр на Сокольнической Площади',\n",
      " 'max_salary': 250000.0,\n",
      " 'min_salary': 150000.0,\n",
      " 'source': 'superjob.ru',\n",
      " 'url': 'https://www.superjob.ru/vakansii/razrabotchik-c-32357613.html',\n",
      " 'vacansy': 'Разработчик C#'}\n",
      "{'_id': ObjectId('5d7fbdf4a88bb05903421a51'),\n",
      " 'employer': '«Группа ГУТА»',\n",
      " 'max_salary': 190000.0,\n",
      " 'min_salary': 150000.0,\n",
      " 'source': 'superjob.ru',\n",
      " 'url': 'https://www.superjob.ru/vakansii/full-stack-developer-32491461.html',\n",
      " 'vacansy': 'Full-Stack developer (Angular, C#, .NET)'}\n",
      "{'_id': ObjectId('5d7fbdf4a88bb05903421a58'),\n",
      " 'employer': 'НПП Гарант Сервис Университет',\n",
      " 'max_salary': 140000.0,\n",
      " 'min_salary': 120000.0,\n",
      " 'source': 'superjob.ru',\n",
      " 'url': 'https://www.superjob.ru/vakansii/programmist-31847462.html',\n",
      " 'vacansy': 'Программист .Net (full-stack)'}\n",
      "{'_id': ObjectId('5d7fbdf4a88bb05903421a60'),\n",
      " 'employer': 'Минерал-Инфо',\n",
      " 'max_salary': 200000.0,\n",
      " 'min_salary': 150000.0,\n",
      " 'source': 'superjob.ru',\n",
      " 'url': 'https://www.superjob.ru/vakansii/web-programmist-29723693.html',\n",
      " 'vacansy': 'Web-программист / Web-разработчик'}\n",
      "{'_id': ObjectId('5d7fbdf4a88bb05903421a64'),\n",
      " 'employer': 'Кадровый Центр на Сокольнической Площади',\n",
      " 'max_salary': 250000.0,\n",
      " 'min_salary': 150000.0,\n",
      " 'source': 'superjob.ru',\n",
      " 'url': 'https://www.superjob.ru/vakansii/razrabotchik-c-32357613.html',\n",
      " 'vacansy': 'Разработчик C#'}\n",
      "{'_id': ObjectId('5d7fbdf4a88bb05903421a65'),\n",
      " 'employer': '«Группа ГУТА»',\n",
      " 'max_salary': 190000.0,\n",
      " 'min_salary': 150000.0,\n",
      " 'source': 'superjob.ru',\n",
      " 'url': 'https://www.superjob.ru/vakansii/full-stack-developer-32491461.html',\n",
      " 'vacansy': 'Full-Stack developer (Angular, C#, .NET)'}\n",
      "{'_id': ObjectId('5d7fbdf4a88bb05903421a6c'),\n",
      " 'employer': 'НПП Гарант Сервис Университет',\n",
      " 'max_salary': 140000.0,\n",
      " 'min_salary': 120000.0,\n",
      " 'source': 'superjob.ru',\n",
      " 'url': 'https://www.superjob.ru/vakansii/programmist-31847462.html',\n",
      " 'vacansy': 'Программист .Net (full-stack)'}\n",
      "{'_id': ObjectId('5d7fbdf4a88bb05903421a88'),\n",
      " 'employer': 'Минерал-Инфо',\n",
      " 'max_salary': 200000.0,\n",
      " 'min_salary': 150000.0,\n",
      " 'source': 'superjob.ru',\n",
      " 'url': 'https://www.superjob.ru/vakansii/web-programmist-29723693.html',\n",
      " 'vacansy': 'Web-программист / Web-разработчик'}\n",
      "{'_id': ObjectId('5d7fbdf4a88bb05903421a8c'),\n",
      " 'employer': 'Кадровый Центр на Сокольнической Площади',\n",
      " 'max_salary': 250000.0,\n",
      " 'min_salary': 150000.0,\n",
      " 'source': 'superjob.ru',\n",
      " 'url': 'https://www.superjob.ru/vakansii/razrabotchik-c-32357613.html',\n",
      " 'vacansy': 'Разработчик C#'}\n",
      "{'_id': ObjectId('5d7fbdf4a88bb05903421a8d'),\n",
      " 'employer': '«Группа ГУТА»',\n",
      " 'max_salary': 190000.0,\n",
      " 'min_salary': 150000.0,\n",
      " 'source': 'superjob.ru',\n",
      " 'url': 'https://www.superjob.ru/vakansii/full-stack-developer-32491461.html',\n",
      " 'vacansy': 'Full-Stack developer (Angular, C#, .NET)'}\n",
      "{'_id': ObjectId('5d7fbdf4a88bb05903421a94'),\n",
      " 'employer': 'НПП Гарант Сервис Университет',\n",
      " 'max_salary': 140000.0,\n",
      " 'min_salary': 120000.0,\n",
      " 'source': 'superjob.ru',\n",
      " 'url': 'https://www.superjob.ru/vakansii/programmist-31847462.html',\n",
      " 'vacansy': 'Программист .Net (full-stack)'}\n",
      "{'_id': ObjectId('5d7fbdf4a88bb05903421ac4'),\n",
      " 'employer': 'Минерал-Инфо',\n",
      " 'max_salary': 200000.0,\n",
      " 'min_salary': 150000.0,\n",
      " 'source': 'superjob.ru',\n",
      " 'url': 'https://www.superjob.ru/vakansii/web-programmist-29723693.html',\n",
      " 'vacansy': 'Web-программист / Web-разработчик'}\n",
      "{'_id': ObjectId('5d7fbdf4a88bb05903421ac8'),\n",
      " 'employer': 'Кадровый Центр на Сокольнической Площади',\n",
      " 'max_salary': 250000.0,\n",
      " 'min_salary': 150000.0,\n",
      " 'source': 'superjob.ru',\n",
      " 'url': 'https://www.superjob.ru/vakansii/razrabotchik-c-32357613.html',\n",
      " 'vacansy': 'Разработчик C#'}\n",
      "{'_id': ObjectId('5d7fbdf4a88bb05903421ac9'),\n",
      " 'employer': '«Группа ГУТА»',\n",
      " 'max_salary': 190000.0,\n",
      " 'min_salary': 150000.0,\n",
      " 'source': 'superjob.ru',\n",
      " 'url': 'https://www.superjob.ru/vakansii/full-stack-developer-32491461.html',\n",
      " 'vacansy': 'Full-Stack developer (Angular, C#, .NET)'}\n",
      "{'_id': ObjectId('5d7fbdf4a88bb05903421ad0'),\n",
      " 'employer': 'НПП Гарант Сервис Университет',\n",
      " 'max_salary': 140000.0,\n",
      " 'min_salary': 120000.0,\n",
      " 'source': 'superjob.ru',\n",
      " 'url': 'https://www.superjob.ru/vakansii/programmist-31847462.html',\n",
      " 'vacansy': 'Программист .Net (full-stack)'}\n"
     ]
    }
   ],
   "source": [
    "showVacancys(sj_db)"
   ]
  },
  {
   "cell_type": "code",
   "execution_count": 99,
   "metadata": {},
   "outputs": [
    {
     "data": {
      "text/html": [
       "<div>\n",
       "<style scoped>\n",
       "    .dataframe tbody tr th:only-of-type {\n",
       "        vertical-align: middle;\n",
       "    }\n",
       "\n",
       "    .dataframe tbody tr th {\n",
       "        vertical-align: top;\n",
       "    }\n",
       "\n",
       "    .dataframe thead th {\n",
       "        text-align: right;\n",
       "    }\n",
       "</style>\n",
       "<table border=\"1\" class=\"dataframe\">\n",
       "  <thead>\n",
       "    <tr style=\"text-align: right;\">\n",
       "      <th></th>\n",
       "      <th>vacansy</th>\n",
       "      <th>min_salary</th>\n",
       "      <th>max_salary</th>\n",
       "      <th>url</th>\n",
       "      <th>source</th>\n",
       "      <th>employer</th>\n",
       "    </tr>\n",
       "  </thead>\n",
       "  <tbody>\n",
       "    <tr>\n",
       "      <th>160</th>\n",
       "      <td>Системный программист С (Linux)</td>\n",
       "      <td>0.0</td>\n",
       "      <td>0.0</td>\n",
       "      <td>https://hh.ru/vacancy/22958995?query=%D0%BF%D1...</td>\n",
       "      <td>hh.ru</td>\n",
       "      <td>Русские базовые информационные технологии, На...</td>\n",
       "    </tr>\n",
       "    <tr>\n",
       "      <th>161</th>\n",
       "      <td>System Engineer Embedded Linux</td>\n",
       "      <td>0.0</td>\n",
       "      <td>0.0</td>\n",
       "      <td>https://hh.ru/vacancy/33059759?query=%D0%BF%D1...</td>\n",
       "      <td>hh.ru</td>\n",
       "      <td>InterJob (Анташкевич И. О.)</td>\n",
       "    </tr>\n",
       "    <tr>\n",
       "      <th>162</th>\n",
       "      <td>Системный программист в отдел адаптации Sailfi...</td>\n",
       "      <td>0.0</td>\n",
       "      <td>0.0</td>\n",
       "      <td>https://hh.ru/vacancy/29727812?query=%D0%BF%D1...</td>\n",
       "      <td>hh.ru</td>\n",
       "      <td>Открытая Мобильная Платформа</td>\n",
       "    </tr>\n",
       "    <tr>\n",
       "      <th>163</th>\n",
       "      <td>Старший математик-программист</td>\n",
       "      <td>0.0</td>\n",
       "      <td>0.0</td>\n",
       "      <td>https://hh.ru/vacancy/27444585?query=%D0%BF%D1...</td>\n",
       "      <td>hh.ru</td>\n",
       "      <td>НСК</td>\n",
       "    </tr>\n",
       "    <tr>\n",
       "      <th>164</th>\n",
       "      <td>Архитектор 1С УХ</td>\n",
       "      <td>80.0</td>\n",
       "      <td>0.0</td>\n",
       "      <td>https://hh.ru/vacancy/33077576?query=%D0%BF%D1...</td>\n",
       "      <td>hh.ru</td>\n",
       "      <td>ООО Вератис</td>\n",
       "    </tr>\n",
       "  </tbody>\n",
       "</table>\n",
       "</div>"
      ],
      "text/plain": [
       "                                               vacansy  min_salary  \\\n",
       "160                    Системный программист С (Linux)         0.0   \n",
       "161                     System Engineer Embedded Linux         0.0   \n",
       "162  Системный программист в отдел адаптации Sailfi...         0.0   \n",
       "163                      Старший математик-программист         0.0   \n",
       "164                                   Архитектор 1С УХ        80.0   \n",
       "\n",
       "     max_salary                                                url source  \\\n",
       "160         0.0  https://hh.ru/vacancy/22958995?query=%D0%BF%D1...  hh.ru   \n",
       "161         0.0  https://hh.ru/vacancy/33059759?query=%D0%BF%D1...  hh.ru   \n",
       "162         0.0  https://hh.ru/vacancy/29727812?query=%D0%BF%D1...  hh.ru   \n",
       "163         0.0  https://hh.ru/vacancy/27444585?query=%D0%BF%D1...  hh.ru   \n",
       "164         0.0  https://hh.ru/vacancy/33077576?query=%D0%BF%D1...  hh.ru   \n",
       "\n",
       "                                              employer  \n",
       "160   Русские базовые информационные технологии, На...  \n",
       "161                        InterJob (Анташкевич И. О.)  \n",
       "162                       Открытая Мобильная Платформа  \n",
       "163                                                НСК  \n",
       "164                                        ООО Вератис  "
      ]
     },
     "execution_count": 99,
     "metadata": {},
     "output_type": "execute_result"
    }
   ],
   "source": [
    "hh_df.tail()"
   ]
  },
  {
   "cell_type": "code",
   "execution_count": 69,
   "metadata": {},
   "outputs": [],
   "source": [
    "hh_df2.drop(hh_df2.index, inplace=True)"
   ]
  },
  {
   "cell_type": "code",
   "execution_count": 100,
   "metadata": {},
   "outputs": [],
   "source": [
    "hh_df2 = pd.DataFrame({'vacansy':['new_vacancy','new_vacancy2'], \n",
    "                       'min_salary':[999999,999999],\n",
    "                       'max_salary':[999999,999999],\n",
    "                       'url':['new_url','new_url2'],\n",
    "                       'source':['hh.ru','hh.ru'],\n",
    "                       'employer':['new_employer','new_employer2']}) "
   ]
  },
  {
   "cell_type": "code",
   "execution_count": 101,
   "metadata": {},
   "outputs": [
    {
     "data": {
      "text/html": [
       "<div>\n",
       "<style scoped>\n",
       "    .dataframe tbody tr th:only-of-type {\n",
       "        vertical-align: middle;\n",
       "    }\n",
       "\n",
       "    .dataframe tbody tr th {\n",
       "        vertical-align: top;\n",
       "    }\n",
       "\n",
       "    .dataframe thead th {\n",
       "        text-align: right;\n",
       "    }\n",
       "</style>\n",
       "<table border=\"1\" class=\"dataframe\">\n",
       "  <thead>\n",
       "    <tr style=\"text-align: right;\">\n",
       "      <th></th>\n",
       "      <th>vacansy</th>\n",
       "      <th>min_salary</th>\n",
       "      <th>max_salary</th>\n",
       "      <th>url</th>\n",
       "      <th>source</th>\n",
       "      <th>employer</th>\n",
       "    </tr>\n",
       "  </thead>\n",
       "  <tbody>\n",
       "    <tr>\n",
       "      <th>0</th>\n",
       "      <td>new_vacancy</td>\n",
       "      <td>999999</td>\n",
       "      <td>999999</td>\n",
       "      <td>new_url</td>\n",
       "      <td>hh.ru</td>\n",
       "      <td>new_employer</td>\n",
       "    </tr>\n",
       "    <tr>\n",
       "      <th>1</th>\n",
       "      <td>new_vacancy2</td>\n",
       "      <td>999999</td>\n",
       "      <td>999999</td>\n",
       "      <td>new_url2</td>\n",
       "      <td>hh.ru</td>\n",
       "      <td>new_employer2</td>\n",
       "    </tr>\n",
       "  </tbody>\n",
       "</table>\n",
       "</div>"
      ],
      "text/plain": [
       "        vacansy  min_salary  max_salary       url source       employer\n",
       "0   new_vacancy      999999      999999   new_url  hh.ru   new_employer\n",
       "1  new_vacancy2      999999      999999  new_url2  hh.ru  new_employer2"
      ]
     },
     "execution_count": 101,
     "metadata": {},
     "output_type": "execute_result"
    }
   ],
   "source": [
    "hh_df2.head(10)"
   ]
  },
  {
   "cell_type": "code",
   "execution_count": 102,
   "metadata": {},
   "outputs": [],
   "source": [
    "hh_df = hh_df.append(hh_df2, ignore_index = True) "
   ]
  },
  {
   "cell_type": "code",
   "execution_count": 103,
   "metadata": {},
   "outputs": [
    {
     "data": {
      "text/html": [
       "<div>\n",
       "<style scoped>\n",
       "    .dataframe tbody tr th:only-of-type {\n",
       "        vertical-align: middle;\n",
       "    }\n",
       "\n",
       "    .dataframe tbody tr th {\n",
       "        vertical-align: top;\n",
       "    }\n",
       "\n",
       "    .dataframe thead th {\n",
       "        text-align: right;\n",
       "    }\n",
       "</style>\n",
       "<table border=\"1\" class=\"dataframe\">\n",
       "  <thead>\n",
       "    <tr style=\"text-align: right;\">\n",
       "      <th></th>\n",
       "      <th>vacansy</th>\n",
       "      <th>min_salary</th>\n",
       "      <th>max_salary</th>\n",
       "      <th>url</th>\n",
       "      <th>source</th>\n",
       "      <th>employer</th>\n",
       "    </tr>\n",
       "  </thead>\n",
       "  <tbody>\n",
       "    <tr>\n",
       "      <th>162</th>\n",
       "      <td>Системный программист в отдел адаптации Sailfi...</td>\n",
       "      <td>0.0</td>\n",
       "      <td>0.0</td>\n",
       "      <td>https://hh.ru/vacancy/29727812?query=%D0%BF%D1...</td>\n",
       "      <td>hh.ru</td>\n",
       "      <td>Открытая Мобильная Платформа</td>\n",
       "    </tr>\n",
       "    <tr>\n",
       "      <th>163</th>\n",
       "      <td>Старший математик-программист</td>\n",
       "      <td>0.0</td>\n",
       "      <td>0.0</td>\n",
       "      <td>https://hh.ru/vacancy/27444585?query=%D0%BF%D1...</td>\n",
       "      <td>hh.ru</td>\n",
       "      <td>НСК</td>\n",
       "    </tr>\n",
       "    <tr>\n",
       "      <th>164</th>\n",
       "      <td>Архитектор 1С УХ</td>\n",
       "      <td>80.0</td>\n",
       "      <td>0.0</td>\n",
       "      <td>https://hh.ru/vacancy/33077576?query=%D0%BF%D1...</td>\n",
       "      <td>hh.ru</td>\n",
       "      <td>ООО Вератис</td>\n",
       "    </tr>\n",
       "    <tr>\n",
       "      <th>165</th>\n",
       "      <td>new_vacancy</td>\n",
       "      <td>999999.0</td>\n",
       "      <td>999999.0</td>\n",
       "      <td>new_url</td>\n",
       "      <td>hh.ru</td>\n",
       "      <td>new_employer</td>\n",
       "    </tr>\n",
       "    <tr>\n",
       "      <th>166</th>\n",
       "      <td>new_vacancy2</td>\n",
       "      <td>999999.0</td>\n",
       "      <td>999999.0</td>\n",
       "      <td>new_url2</td>\n",
       "      <td>hh.ru</td>\n",
       "      <td>new_employer2</td>\n",
       "    </tr>\n",
       "  </tbody>\n",
       "</table>\n",
       "</div>"
      ],
      "text/plain": [
       "                                               vacansy  min_salary  \\\n",
       "162  Системный программист в отдел адаптации Sailfi...         0.0   \n",
       "163                      Старший математик-программист         0.0   \n",
       "164                                   Архитектор 1С УХ        80.0   \n",
       "165                                        new_vacancy    999999.0   \n",
       "166                                       new_vacancy2    999999.0   \n",
       "\n",
       "     max_salary                                                url source  \\\n",
       "162         0.0  https://hh.ru/vacancy/29727812?query=%D0%BF%D1...  hh.ru   \n",
       "163         0.0  https://hh.ru/vacancy/27444585?query=%D0%BF%D1...  hh.ru   \n",
       "164         0.0  https://hh.ru/vacancy/33077576?query=%D0%BF%D1...  hh.ru   \n",
       "165    999999.0                                            new_url  hh.ru   \n",
       "166    999999.0                                           new_url2  hh.ru   \n",
       "\n",
       "                          employer  \n",
       "162   Открытая Мобильная Платформа  \n",
       "163                            НСК  \n",
       "164                    ООО Вератис  \n",
       "165                   new_employer  \n",
       "166                  new_employer2  "
      ]
     },
     "execution_count": 103,
     "metadata": {},
     "output_type": "execute_result"
    }
   ],
   "source": [
    "hh_df.tail()"
   ]
  },
  {
   "cell_type": "code",
   "execution_count": 132,
   "metadata": {},
   "outputs": [],
   "source": [
    "def col_update(col_name, df):\n",
    "    data = df.to_dict(orient='records')\n",
    "    for i,item in enumerate(data): \n",
    "        col_name.update_one({ 'url': { 'url': data[i]['url'] } ,\n",
    "                                'vacansy': { 'vacansy': data[i]['vacansy'] } ,\n",
    "                                'min_salary': { 'min_salary': data[i]['min_salary'] } ,\n",
    "                                'max_salary': { 'max_salary': data[i]['max_salary'] } ,\n",
    "                                'source': { 'source': data[i]['source'] } ,\n",
    "                                'employer': { 'employer': data[i]['employer'] }},\n",
    "                            {'$set': { \"vacansy\" : data[i]['vacansy'],\n",
    "                                \"min_salary\" : data[i]['min_salary'],\n",
    "                                \"max_salary\" : data[i]['max_salary'],\n",
    "                                \"url\" : data[i]['url'],\n",
    "                                \"source\" : data[i]['source'],\n",
    "                                \"employer\" : data[i]['employer']\n",
    "                                     }\n",
    "                            } ,upsert=True)"
   ]
  },
  {
   "cell_type": "code",
   "execution_count": 133,
   "metadata": {},
   "outputs": [],
   "source": [
    "col_update(hh_db, hh_df2)"
   ]
  },
  {
   "cell_type": "code",
   "execution_count": 135,
   "metadata": {},
   "outputs": [
    {
     "name": "stdout",
     "output_type": "stream",
     "text": [
      "Введите сумму: 999000\n",
      "{'_id': ObjectId('5d7fe41599dae9ef1e8fcb9a'),\n",
      " 'employer': 'new_employer',\n",
      " 'max_salary': 999999,\n",
      " 'min_salary': 999999,\n",
      " 'source': 'hh.ru',\n",
      " 'url': 'new_url',\n",
      " 'vacansy': 'new_vacancy'}\n",
      "{'_id': ObjectId('5d7fe41599dae9ef1e8fcb9c'),\n",
      " 'employer': 'new_employer2',\n",
      " 'max_salary': 999999,\n",
      " 'min_salary': 999999,\n",
      " 'source': 'hh.ru',\n",
      " 'url': 'new_url2',\n",
      " 'vacansy': 'new_vacancy2'}\n"
     ]
    }
   ],
   "source": [
    "showVacancys(hh_db)"
   ]
  }
 ],
 "metadata": {
  "kernelspec": {
   "display_name": "Python 3",
   "language": "python",
   "name": "python3"
  },
  "language_info": {
   "codemirror_mode": {
    "name": "ipython",
    "version": 3
   },
   "file_extension": ".py",
   "mimetype": "text/x-python",
   "name": "python",
   "nbconvert_exporter": "python",
   "pygments_lexer": "ipython3",
   "version": "3.7.3"
  }
 },
 "nbformat": 4,
 "nbformat_minor": 2
}

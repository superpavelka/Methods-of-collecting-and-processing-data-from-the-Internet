{
 "cells": [
  {
   "cell_type": "markdown",
   "metadata": {},
   "source": [
    "1) Необходимо собрать информацию о вакансиях на вводимую должность (используем input или через аргументы) с сайта superjob.ru и hh.ru. Приложение должно анализировать несколько страниц сайта(также вводим через input или аргументы). Получившийся список должен содержать в себе минимум:\n",
    "\n",
    "        *Наименование вакансии\n",
    "        *Предлагаемую зарплату (отдельно мин. и и отдельно макс.)\n",
    "        *Ссылку на саму вакансию        \n",
    "        *Сайт откуда собрана вакансия\n",
    "По своему желанию можно добавить еще работодателя и расположение. Данная структура должна быть одинаковая для вакансий с обоих сайтов. Общий результат можно вывести с помощью dataFrame через pandas.\n",
    "\n",
    "2)Задание похожее, но подход к сбору данных здесь другой.\n",
    "Необходимо собрать информацию по продуктам питания с сайтов: https://rskrf.ru/ratings/produkty-pitaniya/ и https://roscontrol.com/category/produkti/ Получившийся список должен содержать:\n",
    "\n",
    "        *Наименование продукта\n",
    "        *Категорию продукта        (например Бакалея)\n",
    "        *Подкатегорию продукта    (апример \"Рис круглозерный\")\n",
    "        *Параметр \"безопасность\"\n",
    "        *Параметр \"качество\"\n",
    "        *Общий балл\n",
    "        *Сайт, откуда получена информация\n",
    "Данная структура должна быть одинаковая для продуктов с обоих сайтов. Общий результат можно вывести с помощью dataFrame через pandas.\n",
    "\n",
    "Можно выполнить по своему желанию одно любое задание или оба при желании и возможности."
   ]
  },
  {
   "cell_type": "markdown",
   "metadata": {},
   "source": [
    "## Задание 1:"
   ]
  },
  {
   "cell_type": "markdown",
   "metadata": {},
   "source": [
    "### hh.ru"
   ]
  },
  {
   "cell_type": "markdown",
   "metadata": {},
   "source": [
    "#### Импорт необходимых библиотек:"
   ]
  },
  {
   "cell_type": "code",
   "execution_count": 11,
   "metadata": {},
   "outputs": [],
   "source": [
    "from pprint import pprint\n",
    "from bs4 import BeautifulSoup as bs\n",
    "import requests\n",
    "import re\n",
    "import pandas as pd\n",
    "import time"
   ]
  },
  {
   "cell_type": "markdown",
   "metadata": {},
   "source": [
    "#### Ввод названия вакансии:"
   ]
  },
  {
   "cell_type": "code",
   "execution_count": 720,
   "metadata": {},
   "outputs": [
    {
     "name": "stdout",
     "output_type": "stream",
     "text": [
      "Введите название вакансии:программист с++\n"
     ]
    }
   ],
   "source": [
    "vacancy = input(\"Введите название вакансии:\")\n",
    "vacancy = re.sub('\\+',\"%2B\",vacancy);\n",
    "vacancy = re.sub('#',\"%23\",vacancy);\n",
    "vacancy = re.sub(' +',\"+\",vacancy);"
   ]
  },
  {
   "cell_type": "markdown",
   "metadata": {},
   "source": [
    "#### Шаблоны минимальной и максимальной зарплаты:"
   ]
  },
  {
   "cell_type": "code",
   "execution_count": 721,
   "metadata": {},
   "outputs": [],
   "source": [
    "sal_min_1 = re.compile('от [0-9]+')\n",
    "sal_min_2 = re.compile('[0-9]+\\-')\n",
    "sal_max_1 = re.compile('до [0-9]+')\n",
    "sal_max_2 = re.compile('\\-[0-9]+')"
   ]
  },
  {
   "cell_type": "markdown",
   "metadata": {},
   "source": [
    "#### Создание запроса и получение ответа:"
   ]
  },
  {
   "cell_type": "code",
   "execution_count": 722,
   "metadata": {},
   "outputs": [],
   "source": [
    "main_link = 'https://hh.ru/search/vacancy?L_is_autosearch=false&area=1&clusters=true&enable_snippets=true&text=' \n",
    "\n",
    "headers = {\n",
    "    'User-Agent': 'Mozilla/5.0 (Windows NT 6.1; Win64; x64) AppleWebKit/537.36 (KHTML, like Gecko) \\\n",
    "                    Chrome/76.0.3809.100 Safari/537.36 OPR/63.0.3368.53'\n",
    "}"
   ]
  },
  {
   "cell_type": "code",
   "execution_count": 723,
   "metadata": {},
   "outputs": [],
   "source": [
    "vacansy_list = []\n",
    "salary_list = []\n",
    "min_salary = []\n",
    "max_salary = []\n",
    "url_list = []\n",
    "source_name_list = []\n",
    "employer_list = []\n",
    "pages = 10"
   ]
  },
  {
   "cell_type": "code",
   "execution_count": 724,
   "metadata": {},
   "outputs": [],
   "source": [
    "for pg_num in range(0,pages):\n",
    "    # создаем запрос и получаем ответ\n",
    "    page = str(pg_num);\n",
    "    html = requests.get(main_link + vacancy + '&page=' + page,headers=headers)\n",
    "    # проверяем доступность страницы\n",
    "    if html.status_code is not requests.codes.ok:\n",
    "        print('Страница ' + html.url + ' не доступна')\n",
    "        break    \n",
    "    # делаем объект bs\n",
    "    bsObj = bs(html.text,'lxml')\n",
    "    # ищем блок с вакансиями\n",
    "    vacansy_block = bsObj.findAll(class_=\"bloko-link HH-LinkModifier\")\n",
    "    # создаем список вакансий\n",
    "    for i,vacansy in enumerate(vacansy_block):\n",
    "        vacansy_list.append(vacansy_block[i].getText())\n",
    "    # создаем список информационных элементов по вакансиям\n",
    "    item_info_block = bsObj.findAll(class_=\"vacancy-serp-item__row vacancy-serp-item__row_header\")\n",
    "    # создаем список элементов с информациям по зарплатам\n",
    "    for i,salary in enumerate(item_info_block):\n",
    "        salary_list.append(item_info_block[i].findChildren()[-1].getText())\n",
    "        salary_list[i] = re.sub('\\xa0',\"\",salary_list[i])\n",
    "    # создаем список нижней границы зарплат\n",
    "    for salary in salary_list:\n",
    "        if re.findall(sal_min_1,salary):\n",
    "            min_salary.append(re.findall(sal_min_1,salary))        \n",
    "        elif re.findall(sal_min_2,salary):\n",
    "            min_salary.append(re.findall(sal_min_2,salary))\n",
    "        else:\n",
    "            min_salary.append('')    \n",
    "    # создаем список верхней границы зарплат   \n",
    "    for salary in salary_list:\n",
    "        if re.findall(sal_max_1,salary):\n",
    "            max_salary.append(re.findall(sal_max_1,salary))        \n",
    "        elif re.findall(sal_min_2,salary):\n",
    "            max_salary.append(re.findall(sal_max_2,salary))\n",
    "        else:\n",
    "            max_salary.append('')    \n",
    "    # создаем список ссылок на вакансию \n",
    "    for i,url in enumerate(item_info_block):\n",
    "        if item_info_block[i].findChildren()[-3].get('href') is not None:\n",
    "            url_list.append(item_info_block[i].findChildren()[-3].get('href'))    \n",
    "        else:\n",
    "            url_list.append(item_info_block[i].findChildren()[-3].findChildren()[0].get('href'))\n",
    "    # создаем список ссылок на источник данных\n",
    "    for i,info in enumerate(item_info_block):\n",
    "        source_name_list.append('hh.ru')\n",
    "    # ищем блок с работодателями\n",
    "    employer_block = bsObj.findAll(class_=\"bloko-link bloko-link_secondary\")\n",
    "    # создаем список работодателей\n",
    "    for i,employer in enumerate(employer_block):\n",
    "        employer_list.append(employer_block[i].getText())\n",
    "    time.sleep(1);"
   ]
  },
  {
   "cell_type": "code",
   "execution_count": 725,
   "metadata": {},
   "outputs": [],
   "source": [
    "# чистим список нижней границы от ненужных символов    \n",
    "for i,salary in enumerate(min_salary):\n",
    "    if salary is not None:\n",
    "        min_salary[i] = re.sub('от ',\"\",str(min_salary[i]))\n",
    "        min_salary[i] = re.sub('-',\"\",str(min_salary[i]))\n",
    "        min_salary[i] = min_salary[i][2:-2]\n",
    "# чистим список верхней границы от ненужных символов           \n",
    "for i,salary in enumerate(max_salary):\n",
    "    if salary is not None:\n",
    "        max_salary[i] = re.sub('до ',\"\",str(max_salary[i]))\n",
    "        max_salary[i] = re.sub('-',\"\",str(max_salary[i]))  \n",
    "        max_salary[i] = max_salary[i][2:-2]"
   ]
  },
  {
   "cell_type": "code",
   "execution_count": 726,
   "metadata": {},
   "outputs": [],
   "source": [
    "s_vacansy_list = pd.Series(vacansy_list)\n",
    "s_min_salary = pd.Series(min_salary)\n",
    "s_max_salary = pd.Series(max_salary)\n",
    "s_url_list = pd.Series(url_list)\n",
    "s_source_name_list = pd.Series(source_name_list)\n",
    "s_employer_list = pd.Series(employer_list)"
   ]
  },
  {
   "cell_type": "code",
   "execution_count": 727,
   "metadata": {},
   "outputs": [],
   "source": [
    "df = pd.DataFrame()\n",
    "df['vacansy'] = s_vacansy_list\n",
    "df['min_salary'] = s_min_salary\n",
    "df['max_salary'] = s_max_salary\n",
    "df['url'] = s_url_list\n",
    "df['source'] = s_source_name_list\n",
    "df['employer'] = s_employer_list"
   ]
  },
  {
   "cell_type": "code",
   "execution_count": 739,
   "metadata": {},
   "outputs": [
    {
     "data": {
      "text/html": [
       "<div>\n",
       "<style scoped>\n",
       "    .dataframe tbody tr th:only-of-type {\n",
       "        vertical-align: middle;\n",
       "    }\n",
       "\n",
       "    .dataframe tbody tr th {\n",
       "        vertical-align: top;\n",
       "    }\n",
       "\n",
       "    .dataframe thead th {\n",
       "        text-align: right;\n",
       "    }\n",
       "</style>\n",
       "<table border=\"1\" class=\"dataframe\">\n",
       "  <thead>\n",
       "    <tr style=\"text-align: right;\">\n",
       "      <th></th>\n",
       "      <th>vacansy</th>\n",
       "      <th>min_salary</th>\n",
       "      <th>max_salary</th>\n",
       "      <th>url</th>\n",
       "      <th>source</th>\n",
       "      <th>employer</th>\n",
       "    </tr>\n",
       "  </thead>\n",
       "  <tbody>\n",
       "    <tr>\n",
       "      <th>0</th>\n",
       "      <td>Программист С++/Qt</td>\n",
       "      <td>70000</td>\n",
       "      <td></td>\n",
       "      <td>https://ramenskoye.hh.ru/vacancy/31273030?quer...</td>\n",
       "      <td>hh.ru</td>\n",
       "      <td>Cappasity Inc.</td>\n",
       "    </tr>\n",
       "    <tr>\n",
       "      <th>1</th>\n",
       "      <td>Программист С++ (графика)</td>\n",
       "      <td>80000</td>\n",
       "      <td></td>\n",
       "      <td>https://ramenskoye.hh.ru/vacancy/32543357?quer...</td>\n",
       "      <td>hh.ru</td>\n",
       "      <td>Cappasity Inc.</td>\n",
       "    </tr>\n",
       "    <tr>\n",
       "      <th>2</th>\n",
       "      <td>Программист С++</td>\n",
       "      <td>70000</td>\n",
       "      <td></td>\n",
       "      <td>https://ramenskoye.hh.ru/vacancy/32323917?quer...</td>\n",
       "      <td>hh.ru</td>\n",
       "      <td>Cappasity Inc.</td>\n",
       "    </tr>\n",
       "    <tr>\n",
       "      <th>3</th>\n",
       "      <td>Программист С++</td>\n",
       "      <td>120000</td>\n",
       "      <td>160000</td>\n",
       "      <td>https://ramenskoye.hh.ru/vacancy/33165016?quer...</td>\n",
       "      <td>hh.ru</td>\n",
       "      <td>Комтех-Н</td>\n",
       "    </tr>\n",
       "    <tr>\n",
       "      <th>4</th>\n",
       "      <td>Ведущий разработчик / Программист С++ (Compute...</td>\n",
       "      <td>200000</td>\n",
       "      <td>300000</td>\n",
       "      <td>https://ramenskoye.hh.ru/vacancy/33330629?quer...</td>\n",
       "      <td>hh.ru</td>\n",
       "      <td>Photo Lab</td>\n",
       "    </tr>\n",
       "    <tr>\n",
       "      <th>5</th>\n",
       "      <td>Программист С++</td>\n",
       "      <td>120000</td>\n",
       "      <td></td>\n",
       "      <td>https://ramenskoye.hh.ru/vacancy/33260935?quer...</td>\n",
       "      <td>hh.ru</td>\n",
       "      <td>Прикладная Логистика, АНО НИЦ CALS-Технологий</td>\n",
       "    </tr>\n",
       "    <tr>\n",
       "      <th>6</th>\n",
       "      <td>Программист С++ (Qt, графика)</td>\n",
       "      <td>80000</td>\n",
       "      <td>170000</td>\n",
       "      <td>https://ramenskoye.hh.ru/vacancy/33471836?quer...</td>\n",
       "      <td>hh.ru</td>\n",
       "      <td>AMS Software</td>\n",
       "    </tr>\n",
       "    <tr>\n",
       "      <th>7</th>\n",
       "      <td>Программист С++/Qt</td>\n",
       "      <td></td>\n",
       "      <td></td>\n",
       "      <td>https://ramenskoye.hh.ru/vacancy/33258509?quer...</td>\n",
       "      <td>hh.ru</td>\n",
       "      <td>ООО СКАТТ Электроникс</td>\n",
       "    </tr>\n",
       "    <tr>\n",
       "      <th>8</th>\n",
       "      <td>Программист С++</td>\n",
       "      <td>115000</td>\n",
       "      <td>210000</td>\n",
       "      <td>https://ramenskoye.hh.ru/vacancy/32948043?quer...</td>\n",
       "      <td>hh.ru</td>\n",
       "      <td>ЗАО СВЕМЕЛ, Многопрофильное внедренческое пред...</td>\n",
       "    </tr>\n",
       "    <tr>\n",
       "      <th>9</th>\n",
       "      <td>Ведущий программист С++</td>\n",
       "      <td>200000</td>\n",
       "      <td></td>\n",
       "      <td>https://ramenskoye.hh.ru/vacancy/32773076?quer...</td>\n",
       "      <td>hh.ru</td>\n",
       "      <td>Эверис, Представительство</td>\n",
       "    </tr>\n",
       "  </tbody>\n",
       "</table>\n",
       "</div>"
      ],
      "text/plain": [
       "                                             vacansy min_salary max_salary  \\\n",
       "0                                 Программист С++/Qt      70000              \n",
       "1                          Программист С++ (графика)      80000              \n",
       "2                                    Программист С++      70000              \n",
       "3                                    Программист С++     120000     160000   \n",
       "4  Ведущий разработчик / Программист С++ (Compute...     200000     300000   \n",
       "5                                    Программист С++     120000              \n",
       "6                      Программист С++ (Qt, графика)      80000     170000   \n",
       "7                                 Программист С++/Qt                         \n",
       "8                                    Программист С++     115000     210000   \n",
       "9                            Ведущий программист С++     200000              \n",
       "\n",
       "                                                 url source  \\\n",
       "0  https://ramenskoye.hh.ru/vacancy/31273030?quer...  hh.ru   \n",
       "1  https://ramenskoye.hh.ru/vacancy/32543357?quer...  hh.ru   \n",
       "2  https://ramenskoye.hh.ru/vacancy/32323917?quer...  hh.ru   \n",
       "3  https://ramenskoye.hh.ru/vacancy/33165016?quer...  hh.ru   \n",
       "4  https://ramenskoye.hh.ru/vacancy/33330629?quer...  hh.ru   \n",
       "5  https://ramenskoye.hh.ru/vacancy/33260935?quer...  hh.ru   \n",
       "6  https://ramenskoye.hh.ru/vacancy/33471836?quer...  hh.ru   \n",
       "7  https://ramenskoye.hh.ru/vacancy/33258509?quer...  hh.ru   \n",
       "8  https://ramenskoye.hh.ru/vacancy/32948043?quer...  hh.ru   \n",
       "9  https://ramenskoye.hh.ru/vacancy/32773076?quer...  hh.ru   \n",
       "\n",
       "                                            employer  \n",
       "0                                     Cappasity Inc.  \n",
       "1                                     Cappasity Inc.  \n",
       "2                                     Cappasity Inc.  \n",
       "3                                           Комтех-Н  \n",
       "4                                          Photo Lab  \n",
       "5      Прикладная Логистика, АНО НИЦ CALS-Технологий  \n",
       "6                                       AMS Software  \n",
       "7                              ООО СКАТТ Электроникс  \n",
       "8  ЗАО СВЕМЕЛ, Многопрофильное внедренческое пред...  \n",
       "9                          Эверис, Представительство  "
      ]
     },
     "execution_count": 739,
     "metadata": {},
     "output_type": "execute_result"
    }
   ],
   "source": [
    "df.head(10)"
   ]
  },
  {
   "cell_type": "markdown",
   "metadata": {},
   "source": [
    "### Superjob"
   ]
  },
  {
   "cell_type": "markdown",
   "metadata": {},
   "source": [
    "#### Ввод названия вакансии:"
   ]
  },
  {
   "cell_type": "code",
   "execution_count": 4,
   "metadata": {},
   "outputs": [
    {
     "name": "stdout",
     "output_type": "stream",
     "text": [
      "Введите название вакансии:программист c#\n"
     ]
    }
   ],
   "source": [
    "vacancy = input(\"Введите название вакансии:\")\n",
    "vacancy = re.sub('\\+',\"%2B\",vacancy);\n",
    "vacancy = re.sub('#',\"%23\",vacancy);\n",
    "vacancy = re.sub(' +',\"%20\",vacancy);"
   ]
  },
  {
   "cell_type": "markdown",
   "metadata": {},
   "source": [
    "#### Главный url и user agent:"
   ]
  },
  {
   "cell_type": "code",
   "execution_count": 9,
   "metadata": {},
   "outputs": [],
   "source": [
    "main_link = 'https://www.superjob.ru/vacancy/search/?keywords=' \n",
    "\n",
    "headers = {\n",
    "    'User-Agent': 'Mozilla/5.0 (Windows NT 6.1; Win64; x64) AppleWebKit/537.36 (KHTML, like Gecko) \\\n",
    "                    Chrome/76.0.3809.100 Safari/537.36 OPR/63.0.3368.53'\n",
    "}"
   ]
  },
  {
   "cell_type": "markdown",
   "metadata": {},
   "source": [
    "#### Создаем необходимые структуры и шаблоны:"
   ]
  },
  {
   "cell_type": "code",
   "execution_count": 10,
   "metadata": {},
   "outputs": [],
   "source": [
    "vacansy_list=[]\n",
    "salary_list=[]\n",
    "min_salary=[]\n",
    "max_salary=[]\n",
    "max_salary=[]\n",
    "url_list=[]\n",
    "source_name_list=[]\n",
    "employer_list=[]\n",
    "pages = 10"
   ]
  },
  {
   "cell_type": "code",
   "execution_count": 11,
   "metadata": {},
   "outputs": [],
   "source": [
    "sal_min_1 = re.compile('от[0-9]+₽')\n",
    "sal_min_2 = re.compile('[0-9]+—')\n",
    "sal_min_3 = re.compile('[0-9]+₽')\n",
    "sal_max_1 = re.compile('^[0-9]+₽')\n",
    "sal_max_2 = re.compile('—[0-9]+₽')\n",
    "url_re = re.compile('^icMQ_ _1QIBo f-test-link')\n",
    "employer_re = re.compile('^icMQ_ _205Zx f-test-link')"
   ]
  },
  {
   "cell_type": "code",
   "execution_count": 12,
   "metadata": {},
   "outputs": [],
   "source": [
    "for pg_num in range(1,pages + 1):\n",
    "     # создаем запрос и получаем ответ\n",
    "    page = str(pg_num);\n",
    "    html = requests.get(main_link + vacancy + '&page=' + page,headers=headers)\n",
    "    # делаем объект bs\n",
    "    bsObj = bs(html.text,'lxml')\n",
    "    # создаем блок с вакансиями\n",
    "    vacansy_block = bsObj.findAll(class_=\"_3mfro CuJz5 PlM3e _2JVkc _3LJqf\")\n",
    "    if vacansy_block == []:        \n",
    "        print('На странице '+ main_link + vacancy + '&page=' + page + ' нет вакансий')\n",
    "        break;\n",
    "    # создаем список вакансий\n",
    "    for vacansy in vacansy_block:\n",
    "        vacansy_list.append(vacansy.getText())\n",
    "    # создаем блок зарплат\n",
    "    salary_block = bsObj.findAll(class_=\"_3mfro _2Wp8I f-test-text-company-item-salary PlM3e _2JVkc _2VHxz\")\n",
    "    # создаем список зарплат\n",
    "    for i,salary in enumerate(salary_block):\n",
    "        salary_list.append(salary.getText()) \n",
    "        salary_list[i] = re.sub('\\xa0',\"\",salary_list[i])\n",
    "    # создаем список нижней границы зарплаты\n",
    "    for salary in salary_list:\n",
    "        if re.findall(sal_min_1,salary):\n",
    "            min_salary.append(re.findall(sal_min_1,salary))        \n",
    "        elif re.findall(sal_min_2,salary):\n",
    "            min_salary.append(re.findall(sal_min_2,salary))\n",
    "        elif re.findall(sal_min_3,salary):\n",
    "            min_salary.append(re.findall(sal_min_3,salary))\n",
    "        else:\n",
    "            min_salary.append('')   \n",
    "    # создаем список верхней границы зарплаты\n",
    "    for salary in salary_list:\n",
    "        if re.findall(sal_max_1,salary):\n",
    "            max_salary.append(re.findall(sal_max_1,salary))        \n",
    "        elif re.findall(sal_max_2,salary):\n",
    "            max_salary.append(re.findall(sal_max_2,salary))\n",
    "        else:\n",
    "            max_salary.append('')   \n",
    "    # создаем блок url\n",
    "    url_block = bsObj.findAll(class_=url_re)\n",
    "    # создаем список url\n",
    "    for i,url in enumerate(url_block):\n",
    "        url_list.append('https://www.superjob.ru' + url_block[i].get('href'))\n",
    "    # создаем список ссылок на источник данных\n",
    "    for i,info in enumerate(vacansy_block):\n",
    "        source_name_list.append('superjob.ru')\n",
    "    # создаем блок работодателей\n",
    "    employer_block = bsObj.findAll(class_=employer_re)\n",
    "    # создаем список работодателей\n",
    "    for i,employer in enumerate(employer_block):\n",
    "        employer_list.append(employer_block[i].getText())\n",
    "    time.sleep(1);"
   ]
  },
  {
   "cell_type": "code",
   "execution_count": 13,
   "metadata": {},
   "outputs": [],
   "source": [
    "# чистим список нижней границы от ненужных символов    \n",
    "for i,salary in enumerate(min_salary):\n",
    "    if salary is not None:\n",
    "        min_salary[i] = re.sub('от',\"\",str(min_salary[i]))\n",
    "        min_salary[i] = re.sub('—',\"\",str(min_salary[i]))\n",
    "        min_salary[i] = re.sub('₽',\"\",str(min_salary[i]))\n",
    "        min_salary[i] = min_salary[i][2:-2]\n",
    "# чистим список верхней границы от ненужных символов    \n",
    "for i,salary in enumerate(max_salary):\n",
    "    if salary is not None:\n",
    "        max_salary[i] = re.sub('—',\"\",str(max_salary[i]))\n",
    "        max_salary[i] = re.sub('₽',\"\",str(max_salary[i]))\n",
    "        max_salary[i] = max_salary[i][2:-2]"
   ]
  },
  {
   "cell_type": "code",
   "execution_count": 14,
   "metadata": {},
   "outputs": [],
   "source": [
    "s_vacansy_list2 = pd.Series(vacansy_list)\n",
    "s_min_salary2 = pd.Series(min_salary)\n",
    "s_max_salary2 = pd.Series(max_salary)\n",
    "s_url_list2 = pd.Series(url_list)\n",
    "s_source_name_list2 = pd.Series(source_name_list)\n",
    "s_employer_list2 = pd.Series(employer_list)"
   ]
  },
  {
   "cell_type": "code",
   "execution_count": 15,
   "metadata": {},
   "outputs": [],
   "source": [
    "df2 = pd.DataFrame()\n",
    "df2['vacansy'] = s_vacansy_list2\n",
    "df2['min_salary'] = s_min_salary2\n",
    "df2['max_salary'] = s_max_salary2\n",
    "df2['url'] = s_url_list2\n",
    "df2['source'] = s_source_name_list2\n",
    "df2['employer'] = s_employer_list2"
   ]
  },
  {
   "cell_type": "code",
   "execution_count": 16,
   "metadata": {},
   "outputs": [
    {
     "data": {
      "text/html": [
       "<div>\n",
       "<style scoped>\n",
       "    .dataframe tbody tr th:only-of-type {\n",
       "        vertical-align: middle;\n",
       "    }\n",
       "\n",
       "    .dataframe tbody tr th {\n",
       "        vertical-align: top;\n",
       "    }\n",
       "\n",
       "    .dataframe thead th {\n",
       "        text-align: right;\n",
       "    }\n",
       "</style>\n",
       "<table border=\"1\" class=\"dataframe\">\n",
       "  <thead>\n",
       "    <tr style=\"text-align: right;\">\n",
       "      <th></th>\n",
       "      <th>vacansy</th>\n",
       "      <th>min_salary</th>\n",
       "      <th>max_salary</th>\n",
       "      <th>url</th>\n",
       "      <th>source</th>\n",
       "      <th>employer</th>\n",
       "    </tr>\n",
       "  </thead>\n",
       "  <tbody>\n",
       "    <tr>\n",
       "      <th>0</th>\n",
       "      <td>Инженер-программист / Разработчик C#</td>\n",
       "      <td>300000</td>\n",
       "      <td></td>\n",
       "      <td>https://www.superjob.ru/vakansii/inzhener-prog...</td>\n",
       "      <td>superjob.ru</td>\n",
       "      <td>ФГУ НПП Гамма</td>\n",
       "    </tr>\n",
       "    <tr>\n",
       "      <th>1</th>\n",
       "      <td>Инженер-программист C#</td>\n",
       "      <td></td>\n",
       "      <td></td>\n",
       "      <td>https://www.superjob.ru/vakansii/inzhener-prog...</td>\n",
       "      <td>superjob.ru</td>\n",
       "      <td>Центральная ППК</td>\n",
       "    </tr>\n",
       "    <tr>\n",
       "      <th>2</th>\n",
       "      <td>Программист-разработчик C#</td>\n",
       "      <td></td>\n",
       "      <td></td>\n",
       "      <td>https://www.superjob.ru/vakansii/programmist-r...</td>\n",
       "      <td>superjob.ru</td>\n",
       "      <td>АйТи Элемент</td>\n",
       "    </tr>\n",
       "    <tr>\n",
       "      <th>3</th>\n",
       "      <td>.NET Developer / Разработчик C#</td>\n",
       "      <td></td>\n",
       "      <td></td>\n",
       "      <td>https://www.superjob.ru/vakansii/net-developer...</td>\n",
       "      <td>superjob.ru</td>\n",
       "      <td>Информационные технологии</td>\n",
       "    </tr>\n",
       "    <tr>\n",
       "      <th>4</th>\n",
       "      <td>Программист C#</td>\n",
       "      <td>160000</td>\n",
       "      <td></td>\n",
       "      <td>https://www.superjob.ru/vakansii/programmist-c...</td>\n",
       "      <td>superjob.ru</td>\n",
       "      <td>Сеть медицинских клиник «ИММА» («IMMA»)</td>\n",
       "    </tr>\n",
       "    <tr>\n",
       "      <th>5</th>\n",
       "      <td>Full-Stack developer (Angular, C#, .NET)</td>\n",
       "      <td>150000</td>\n",
       "      <td>190000</td>\n",
       "      <td>https://www.superjob.ru/vakansii/full-stack-de...</td>\n",
       "      <td>superjob.ru</td>\n",
       "      <td>«Группа ГУТА»</td>\n",
       "    </tr>\n",
       "    <tr>\n",
       "      <th>6</th>\n",
       "      <td>Senior Web.NET C#/F# разработчик</td>\n",
       "      <td>180000</td>\n",
       "      <td></td>\n",
       "      <td>https://www.superjob.ru/vakansii/senior-web-32...</td>\n",
       "      <td>superjob.ru</td>\n",
       "      <td>Открытая Клиника</td>\n",
       "    </tr>\n",
       "    <tr>\n",
       "      <th>7</th>\n",
       "      <td>Программист C#</td>\n",
       "      <td>110000</td>\n",
       "      <td></td>\n",
       "      <td>https://www.superjob.ru/vakansii/programmist-c...</td>\n",
       "      <td>superjob.ru</td>\n",
       "      <td>Easy Partners Group</td>\n",
       "    </tr>\n",
       "    <tr>\n",
       "      <th>8</th>\n",
       "      <td>Разработчик C#</td>\n",
       "      <td>150000</td>\n",
       "      <td>250000</td>\n",
       "      <td>https://www.superjob.ru/vakansii/razrabotchik-...</td>\n",
       "      <td>superjob.ru</td>\n",
       "      <td>Кадровый Центр на Сокольнической Площади</td>\n",
       "    </tr>\n",
       "    <tr>\n",
       "      <th>9</th>\n",
       "      <td>Web-программист / Web-разработчик</td>\n",
       "      <td>150000</td>\n",
       "      <td>200000</td>\n",
       "      <td>https://www.superjob.ru/vakansii/web-programmi...</td>\n",
       "      <td>superjob.ru</td>\n",
       "      <td>Минерал-Инфо</td>\n",
       "    </tr>\n",
       "  </tbody>\n",
       "</table>\n",
       "</div>"
      ],
      "text/plain": [
       "                                    vacansy min_salary max_salary  \\\n",
       "0      Инженер-программист / Разработчик C#     300000              \n",
       "1                    Инженер-программист C#                         \n",
       "2                Программист-разработчик C#                         \n",
       "3           .NET Developer / Разработчик C#                         \n",
       "4                            Программист C#     160000              \n",
       "5  Full-Stack developer (Angular, C#, .NET)     150000     190000   \n",
       "6          Senior Web.NET C#/F# разработчик     180000              \n",
       "7                            Программист C#     110000              \n",
       "8                            Разработчик C#     150000     250000   \n",
       "9         Web-программист / Web-разработчик     150000     200000   \n",
       "\n",
       "                                                 url       source  \\\n",
       "0  https://www.superjob.ru/vakansii/inzhener-prog...  superjob.ru   \n",
       "1  https://www.superjob.ru/vakansii/inzhener-prog...  superjob.ru   \n",
       "2  https://www.superjob.ru/vakansii/programmist-r...  superjob.ru   \n",
       "3  https://www.superjob.ru/vakansii/net-developer...  superjob.ru   \n",
       "4  https://www.superjob.ru/vakansii/programmist-c...  superjob.ru   \n",
       "5  https://www.superjob.ru/vakansii/full-stack-de...  superjob.ru   \n",
       "6  https://www.superjob.ru/vakansii/senior-web-32...  superjob.ru   \n",
       "7  https://www.superjob.ru/vakansii/programmist-c...  superjob.ru   \n",
       "8  https://www.superjob.ru/vakansii/razrabotchik-...  superjob.ru   \n",
       "9  https://www.superjob.ru/vakansii/web-programmi...  superjob.ru   \n",
       "\n",
       "                                   employer  \n",
       "0                             ФГУ НПП Гамма  \n",
       "1                           Центральная ППК  \n",
       "2                              АйТи Элемент  \n",
       "3                 Информационные технологии  \n",
       "4   Сеть медицинских клиник «ИММА» («IMMA»)  \n",
       "5                             «Группа ГУТА»  \n",
       "6                          Открытая Клиника  \n",
       "7                       Easy Partners Group  \n",
       "8  Кадровый Центр на Сокольнической Площади  \n",
       "9                              Минерал-Инфо  "
      ]
     },
     "execution_count": 16,
     "metadata": {},
     "output_type": "execute_result"
    }
   ],
   "source": [
    "df2.head(10)"
   ]
  },
  {
   "cell_type": "markdown",
   "metadata": {},
   "source": [
    "## Задание 2:"
   ]
  },
  {
   "cell_type": "code",
   "execution_count": 3,
   "metadata": {},
   "outputs": [],
   "source": [
    "main_link = 'https://rskrf.ru/ratings/produkty-pitaniya/' \n",
    "\n",
    "headers = {\n",
    "    'User-Agent': 'Mozilla/5.0 (Windows NT 6.1; Win64; x64) AppleWebKit/537.36 (KHTML, like Gecko) \\\n",
    "                    Chrome/76.0.3809.100 Safari/537.36 OPR/63.0.3368.53'\n",
    "}"
   ]
  },
  {
   "cell_type": "code",
   "execution_count": 55,
   "metadata": {},
   "outputs": [],
   "source": [
    "products_url_list=[]\n",
    "subproducts_url_list=[]\n",
    "product_name_list=[]\n",
    "category_name_list=[]\n",
    "subcategory_name_list=[]\n",
    "safety_list=[]\n",
    "quality_list=[]\n",
    "total_score_list=[]\n",
    "source_list=[]\n",
    "name_url_list=[]"
   ]
  },
  {
   "cell_type": "code",
   "execution_count": 5,
   "metadata": {},
   "outputs": [],
   "source": [
    "html = requests.get(main_link)\n",
    "if html.status_code is not requests.codes.ok:\n",
    "        print('Страница ' + html.url + ' не доступна')\n",
    "else:\n",
    "    # делаем объект bs\n",
    "    bsObj = bs(html.text,'lxml')\n",
    "    # ищем блок с ссылками на категории продуктов\n",
    "    products_url_block = bsObj.findAll(class_=\"category-item\")"
   ]
  },
  {
   "cell_type": "markdown",
   "metadata": {},
   "source": [
    "#### Получаем список ссылок на все категории продуктов:"
   ]
  },
  {
   "cell_type": "code",
   "execution_count": 6,
   "metadata": {},
   "outputs": [],
   "source": [
    "for i, item in enumerate(products_url_block):\n",
    "    products_url_list.append('https://rskrf.ru' +  products_url_block[i].find('a').get('href'))"
   ]
  },
  {
   "cell_type": "code",
   "execution_count": 7,
   "metadata": {},
   "outputs": [
    {
     "data": {
      "text/plain": [
       "['https://rskrf.ru/ratings/produkty-pitaniya/bakaleya/',\n",
       " 'https://rskrf.ru/ratings/produkty-pitaniya/kolbasnye-izdeliya/',\n",
       " 'https://rskrf.ru/ratings/produkty-pitaniya/konditerskie-izdeliya/',\n",
       " 'https://rskrf.ru/ratings/produkty-pitaniya/konservy/',\n",
       " 'https://rskrf.ru/ratings/produkty-pitaniya/maslo-rastitelnoe/',\n",
       " 'https://rskrf.ru/ratings/produkty-pitaniya/molochnye-produkty/',\n",
       " 'https://rskrf.ru/ratings/produkty-pitaniya/myaso-ptitsa-yaytso/',\n",
       " 'https://rskrf.ru/ratings/produkty-pitaniya/ovoshchi-frukty/',\n",
       " 'https://rskrf.ru/ratings/produkty-pitaniya/ryba-i-moreprodukty/',\n",
       " 'https://rskrf.ru/ratings/produkty-pitaniya/sousy/',\n",
       " 'https://rskrf.ru/ratings/produkty-pitaniya/khlebobulochnye-izdeliya/']"
      ]
     },
     "execution_count": 7,
     "metadata": {},
     "output_type": "execute_result"
    }
   ],
   "source": [
    "products_url_list"
   ]
  },
  {
   "cell_type": "markdown",
   "metadata": {},
   "source": [
    "#### Получаем список ссылок на все подкатегории продуктов:"
   ]
  },
  {
   "cell_type": "code",
   "execution_count": 8,
   "metadata": {},
   "outputs": [],
   "source": [
    "for url in products_url_list:\n",
    "    link = url;\n",
    "    html = requests.get(link)\n",
    "    if html.status_code is not requests.codes.ok:\n",
    "        print('Страница ' + html.url + ' не доступна')\n",
    "        break\n",
    "    # делаем объект bs\n",
    "    bsObj = bs(html.text,'lxml')\n",
    "    subproducts_url_block = bsObj.findAll(class_=\"category-item\")\n",
    "    for i, item in enumerate(subproducts_url_block):\n",
    "        subproducts_url_list.append('https://rskrf.ru' +  subproducts_url_block[i].find('a').get('href'))"
   ]
  },
  {
   "cell_type": "code",
   "execution_count": 9,
   "metadata": {},
   "outputs": [
    {
     "ename": "SyntaxError",
     "evalue": "invalid syntax (<ipython-input-9-c6f5a867adc3>, line 1)",
     "output_type": "error",
     "traceback": [
      "\u001b[1;36m  File \u001b[1;32m\"<ipython-input-9-c6f5a867adc3>\"\u001b[1;36m, line \u001b[1;32m1\u001b[0m\n\u001b[1;33m    for i,url in subproducts_url_list\u001b[0m\n\u001b[1;37m                                     ^\u001b[0m\n\u001b[1;31mSyntaxError\u001b[0m\u001b[1;31m:\u001b[0m invalid syntax\n"
     ]
    }
   ],
   "source": [
    "\"\"\"\"\"for i,url in subproducts_url_list:\n",
    "    link = url;\n",
    "    html = requests.get(link)\n",
    "    if html.status_code is not requests.codes.ok:\n",
    "        print('Страница ' + html.url + ' не доступна')\n",
    "        break\n",
    "    # делаем объект bs\n",
    "    bsObj = bs(html.text,'lxml')\n",
    "    product_props_url_block = bsObj.findAll(class_=\"category-item\")\n",
    "    for i, item in enumerate(subproducts_url_block):\n",
    "        subproducts_url_list.append('https://rskrf.ru' +  subproducts_url_block[i].find('a').get('href')) \"\"\""
   ]
  },
  {
   "cell_type": "code",
   "execution_count": 13,
   "metadata": {},
   "outputs": [],
   "source": [
    "name_url_re = re.compile('^card-title');"
   ]
  },
  {
   "cell_type": "code",
   "execution_count": 19,
   "metadata": {},
   "outputs": [
    {
     "data": {
      "text/plain": [
       "[<div class=\"card-body\">\n",
       " <a class=\"category\" href=\"/tips/pravila-pokupki/\">ÐÑÐ°Ð²Ð¸Ð»Ð° Ð¿Ð¾ÐºÑÐ¿ÐºÐ¸</a>\n",
       " <h5 class=\"card-title\"><a href=\"/tips/pravila-pokupki/kak-vybrat-elektrochaynik/\">ÐÐ°Ðº Ð²ÑÐ±ÑÐ°ÑÑ ÑÐ»ÐµÐºÑÑÐ¸ÑÐµÑÐºÐ¸Ð¹ ÑÐ°Ð¹Ð½Ð¸Ðº?</a></h5>\n",
       " </div>, <div class=\"card-body\">\n",
       " <a class=\"category\" href=\"/tips/pravila-pokupki/\">ÐÑÐ°Ð²Ð¸Ð»Ð° Ð¿Ð¾ÐºÑÐ¿ÐºÐ¸</a>\n",
       " <h5 class=\"card-title\"><a href=\"/tips/pravila-pokupki/kak-vybrat-portveyn/\">ÐÐ°Ðº Ð²ÑÐ±ÑÐ°ÑÑ Ð¿Ð¾ÑÑÐ²ÐµÐ¹Ð½</a></h5>\n",
       " </div>, <div class=\"card-body\">\n",
       " <a class=\"category\" href=\"/tips/pravila-pokupki/\">ÐÑÐ°Ð²Ð¸Ð»Ð° Ð¿Ð¾ÐºÑÐ¿ÐºÐ¸</a>\n",
       " <h5 class=\"card-title\"><a href=\"/tips/pravila-pokupki/poroki-vina-kak-ponyat-chto-napitok-ne-stoit-pit/\">ÐÐ¾ÑÐ¾ÐºÐ¸ Ð²Ð¸Ð½Ð°: ÐºÐ°Ðº Ð¿Ð¾Ð½ÑÑÑ, ÑÑÐ¾ Ð½Ð°Ð¿Ð¸ÑÐ¾Ðº Ð½Ðµ ÑÑÐ¾Ð¸Ñ Ð¿Ð¸ÑÑ?</a></h5>\n",
       " </div>, <div class=\"card-body\">\n",
       " <a class=\"category\" href=\"/tips/pravila-pokupki/\">ÐÑÐ°Ð²Ð¸Ð»Ð° Ð¿Ð¾ÐºÑÐ¿ÐºÐ¸</a>\n",
       " <h5 class=\"card-title\"><a href=\"/tips/pravila-pokupki/kak-vybrat-shkolnuyu-formu/\">ÐÐ°Ðº Ð²ÑÐ±ÑÐ°ÑÑ ÑÐºÐ¾Ð»ÑÐ½ÑÑ ÑÐ¾ÑÐ¼Ñ?</a></h5>\n",
       " </div>, <div class=\"card-body\">\n",
       " <a class=\"category\" href=\"/tips/pravila-pokupki/\">ÐÑÐ°Ð²Ð¸Ð»Ð° Ð¿Ð¾ÐºÑÐ¿ÐºÐ¸</a>\n",
       " <h5 class=\"card-title\"><a href=\"/tips/pravila-pokupki/kak-vybrat-vygodnyy-i-udobnyy-tarif-svyazi/\">ÐÐ°Ðº Ð²ÑÐ±ÑÐ°ÑÑ Ð²ÑÐ³Ð¾Ð´Ð½ÑÐ¹ Ð¸ ÑÐ´Ð¾Ð±Ð½ÑÐ¹ ÑÐ°ÑÐ¸Ñ ÑÐ²ÑÐ·Ð¸?</a></h5>\n",
       " </div>, <div class=\"card-body\">\n",
       " <a class=\"category\" href=\"/tips/pravila-pokupki/\">ÐÑÐ°Ð²Ð¸Ð»Ð° Ð¿Ð¾ÐºÑÐ¿ÐºÐ¸</a>\n",
       " <h5 class=\"card-title\"><a href=\"/tips/pravila-pokupki/kak-vybrat-krasnoe-vino/\">ÐÐ°Ðº Ð²ÑÐ±ÑÐ°ÑÑ Ð´Ð¾ÑÑÐ¾Ð¹Ð½Ð¾Ðµ ÐºÑÐ°ÑÐ½Ð¾Ðµ Ð²Ð¸Ð½Ð¾</a></h5>\n",
       " </div>, <div class=\"card-body\">\n",
       " <a class=\"category\" href=\"/tips/obzory-i-topy/\">ÐÐ±Ð·Ð¾ÑÑ Ð¸ ÑÐ¾Ð¿Ñ</a>\n",
       " <h5 class=\"card-title\"><a href=\"/tips/obzory-i-topy/top-luchshikh-elektrochaynikov/\">Ð¢Ð¾Ð¿ Ð»ÑÑÑÐ¸Ñ\n",
       "  ÑÐ»ÐµÐºÑÑÐ¾ÑÐ°Ð¹Ð½Ð¸ÐºÐ¾Ð²</a></h5>\n",
       " </div>, <div class=\"card-body\">\n",
       " <a class=\"category\" href=\"/tips/obzory-i-topy/\">ÐÐ±Ð·Ð¾ÑÑ Ð¸ ÑÐ¾Ð¿Ñ</a>\n",
       " <h5 class=\"card-title\"><a href=\"/tips/obzory-i-topy/idem-v-shkolu-samye-roskachestvennye-tovary-dlya-detey/\">ÐÐ´ÐµÐ¼ Ð² ÑÐºÐ¾Ð»Ñ: ÑÐ°Ð¼ÑÐµ ÑÐ¾ÑÐºÐ°ÑÐµÑÑÐ²ÐµÐ½Ð½ÑÐµ ÑÐ¾Ð²Ð°ÑÑ Ð´Ð»Ñ Ð´ÐµÑÐµÐ¹</a></h5>\n",
       " </div>, <div class=\"card-body\">\n",
       " <a class=\"category\" href=\"/tips/obzory-i-topy/\">ÐÐ±Ð·Ð¾ÑÑ Ð¸ ÑÐ¾Ð¿Ñ</a>\n",
       " <h5 class=\"card-title\"><a href=\"/tips/obzory-i-topy/pyat-neobychnykh-zagotovok-na-zimu/\">ÐÑÑÑ Ð½ÐµÐ¾Ð±ÑÑÐ½ÑÑ\n",
       "  Ð·Ð°Ð³Ð¾ÑÐ¾Ð²Ð¾Ðº Ð½Ð° Ð·Ð¸Ð¼Ñ</a></h5>\n",
       " </div>, <div class=\"card-body\">\n",
       " <a class=\"category\" href=\"/tips/obzory-i-topy/\">ÐÐ±Ð·Ð¾ÑÑ Ð¸ ÑÐ¾Ð¿Ñ</a>\n",
       " <h5 class=\"card-title\"><a href=\"/tips/obzory-i-topy/luchshiy-korm-dlya-shchenkov-po-versii-roskachestva/\">ÐÐ°ÐºÐ¾Ð¹ ÐºÐ¾ÑÐ¼ ÐºÑÐ¿Ð¸ÑÑ Ð´Ð»Ñ ÑÐµÐ½ÐºÐ°?</a></h5>\n",
       " </div>, <div class=\"card-body\">\n",
       " <a class=\"category\" href=\"/tips/obzory-i-topy/\">ÐÐ±Ð·Ð¾ÑÑ Ð¸ ÑÐ¾Ð¿Ñ</a>\n",
       " <h5 class=\"card-title\"><a href=\"/tips/obzory-i-topy/luchshie-fotoapparaty-po-versii-roskachestva/\">ÐÑÑÑÐ¸Ðµ ÑÐ¾ÑÐ¾Ð°Ð¿Ð¿Ð°ÑÐ°ÑÑ Ð¿Ð¾ Ð²ÐµÑÑÐ¸Ð¸ Ð Ð¾ÑÐºÐ°ÑÐµÑÑÐ²Ð°</a></h5>\n",
       " </div>, <div class=\"card-body\">\n",
       " <a class=\"category\" href=\"/tips/obzory-i-topy/\">ÐÐ±Ð·Ð¾ÑÑ Ð¸ ÑÐ¾Ð¿Ñ</a>\n",
       " <h5 class=\"card-title\"><a href=\"/tips/obzory-i-topy/top-luchshikh-detskikh-stiralnykh-poroshkov/\">Ð¢Ð¾Ð¿ Ð»ÑÑÑÐ¸Ñ\n",
       "  Ð´ÐµÑÑÐºÐ¸Ñ\n",
       "  ÑÑÐ¸ÑÐ°Ð»ÑÐ½ÑÑ\n",
       "  Ð¿Ð¾ÑÐ¾ÑÐºÐ¾Ð²</a></h5>\n",
       " </div>, <div class=\"card-body\">\n",
       " <a class=\"category\" href=\"/tips/eksperty-obyasnyayut/\">Ð­ÐºÑÐ¿ÐµÑÑÑ Ð¾Ð±ÑÑÑÐ½ÑÑÑ</a>\n",
       " <h5 class=\"card-title\"><a href=\"/tips/eksperty-obyasnyayut/opasnaya-pomyvka-kakim-produktam-pered-prigotovleniem-ne-stoit-vstrechatsya-s-vodoy/\">ÐÐ¾ÑÐµÐ¼Ñ Ð½Ðµ ÑÑÐ¾Ð¸Ñ Ð¼ÑÑÑ ÑÑÐ¸ Ð¿ÑÐ¾Ð´ÑÐºÑÑ</a></h5>\n",
       " </div>, <div class=\"card-body\">\n",
       " <a class=\"category\" href=\"/tips/eksperty-obyasnyayut/\">Ð­ÐºÑÐ¿ÐµÑÑÑ Ð¾Ð±ÑÑÑÐ½ÑÑÑ</a>\n",
       " <h5 class=\"card-title\"><a href=\"/tips/eksperty-obyasnyayut/sladkiy-put-k-izbytochnomu-vesu/\">Ð¡ÐºÑÑÑÑÐ¹ ÑÐ°Ñ\n",
       " Ð°Ñ Ð¸Ð»Ð¸ Ð¡Ð»Ð°Ð´ÐºÐ¸Ð¹ Ð¿ÑÑÑ Ðº Ð¸Ð·Ð±ÑÑÐ¾ÑÐ½Ð¾Ð¼Ñ Ð²ÐµÑÑ</a></h5>\n",
       " </div>, <div class=\"card-body\">\n",
       " <a class=\"category\" href=\"/tips/eksperty-obyasnyayut/\">Ð­ÐºÑÐ¿ÐµÑÑÑ Ð¾Ð±ÑÑÑÐ½ÑÑÑ</a>\n",
       " <h5 class=\"card-title\"><a href=\"/tips/eksperty-obyasnyayut/luchshiy-zavtrak-dlya-umnikov-i-umnits/\">ÐÑÑÑÐ¸Ð¹ Ð·Ð°Ð²ÑÑÐ°Ðº Ð´Ð»Ñ ÑÐ¼Ð½Ð¸ÐºÐ¾Ð² Ð¸ ÑÐ¼Ð½Ð¸Ñ</a></h5>\n",
       " </div>, <div class=\"card-body\">\n",
       " <a class=\"category\" href=\"/tips/eksperty-obyasnyayut/\">Ð­ÐºÑÐ¿ÐµÑÑÑ Ð¾Ð±ÑÑÑÐ½ÑÑÑ</a>\n",
       " <h5 class=\"card-title\"><a href=\"/tips/eksperty-obyasnyayut/mogut-li-popast-pod-zapret-kartoshka-fri-i-ponchiki-/\">ÐÐ¾Ð¶ÐµÑ Ð»Ð¸ Ð¿Ð¾Ð¿Ð°ÑÑÑ Ð¿Ð¾Ð´ Ð·Ð°Ð¿ÑÐµÑ ÐºÐ°ÑÑÐ¾ÑÐºÐ° ÑÑÐ¸? </a></h5>\n",
       " </div>, <div class=\"card-body\">\n",
       " <a class=\"category\" href=\"/tips/eksperty-obyasnyayut/\">Ð­ÐºÑÐ¿ÐµÑÑÑ Ð¾Ð±ÑÑÑÐ½ÑÑÑ</a>\n",
       " <h5 class=\"card-title\"><a href=\"/tips/eksperty-obyasnyayut/chem-vy-riskuete-pokupaya-produkty-s-ruk/\">Ð§ÐµÐ¼ Ð²Ñ ÑÐ¸ÑÐºÑÐµÑÐµ, Ð¿Ð¾ÐºÑÐ¿Ð°Ñ Ð¿ÑÐ¾Ð´ÑÐºÑÑ \"Ñ ÑÑÐº?\"</a></h5>\n",
       " </div>, <div class=\"card-body\">\n",
       " <a class=\"category\" href=\"/tips/eksperty-obyasnyayut/\">Ð­ÐºÑÐ¿ÐµÑÑÑ Ð¾Ð±ÑÑÑÐ½ÑÑÑ</a>\n",
       " <h5 class=\"card-title\"><a href=\"/tips/eksperty-obyasnyayut/chto-delat-esli-vash-rebenok-podvergaetsya-kiberbullingu/\">Ð§ÑÐ¾ Ð´ÐµÐ»Ð°ÑÑ, ÐµÑÐ»Ð¸ Ð²Ð°Ñ ÑÐµÐ±ÐµÐ½Ð¾Ðº Ð¿Ð¾Ð´Ð²ÐµÑÐ³Ð°ÐµÑÑÑ ÐºÐ¸Ð±ÐµÑÐ±ÑÐ»Ð»Ð¸Ð½Ð³Ñ?</a></h5>\n",
       " </div>, <div class=\"card-body\">\n",
       " <a class=\"category\" href=\"/tips/rassledovaniya/\">Ð Ð°ÑÑÐ»ÐµÐ´Ð¾Ð²Ð°Ð½Ð¸Ñ</a>\n",
       " <h5 class=\"card-title\"><a href=\"/tips/rassledovaniya/rezistentnost-k-antibiotikam-v-evrope-i-rossii-situatsiya-i-prognozy/\">ÐÐµÐºÐ¾Ð²Ð¾Ð¹ Ð¿ÑÐ¾Ð³ÑÐµÑÑ Ð² Ð¼ÐµÐ´Ð¸ÑÐ¸Ð½Ðµ Ð¼Ð¾Ð¶ÐµÑ ÑÐ¾Ð¹ÑÐ¸ Ð½Ð° Ð½ÐµÑ Ð¸Ð·-Ð·Ð° ÑÑÐ¿ÐµÑÐ±Ð°ÐºÑÐµÑÐ¸Ð¹</a></h5>\n",
       " </div>, <div class=\"card-body\">\n",
       " <a class=\"category\" href=\"/tips/rassledovaniya/\">Ð Ð°ÑÑÐ»ÐµÐ´Ð¾Ð²Ð°Ð½Ð¸Ñ</a>\n",
       " <h5 class=\"card-title\"><a href=\"/tips/rassledovaniya/kak-stali-vyglyadet-molochnye-polki-s-1-iyulya/\">ÐÐ°Ðº ÑÑÐ°Ð»Ð¸ Ð²ÑÐ³Ð»ÑÐ´ÐµÑÑ Ð¼Ð¾Ð»Ð¾ÑÐ½ÑÐµ Ð¿Ð¾Ð»ÐºÐ¸ Ñ 1 Ð¸ÑÐ»Ñ</a></h5>\n",
       " </div>, <div class=\"card-body\">\n",
       " <a class=\"category\" href=\"/tips/rassledovaniya/\">Ð Ð°ÑÑÐ»ÐµÐ´Ð¾Ð²Ð°Ð½Ð¸Ñ</a>\n",
       " <h5 class=\"card-title\"><a href=\"/tips/rassledovaniya/podvodnye-kamni-na-puti-mintaya-ot-morya-do-prilavka/\">Â«ÐÐ¾Ð´Ð²Ð¾Ð´Ð½ÑÐµ ÐºÐ°Ð¼Ð½Ð¸Â» Ð½Ð° Ð¿ÑÑÐ¸ Ð¼Ð¸Ð½ÑÐ°Ñ Ð¾Ñ Ð¼Ð¾ÑÑ Ð´Ð¾ Ð¿ÑÐ¸Ð»Ð°Ð²ÐºÐ°</a></h5>\n",
       " </div>, <div class=\"card-body\">\n",
       " <a class=\"category\" href=\"/tips/rassledovaniya/\">Ð Ð°ÑÑÐ»ÐµÐ´Ð¾Ð²Ð°Ð½Ð¸Ñ</a>\n",
       " <h5 class=\"card-title\"><a href=\"/tips/rassledovaniya/sotsialku-zhdut-masshtabnye-reformy/\">ÐÐ°ÑÐ¿ÑÐ¾ÐµÐºÑÑ: ÐºÐ°ÑÐµÑÑÐ²Ð¾ Ð¶Ð¸Ð·Ð½Ð¸ Ð² Ð Ð¾ÑÑÐ¸Ð¸ Ð¾Ð±ÐµÑÐ°ÑÑ Ð¿Ð¾Ð²ÑÑÐ¸ÑÑ</a></h5>\n",
       " </div>, <div class=\"card-body\">\n",
       " <a class=\"category\" href=\"/tips/rassledovaniya/\">Ð Ð°ÑÑÐ»ÐµÐ´Ð¾Ð²Ð°Ð½Ð¸Ñ</a>\n",
       " <h5 class=\"card-title\"><a href=\"/tips/rassledovaniya/molochnye-produkty-budut-nazyvatsya-inache-obyasnyaem-chto-izmenilos/\">Ð ÑÐ°ÑÑÐ¸ÑÐµÐ»ÑÐ½ÑÑ\n",
       "  Ð¶Ð¸ÑÐ°Ñ\n",
       "  Ð½Ð° ÑÑÐ¸ÐºÐµÑÐºÐ°Ñ\n",
       "  â ÑÐµÐ¿ÐµÑÑ Ð¿Ð¾ Ð·Ð°ÐºÐ¾Ð½Ñ</a></h5>\n",
       " </div>, <div class=\"card-body\">\n",
       " <a class=\"category\" href=\"/tips/rassledovaniya/\">Ð Ð°ÑÑÐ»ÐµÐ´Ð¾Ð²Ð°Ð½Ð¸Ñ</a>\n",
       " <h5 class=\"card-title\"><a href=\"/tips/rassledovaniya/predprazdnichnye-skidki-vygodnoe-predlozhenie-ili-ulovka-prodavtsov/\">ÐÑÐµÐ´Ð¿ÑÐ°Ð·Ð´Ð½Ð¸ÑÐ½ÑÐµ ÑÐºÐ¸Ð´ÐºÐ¸ â Ð²ÑÐ³Ð¾Ð´Ð½Ð¾Ðµ Ð¿ÑÐµÐ´Ð»Ð¾Ð¶ÐµÐ½Ð¸Ðµ Ð¸Ð»Ð¸ ÑÐ»Ð¾Ð²ÐºÐ° Ð¿ÑÐ¾Ð´Ð°Ð²ÑÐ¾Ð²?</a></h5>\n",
       " </div>, <div class=\"card-body\">\n",
       " <a class=\"category\" href=\"/tips/protection/\">ÐÑÐ°Ð²Ð° Ð¿Ð¾ÑÑÐµÐ±Ð¸ÑÐµÐ»ÐµÐ¹</a>\n",
       " <h5 class=\"card-title\"><a href=\"/tips/protection/sem-otvetov-yurista-na-voprosy-o-shkolnoy-forme/\">Ð¡ÐµÐ¼Ñ Ð¾ÑÐ²ÐµÑÐ¾Ð² ÑÑÐ¸ÑÑÐ° Ð½Ð° Ð²Ð¾Ð¿ÑÐ¾ÑÑ Ð¾ ÑÐºÐ¾Ð»ÑÐ½Ð¾Ð¹ ÑÐ¾ÑÐ¼Ðµ</a></h5>\n",
       " </div>, <div class=\"card-body\">\n",
       " <a class=\"category\" href=\"/tips/protection/\">ÐÑÐ°Ð²Ð° Ð¿Ð¾ÑÑÐµÐ±Ð¸ÑÐµÐ»ÐµÐ¹</a>\n",
       " <h5 class=\"card-title\"><a href=\"/tips/protection/mozhet-li-administratsiya-shkoly-navyazyvat-postavshchika-shkolnoy-formy/\">ÐÐ´Ð¼Ð¸Ð½Ð¸ÑÑÑÐ°ÑÐ¸Ñ ÑÐºÐ¾Ð»Ñ Ð½Ð°Ð²ÑÐ·ÑÐ²Ð°ÐµÑ Ð¿Ð¾ÑÑÐ°Ð²ÑÐ¸ÐºÐ° ÑÐºÐ¾Ð»ÑÐ½Ð¾Ð¹ ÑÐ¾ÑÐ¼Ñ?</a></h5>\n",
       " </div>, <div class=\"card-body\">\n",
       " <a class=\"category\" href=\"/tips/protection/\">ÐÑÐ°Ð²Ð° Ð¿Ð¾ÑÑÐµÐ±Ð¸ÑÐµÐ»ÐµÐ¹</a>\n",
       " <h5 class=\"card-title\"><a href=\"/tips/protection/medstrakhovka-dlya-turistov-klyuchevye-momenty/\">ÐÐµÐ´ÑÑÑÐ°Ñ\n",
       " Ð¾Ð²ÐºÐ° Ð´Ð»Ñ ÑÑÑÐ¸ÑÑÐ¾Ð²: ÐºÐ»ÑÑÐµÐ²ÑÐµ Ð¼Ð¾Ð¼ÐµÐ½ÑÑ</a></h5>\n",
       " </div>, <div class=\"card-body\">\n",
       " <a class=\"category\" href=\"/tips/protection/\">ÐÑÐ°Ð²Ð° Ð¿Ð¾ÑÑÐµÐ±Ð¸ÑÐµÐ»ÐµÐ¹</a>\n",
       " <h5 class=\"card-title\"><a href=\"/tips/protection/chto-takoe-nezavisimaya-ekspertiza-i-zachem-ona-nuzhna/\">ÐÑÐ¾Ð´Ð°Ð²ÐµÑ Ð¾ÑÐºÐ°Ð·ÑÐ²Ð°ÐµÑÑÑ Ð²ÐµÑÐ½ÑÑÑ Ð´ÐµÐ½ÑÐ³Ð¸ Ð·Ð° ÑÐ¾Ð²Ð°Ñ Ñ Ð´ÐµÑÐµÐºÑÐ¾Ð¼. Ð§ÑÐ¾ Ð´ÐµÐ»Ð°ÑÑ?</a></h5>\n",
       " </div>, <div class=\"card-body\">\n",
       " <a class=\"category\" href=\"/tips/protection/\">ÐÑÐ°Ð²Ð° Ð¿Ð¾ÑÑÐµÐ±Ð¸ÑÐµÐ»ÐµÐ¹</a>\n",
       " <h5 class=\"card-title\"><a href=\"/tips/protection/kak-vernut-zabytye-v-taksi-veshchi/\">ÐÐ°Ðº Ð²ÐµÑÐ½ÑÑÑ Ð·Ð°Ð±ÑÑÑÐµ Ð² ÑÐ°ÐºÑÐ¸ Ð²ÐµÑÐ¸?</a></h5>\n",
       " </div>, <div class=\"card-body\">\n",
       " <a class=\"category\" href=\"/tips/protection/\">ÐÑÐ°Ð²Ð° Ð¿Ð¾ÑÑÐµÐ±Ð¸ÑÐµÐ»ÐµÐ¹</a>\n",
       " <h5 class=\"card-title\"><a href=\"/tips/protection/v-mnogokvartirnom-dome-protekaet-krysha-k-komu-obrashchatsya/\">Ð Ð¼Ð½Ð¾Ð³Ð¾ÐºÐ²Ð°ÑÑÐ¸ÑÐ½Ð¾Ð¼ Ð´Ð¾Ð¼Ðµ Ð¿ÑÐ¾ÑÐµÐºÐ°ÐµÑ ÐºÑÑÑÐ°. Ð ÐºÐ¾Ð¼Ñ Ð¾Ð±ÑÐ°ÑÐ°ÑÑÑÑ?</a></h5>\n",
       " </div>, <div class=\"card-body\">\n",
       " <a class=\"category\" href=\"/tips/spetsproekty/\">Ð¡Ð¿ÐµÑÐ¿ÑÐ¾ÐµÐºÑÑ</a>\n",
       " <h5 class=\"card-title\"><a href=\"/tips/spetsproekty/vse-li-yabloki-odinakovo-polezny/\">ÐÑÐµ Ð»Ð¸ ÑÐ±Ð»Ð¾ÐºÐ¸ Ð¾Ð´Ð¸Ð½Ð°ÐºÐ¾Ð²Ð¾ Ð¿Ð¾Ð»ÐµÐ·Ð½Ñ?</a></h5>\n",
       " </div>, <div class=\"card-body\">\n",
       " <a class=\"category\" href=\"/tips/spetsproekty/\">Ð¡Ð¿ÐµÑÐ¿ÑÐ¾ÐµÐºÑÑ</a>\n",
       " <h5 class=\"card-title\"><a href=\"/tips/spetsproekty/myaso-v-burgerakh-i-antibiotiki-est-li-povod-dlya-opaseniy/\">ÐÑÑÐ¾ Ð² Ð±ÑÑÐ³ÐµÑÐ°Ñ\n",
       "  Ð¸ Ð°Ð½ÑÐ¸Ð±Ð¸Ð¾ÑÐ¸ÐºÐ¸: ÐµÑÑÑ Ð»Ð¸ Ð¿Ð¾Ð²Ð¾Ð´ Ð´Ð»Ñ Ð¾Ð¿Ð°ÑÐµÐ½Ð¸Ð¹?</a></h5>\n",
       " </div>, <div class=\"card-body\">\n",
       " <a class=\"category\" href=\"/tips/spetsproekty/\">Ð¡Ð¿ÐµÑÐ¿ÑÐ¾ÐµÐºÑÑ</a>\n",
       " <h5 class=\"card-title\"><a href=\"/tips/spetsproekty/multizernovoy-khleb-mozhno-li-nazvat-ego-poleznym/\">ÐÑÐ»ÑÑÐ¸Ð·ÐµÑÐ½Ð¾Ð²Ð¾Ð¹ Ñ\n",
       " Ð»ÐµÐ±: Ð¼Ð¾Ð¶Ð½Ð¾ Ð»Ð¸ Ð½Ð°Ð·Ð²Ð°ÑÑ ÐµÐ³Ð¾ Ð¿Ð¾Ð»ÐµÐ·Ð½ÑÐ¼?</a></h5>\n",
       " </div>, <div class=\"card-body\">\n",
       " <a class=\"category\" href=\"/tips/spetsproekty/\">Ð¡Ð¿ÐµÑÐ¿ÑÐ¾ÐµÐºÑÑ</a>\n",
       " <h5 class=\"card-title\"><a href=\"/tips/spetsproekty/chernyy-chay-pyat-goryachikh-voprosov-o-listovom-i-paketirovannom/\">Ð§ÐµÑÐ½ÑÐ¹ ÑÐ°Ð¹: Ð¿ÑÑÑ Ð³Ð¾ÑÑÑÐ¸Ñ\n",
       "  Ð²Ð¾Ð¿ÑÐ¾ÑÐ¾Ð² Ð¾ Ð»Ð¸ÑÑÐ¾Ð²Ð¾Ð¼ Ð¸ Ð¿Ð°ÐºÐµÑÐ¸ÑÐ¾Ð²Ð°Ð½Ð½Ð¾Ð¼</a></h5>\n",
       " </div>, <div class=\"card-body\">\n",
       " <a class=\"category\" href=\"/tips/spetsproekty/\">Ð¡Ð¿ÐµÑÐ¿ÑÐ¾ÐµÐºÑÑ</a>\n",
       " <h5 class=\"card-title\"><a href=\"/tips/spetsproekty/igray-i-chitay-issledovany-detskie-mobilnye-prilozheniya/\">ÐÐ°ÑÐ°Ð¹, Ð¸Ð³ÑÐ°Ð¹, ÑÐ¸ÑÐ°Ð¹: Ð¸ÑÑÐ»ÐµÐ´Ð¾Ð²Ð°Ð½Ñ Ð´ÐµÑÑÐºÐ¸Ðµ Ð¼Ð¾Ð±Ð¸Ð»ÑÐ½ÑÐµ Ð¿ÑÐ¸Ð»Ð¾Ð¶ÐµÐ½Ð¸Ñ</a></h5>\n",
       " </div>, <div class=\"card-body\">\n",
       " <a class=\"category\" href=\"/tips/spetsproekty/\">Ð¡Ð¿ÐµÑÐ¿ÑÐ¾ÐµÐºÑÑ</a>\n",
       " <h5 class=\"card-title\"><a href=\"/tips/spetsproekty/molochnyy-reyd-roskachestva-kak-proizvoditeli-skryvayut-rastitelnye-zhiry/\">Â«ÐÐ¾Ð»Ð¾ÑÐ½ÑÐ¹ ÑÐµÐ¹Ð´Â» Ð Ð¾ÑÐºÐ°ÑÐµÑÑÐ²Ð°: ÐºÐ°Ðº Ð¿ÑÐ¾Ð¸Ð·Ð²Ð¾Ð´Ð¸ÑÐµÐ»Ð¸ Â«ÑÐºÑÑÐ²Ð°ÑÑÂ» ÑÐ°ÑÑÐ¸ÑÐµÐ»ÑÐ½ÑÐµ Ð¶Ð¸ÑÑ?</a></h5>\n",
       " </div>, <div class=\"card-body\">\n",
       " <a class=\"category\" href=\"/tips/prazdniki/\">ÐÑÐ°Ð·Ð´Ð½Ð¸ÐºÐ¸</a>\n",
       " <h5 class=\"card-title\"><a href=\"/tips/prazdniki/gotovim-paskhalnye-blyuda-iz-produktov-so-znakom-kachestva/\">ÐÐ¾ÑÐ¾Ð²Ð¸Ð¼ Ð¿Ð°ÑÑ\n",
       " Ð°Ð»ÑÐ½ÑÐµ Ð±Ð»ÑÐ´Ð° Ð¸Ð· Ð¿ÑÐ¾Ð´ÑÐºÑÐ¾Ð² ÑÐ¾ ÐÐ½Ð°ÐºÐ¾Ð¼ ÐºÐ°ÑÐµÑÑÐ²Ð°</a></h5>\n",
       " </div>, <div class=\"card-body\">\n",
       " <a class=\"category\" href=\"/tips/prazdniki/\">ÐÑÐ°Ð·Ð´Ð½Ð¸ÐºÐ¸</a>\n",
       " <h5 class=\"card-title\"><a href=\"/tips/prazdniki/buket-svoimi-rukami-podarok-kotoryy-zapomnitsya/\">Ð¡Ð¾Ð²ÐµÑÑ ÑÐ»Ð¾ÑÐ¸ÑÑÐ°: ÐºÐ°Ðº ÑÐ¾Ð±ÑÐ°ÑÑ Ð¸Ð·ÑÑÐ½ÑÐ¹ Ð¸ Ð½ÐµÐ´Ð¾ÑÐ¾Ð³Ð¾Ð¹ Ð±ÑÐºÐµÑ</a></h5>\n",
       " </div>, <div class=\"card-body\">\n",
       " <a class=\"category\" href=\"/tips/prazdniki/\">ÐÑÐ°Ð·Ð´Ð½Ð¸ÐºÐ¸</a>\n",
       " <h5 class=\"card-title\"><a href=\"/tips/prazdniki/yarkaya-maslenitsa-s-roskachestvom/\">Ð¯ÑÐºÐ°Ñ Ð¼Ð°ÑÐ»ÐµÐ½Ð¸ÑÐ° Ñ Ð Ð¾ÑÐºÐ°ÑÐµÑÑÐ²Ð¾Ð¼</a></h5>\n",
       " </div>, <div class=\"card-body\">\n",
       " <a class=\"category\" href=\"/tips/prazdniki/\">ÐÑÐ°Ð·Ð´Ð½Ð¸ÐºÐ¸</a>\n",
       " <h5 class=\"card-title\"><a href=\"/tips/prazdniki/novyy-vzglyad-na-buket/\">ÐÐ¾Ð²ÑÐ¹ Ð²Ð·Ð³Ð»ÑÐ´ Ð½Ð° Ð±ÑÐºÐµÑ: 5 Ð¸Ð´ÐµÐ¹ Ð´Ð»Ñ Ð¿Ð¾Ð´Ð°ÑÐºÐ° </a></h5>\n",
       " </div>, <div class=\"card-body\">\n",
       " <h5 :class=\"{'with-text': item.s_name }\" class=\"card-title\">\n",
       " <a :href=\"item.url\">\n",
       "                                     {{item.name}}\n",
       "                                     <span v-html=\"item.s_name\" v-if=\"item.s_name\"></span>\n",
       " </a>\n",
       " </h5>\n",
       " <div class=\"card-info\">\n",
       " <div class=\"starrating readonly d-inline-flex flex-row-reverse float-left\">\n",
       " <span class=\"green\">{{item.points}}</span>\n",
       " <input :checked=\"item.star === 5\" data-name=\"star[#i#][name]\" type=\"radio\" value=\"5\"/><label title=\"5 star\"><svg class=\"icon icon-star\"><use xlink:href=\"/local/templates/main/sprite/sprite.svg#star\"></use></svg></label>\n",
       " <input :checked=\"item.star === 4\" data-name=\"star[#i#][name]\" type=\"radio\" value=\"4\"/><label title=\"4 star\"><svg class=\"icon icon-star\"><use xlink:href=\"/local/templates/main/sprite/sprite.svg#star\"></use></svg></label>\n",
       " <input :checked=\"item.star === 3\" data-name=\"star[#i#][name]\" type=\"radio\" value=\"3\"/><label title=\"3 star\"><svg class=\"icon icon-star\"><use xlink:href=\"/local/templates/main/sprite/sprite.svg#star\"></use></svg></label>\n",
       " <input :checked=\"item.star === 2\" data-name=\"star[#i#][name]\" type=\"radio\" value=\"2\"/><label title=\"2 star\"><svg class=\"icon icon-star\"><use xlink:href=\"/local/templates/main/sprite/sprite.svg#star\"></use></svg></label>\n",
       " <input :checked=\"item.star === 1\" data-name=\"star[#i#][name]\" type=\"radio\" value=\"1\"/><label title=\"1 star\"><svg class=\"icon icon-star\"><use xlink:href=\"/local/templates/main/sprite/sprite.svg#star\"></use></svg></label>\n",
       " </div>\n",
       " <div class=\"float-right card-price\">\n",
       " <template v-if=\"item.price\">\n",
       "                                         {{item.price}} â½ {{item.price_unit}}\n",
       "                                     </template>\n",
       " </div>\n",
       " </div>\n",
       " </div>, <div class=\"card-body\">\n",
       " <a class=\"category\" href=\"/tips/pravila-pokupki/\">ÐÑÐ°Ð²Ð¸Ð»Ð° Ð¿Ð¾ÐºÑÐ¿ÐºÐ¸</a>\n",
       " <span class=\"card-date\">01.07.2019</span>\n",
       " <h5 class=\"card-title\"><a href=\"/tips/pravila-pokupki/kak-vybirat-multizernovoy-khleb/\">ÐÐ°Ðº Ð²ÑÐ±Ð¸ÑÐ°ÑÑ Ð¼ÑÐ»ÑÑÐ¸Ð·ÐµÑÐ½Ð¾Ð²Ð¾Ð¹ Ñ\n",
       " Ð»ÐµÐ±?</a></h5>\n",
       " </div>, <div class=\"card-body\">\n",
       " <a class=\"category\" href=\"/tips/eksperty-obyasnyayut/\">Ð­ÐºÑÐ¿ÐµÑÑÑ Ð¾Ð±ÑÑÑÐ½ÑÑÑ</a>\n",
       " <span class=\"card-date\">01.06.2018</span>\n",
       " <h5 class=\"card-title\"><a href=\"/tips/eksperty-obyasnyayut/chego-nelzya-est-detyam-i-kak-priuchit-ikh-k-zdorovoy-pishche/\">ÐÐµÑÑÐºÐ¾Ðµ Ð¼ÐµÐ½Ñ: ÑÐµÐ¼ Ð¾Ð¿Ð°ÑÐ½Ð° Ð²ÑÐµÐ´Ð½Ð°Ñ ÐµÐ´Ð°</a></h5>\n",
       " </div>, <div class=\"card-body\">\n",
       " <a class=\"category\" href=\"/tips/eksperty-obyasnyayut/\">Ð­ÐºÑÐ¿ÐµÑÑÑ Ð¾Ð±ÑÑÑÐ½ÑÑÑ</a>\n",
       " <span class=\"card-date\">19.05.2017</span>\n",
       " <h5 class=\"card-title\"><a href=\"/tips/eksperty-obyasnyayut/doloy-konfety-poleznye-i-vkusnye-sochetaniya-orekhov-i-sukhofruktov/\">ÐÐ¾Ð»ÐµÐ·Ð½ÑÐµ Ð¸ Ð²ÐºÑÑÐ½ÑÐµ ÑÐ¾ÑÐµÑÐ°Ð½Ð¸Ñ Ð¾ÑÐµÑ\n",
       " Ð¾Ð² Ð¸ ÑÑÑ\n",
       " Ð¾ÑÑÑÐºÑÐ¾Ð²</a></h5>\n",
       " </div>, <div class=\"card-body\">\n",
       " <a class=\"category\" href=\"/tips/eksperty-obyasnyayut/\">Ð­ÐºÑÐ¿ÐµÑÑÑ Ð¾Ð±ÑÑÑÐ½ÑÑÑ</a>\n",
       " <h5 class=\"card-title\"><a href=\"/tips/eksperty-obyasnyayut/opasnaya-pomyvka-kakim-produktam-pered-prigotovleniem-ne-stoit-vstrechatsya-s-vodoy/\">ÐÐ¾ÑÐµÐ¼Ñ Ð½Ðµ ÑÑÐ¾Ð¸Ñ Ð¼ÑÑÑ ÑÑÐ¸ Ð¿ÑÐ¾Ð´ÑÐºÑÑ</a></h5>\n",
       " </div>, <div class=\"card-body\">\n",
       " <a class=\"category\" href=\"/tips/eksperty-obyasnyayut/\">Ð­ÐºÑÐ¿ÐµÑÑÑ Ð¾Ð±ÑÑÑÐ½ÑÑÑ</a>\n",
       " <h5 class=\"card-title\"><a href=\"/tips/eksperty-obyasnyayut/sladkiy-put-k-izbytochnomu-vesu/\">Ð¡ÐºÑÑÑÑÐ¹ ÑÐ°Ñ\n",
       " Ð°Ñ Ð¸Ð»Ð¸ Ð¡Ð»Ð°Ð´ÐºÐ¸Ð¹ Ð¿ÑÑÑ Ðº Ð¸Ð·Ð±ÑÑÐ¾ÑÐ½Ð¾Ð¼Ñ Ð²ÐµÑÑ</a></h5>\n",
       " </div>, <div class=\"card-body\">\n",
       " <a class=\"category\" href=\"/tips/eksperty-obyasnyayut/\">Ð­ÐºÑÐ¿ÐµÑÑÑ Ð¾Ð±ÑÑÑÐ½ÑÑÑ</a>\n",
       " <h5 class=\"card-title\"><a href=\"/tips/eksperty-obyasnyayut/luchshiy-zavtrak-dlya-umnikov-i-umnits/\">ÐÑÑÑÐ¸Ð¹ Ð·Ð°Ð²ÑÑÐ°Ðº Ð´Ð»Ñ ÑÐ¼Ð½Ð¸ÐºÐ¾Ð² Ð¸ ÑÐ¼Ð½Ð¸Ñ</a></h5>\n",
       " </div>, <div class=\"card-body\">\n",
       " <a class=\"category\" href=\"/tips/eksperty-obyasnyayut/\">Ð­ÐºÑÐ¿ÐµÑÑÑ Ð¾Ð±ÑÑÑÐ½ÑÑÑ</a>\n",
       " <h5 class=\"card-title\"><a href=\"/tips/eksperty-obyasnyayut/mogut-li-popast-pod-zapret-kartoshka-fri-i-ponchiki-/\">ÐÐ¾Ð¶ÐµÑ Ð»Ð¸ Ð¿Ð¾Ð¿Ð°ÑÑÑ Ð¿Ð¾Ð´ Ð·Ð°Ð¿ÑÐµÑ ÐºÐ°ÑÑÐ¾ÑÐºÐ° ÑÑÐ¸? </a></h5>\n",
       " </div>, <div class=\"card-body\">\n",
       " <a class=\"category\" href=\"/tips/eksperty-obyasnyayut/\">Ð­ÐºÑÐ¿ÐµÑÑÑ Ð¾Ð±ÑÑÑÐ½ÑÑÑ</a>\n",
       " <h5 class=\"card-title\"><a href=\"/tips/eksperty-obyasnyayut/chem-vy-riskuete-pokupaya-produkty-s-ruk/\">Ð§ÐµÐ¼ Ð²Ñ ÑÐ¸ÑÐºÑÐµÑÐµ, Ð¿Ð¾ÐºÑÐ¿Ð°Ñ Ð¿ÑÐ¾Ð´ÑÐºÑÑ \"Ñ ÑÑÐº?\"</a></h5>\n",
       " </div>, <div class=\"card-body\">\n",
       " <a class=\"category\" href=\"/tips/protection/\">ÐÑÐ°Ð²Ð° Ð¿Ð¾ÑÑÐµÐ±Ð¸ÑÐµÐ»ÐµÐ¹</a>\n",
       " <h5 class=\"card-title\"><a href=\"/tips/protection/sem-otvetov-yurista-na-voprosy-o-shkolnoy-forme/\">Ð¡ÐµÐ¼Ñ Ð¾ÑÐ²ÐµÑÐ¾Ð² ÑÑÐ¸ÑÑÐ° Ð½Ð° Ð²Ð¾Ð¿ÑÐ¾ÑÑ Ð¾ ÑÐºÐ¾Ð»ÑÐ½Ð¾Ð¹ ÑÐ¾ÑÐ¼Ðµ</a></h5>\n",
       " </div>]"
      ]
     },
     "execution_count": 19,
     "metadata": {},
     "output_type": "execute_result"
    }
   ],
   "source": [
    "link = 'https://rskrf.ru/ratings/produkty-pitaniya/bakaleya/sukhie-zavtraki/'\n",
    "html = requests.get(link)\n",
    "bsObj = bs(html.text,'lxml')\n",
    "product_names_block = bsObj.findAll(class_='card-body')\n",
    "#product_names_block.findChild('a')\n",
    "product_names_block"
   ]
  },
  {
   "cell_type": "code",
   "execution_count": null,
   "metadata": {},
   "outputs": [],
   "source": [
    "print()"
   ]
  },
  {
   "cell_type": "code",
   "execution_count": 38,
   "metadata": {},
   "outputs": [],
   "source": [
    "content = product_names_block[0].getText()\n",
    "content = bytes(content,\"UTF-8\")\n",
    "content = content.decode(\"UTF-8\")"
   ]
  },
  {
   "cell_type": "code",
   "execution_count": 35,
   "metadata": {},
   "outputs": [
    {
     "ename": "TypeError",
     "evalue": "decoding str is not supported",
     "output_type": "error",
     "traceback": [
      "\u001b[1;31m---------------------------------------------------------------------------\u001b[0m",
      "\u001b[1;31mTypeError\u001b[0m                                 Traceback (most recent call last)",
      "\u001b[1;32m<ipython-input-35-8c2b483ff2f2>\u001b[0m in \u001b[0;36m<module>\u001b[1;34m\u001b[0m\n\u001b[1;32m----> 1\u001b[1;33m \u001b[0mprint\u001b[0m\u001b[1;33m(\u001b[0m\u001b[0mstr\u001b[0m\u001b[1;33m(\u001b[0m\u001b[0mcontent\u001b[0m\u001b[1;33m,\u001b[0m\u001b[1;34m\"utf-8\"\u001b[0m\u001b[1;33m)\u001b[0m\u001b[1;33m)\u001b[0m\u001b[1;33m\u001b[0m\u001b[1;33m\u001b[0m\u001b[0m\n\u001b[0m",
      "\u001b[1;31mTypeError\u001b[0m: decoding str is not supported"
     ]
    }
   ],
   "source": [
    "print(str(content,\"utf-8\"))"
   ]
  },
  {
   "cell_type": "code",
   "execution_count": 39,
   "metadata": {},
   "outputs": [
    {
     "data": {
      "text/plain": [
       "'\\nÐ\\x9fÑ\\x80Ð°Ð²Ð¸Ð»Ð° Ð¿Ð¾ÐºÑ\\x83Ð¿ÐºÐ¸\\nÐ\\x9aÐ°Ðº Ð²Ñ\\x8bÐ±Ñ\\x80Ð°Ñ\\x82Ñ\\x8c Ñ\\x8dÐ»ÐµÐºÑ\\x82Ñ\\x80Ð¸Ñ\\x87ÐµÑ\\x81ÐºÐ¸Ð¹ Ñ\\x87Ð°Ð¹Ð½Ð¸Ðº?\\n'"
      ]
     },
     "execution_count": 39,
     "metadata": {},
     "output_type": "execute_result"
    }
   ],
   "source": [
    "content"
   ]
  },
  {
   "cell_type": "code",
   "execution_count": 821,
   "metadata": {},
   "outputs": [
    {
     "data": {
      "text/plain": [
       "<div class=\"card-body\">\n",
       "<h5 :class=\"{'with-text': item.s_name }\" class=\"card-title\">\n",
       "<a :href=\"item.url\">\n",
       "                                    {{item.name}}\n",
       "                                    <span v-html=\"item.s_name\" v-if=\"item.s_name\"></span>\n",
       "</a>\n",
       "</h5>\n",
       "<div class=\"card-info\">\n",
       "<div class=\"starrating readonly d-inline-flex flex-row-reverse float-left\">\n",
       "<span class=\"green\">{{item.points}}</span>\n",
       "<input :checked=\"item.star === 5\" data-name=\"star[#i#][name]\" type=\"radio\" value=\"5\"/><label title=\"5 star\"><svg class=\"icon icon-star\"><use xlink:href=\"/local/templates/main/sprite/sprite.svg#star\"></use></svg></label>\n",
       "<input :checked=\"item.star === 4\" data-name=\"star[#i#][name]\" type=\"radio\" value=\"4\"/><label title=\"4 star\"><svg class=\"icon icon-star\"><use xlink:href=\"/local/templates/main/sprite/sprite.svg#star\"></use></svg></label>\n",
       "<input :checked=\"item.star === 3\" data-name=\"star[#i#][name]\" type=\"radio\" value=\"3\"/><label title=\"3 star\"><svg class=\"icon icon-star\"><use xlink:href=\"/local/templates/main/sprite/sprite.svg#star\"></use></svg></label>\n",
       "<input :checked=\"item.star === 2\" data-name=\"star[#i#][name]\" type=\"radio\" value=\"2\"/><label title=\"2 star\"><svg class=\"icon icon-star\"><use xlink:href=\"/local/templates/main/sprite/sprite.svg#star\"></use></svg></label>\n",
       "<input :checked=\"item.star === 1\" data-name=\"star[#i#][name]\" type=\"radio\" value=\"1\"/><label title=\"1 star\"><svg class=\"icon icon-star\"><use xlink:href=\"/local/templates/main/sprite/sprite.svg#star\"></use></svg></label>\n",
       "</div>\n",
       "<div class=\"float-right card-price\">\n",
       "<template v-if=\"item.price\">\n",
       "                                        {{item.price}} â½ {{item.price_unit}}\n",
       "                                    </template>\n",
       "</div>\n",
       "</div>\n",
       "</div>"
      ]
     },
     "execution_count": 821,
     "metadata": {},
     "output_type": "execute_result"
    }
   ],
   "source": [
    "link = 'https://rskrf.ru/ratings/produkty-pitaniya/bakaleya/sukhie-zavtraki/'\n",
    "html = requests.get(link)\n",
    "bsObj = bs(html.text,'lxml')\n",
    "product_names_block = bsObj.find(class_='col-xl-4 col-lg-4 col-md-4 product')\n",
    "product_names_block.find(class_='card-body')"
   ]
  },
  {
   "cell_type": "code",
   "execution_count": 44,
   "metadata": {},
   "outputs": [],
   "source": [
    "from selenium import webdriver\n",
    "from selenium.webdriver.common.by import By"
   ]
  },
  {
   "cell_type": "code",
   "execution_count": 35,
   "metadata": {
    "scrolled": true
   },
   "outputs": [],
   "source": [
    "driver.get('https://rskrf.ru/ratings/produkty-pitaniya/bakaleya/sukhie-zavtraki/')\n",
    "time.sleep(3)\n",
    "#text = driver.find_element(By.CLASS_NAME,\"col-xl-4 col-lg-4 col-md-4 product\").text\n",
    "text = driver.find_element_by_xpath('//*[@class=\"col-xl-4 col-lg-4 col-md-4 product\"]').text\n",
    "driver.close()"
   ]
  },
  {
   "cell_type": "code",
   "execution_count": 51,
   "metadata": {},
   "outputs": [],
   "source": [
    "driver = webdriver.PhantomJS('C:\\\\Users\\\\stroganov\\\\phantomjs-2.1.1-windows\\\\bin\\\\phantomjs')\n",
    "driver.get('https://rskrf.ru/ratings/produkty-pitaniya/bakaleya/sukhie-zavtraki/')\n",
    "time.sleep(3)\n",
    "content = driver.find_elements_by_xpath('//*[@class=\"col-xl-4 col-lg-4 col-md-4 product\"]')\n",
    "for elem in content:\n",
    "    product_name_list.append(elem.text)\n",
    "driver.close()"
   ]
  },
  {
   "cell_type": "code",
   "execution_count": 52,
   "metadata": {},
   "outputs": [
    {
     "data": {
      "text/plain": [
       "['Globus\\nСухие продукты экструзионной технологии (СПЭТ) - шарики кукурузные, шоколадные\\n4.513\\n24.99 ₽ /100 г',\n",
       " 'Schär\\nЗавтраки сухие: шарики шоколадные Milly Magic\\n4.330\\n186.8 ₽ /100 г',\n",
       " 'Кузя Лакомкин\\nСухие завтраки. Шарики мультизерновые, глазированные шоколадные, «Кузя Лакомкин»\\n4.244\\n41.39 ₽ /100 г',\n",
       " 'Krosby choco balls\\nЗавтраки сухие, экструзионные, из зернового сырья, обогащенные витаминами и минеральными веществами, глазированные шарики шоколадные\\n4.230\\n41 ₽ /100 г',\n",
       " 'Коровка\\nЗавтраки сухие, фигурные, глазированные. Шарики, вкус шоколада\\n4.086\\n35.79 ₽ /100 г',\n",
       " 'Любятово\\nЗавтраки готовые: шарики шоколадные\\n4.040\\n17.98 ₽ /100 г',\n",
       " 'Metro cheff\\nШарики со вкусом шоколада\\n3.405\\n21.78 ₽ /100 г',\n",
       " 'Mamori\\nЗавтраки сухие Crunchy тм Mamori: шарики шоколадные, хрустящие\\n3.004\\n38 ₽ /100 г',\n",
       " 'Ого!\\nСухие завтраки «Десять витаминов» Choca (шарики со вкусом молочного шоколада)\\n2.916\\n29.99 ₽ /100 г',\n",
       " 'Каждый день\\nСухие завтраки глазированные, без добавления витаминов, сладкие: шоколадные шарики.\\n2.723\\n12.4 ₽ /100 г',\n",
       " 'Spar\\nЗавтраки сухие. Хлопья кукурузные\\n2.259\\n11.59 ₽ /100 г',\n",
       " 'Хороший день\\nПродукты экструзионной технологии сухие. Снеки хрустящие, фигурные, глазированне шоколадным сиропом: шарики\\n2.146\\n31.97 ₽ /100 г']"
      ]
     },
     "execution_count": 52,
     "metadata": {},
     "output_type": "execute_result"
    }
   ],
   "source": [
    "product_name_list"
   ]
  },
  {
   "cell_type": "code",
   "execution_count": 61,
   "metadata": {},
   "outputs": [],
   "source": [
    "driver = webdriver.PhantomJS('C:\\\\Users\\\\stroganov\\\\phantomjs-2.1.1-windows\\\\bin\\\\phantomjs')\n",
    "driver.get('https://rskrf.ru/ratings/produkty-pitaniya/bakaleya/sukhie-zavtraki/')\n",
    "time.sleep(3)\n",
    "content = driver.find_elements_by_xpath('//*[@class=\"col-xl-4 col-lg-4 col-md-4 product\"]/div[2]/a')\n",
    "for elem in content:\n",
    "    name_url_list.append(elem.get_attribute(\"href\"))\n",
    "driver.close()"
   ]
  },
  {
   "cell_type": "code",
   "execution_count": 62,
   "metadata": {},
   "outputs": [
    {
     "data": {
      "text/plain": [
       "['https://rskrf.ru/goods/sukhie-produkty-ekstruzionnoy-tekhnologii-spet-shariki-kukuruznye-shokoladnye/',\n",
       " 'https://rskrf.ru/ratings/produkty-pitaniya/bakaleya/sukhie-zavtraki/#',\n",
       " 'https://rskrf.ru/goods/zavtraki-sukhie-shariki-shokoladnye-milly-magic/',\n",
       " 'https://rskrf.ru/ratings/produkty-pitaniya/bakaleya/sukhie-zavtraki/#',\n",
       " 'https://rskrf.ru/goods/sukhie-zavtraki-shariki-multizernovye-glazirovannye-shokoladnye-kuzya-lakomkin/',\n",
       " 'https://rskrf.ru/ratings/produkty-pitaniya/bakaleya/sukhie-zavtraki/#',\n",
       " 'https://rskrf.ru/goods/zavtraki-sukhie-ekstruzionnye-iz-zernovogo-syrya-obogashchennye-vitaminami-i-mineralnymi-veshchestva/',\n",
       " 'https://rskrf.ru/ratings/produkty-pitaniya/bakaleya/sukhie-zavtraki/#',\n",
       " 'https://rskrf.ru/goods/zavtraki-sukhie-figurnye-glazirovannye-shariki-vkus-shokolada/',\n",
       " 'https://rskrf.ru/ratings/produkty-pitaniya/bakaleya/sukhie-zavtraki/#',\n",
       " 'https://rskrf.ru/goods/zavtraki-gotovye-shariki-shokoladnye/',\n",
       " 'https://rskrf.ru/ratings/produkty-pitaniya/bakaleya/sukhie-zavtraki/#',\n",
       " 'https://rskrf.ru/goods/shariki-so-vkusom-shokolada/',\n",
       " 'https://rskrf.ru/ratings/produkty-pitaniya/bakaleya/sukhie-zavtraki/#',\n",
       " 'https://rskrf.ru/goods/zavtraki-sukhie-crunchy-tm-mamori-shariki-shokoladnye-khrustyashchie/',\n",
       " 'https://rskrf.ru/ratings/produkty-pitaniya/bakaleya/sukhie-zavtraki/#',\n",
       " 'https://rskrf.ru/goods/sukhie-zavtraki-desyat-vitaminov-choca-shariki-so-vkusom-molochnogo-shokolada/',\n",
       " 'https://rskrf.ru/ratings/produkty-pitaniya/bakaleya/sukhie-zavtraki/#',\n",
       " 'https://rskrf.ru/goods/sukhie-zavtraki-glazirovannye-bez-dobavleniya-vitaminov-sladkie-shokoladnye-shariki/',\n",
       " 'https://rskrf.ru/ratings/produkty-pitaniya/bakaleya/sukhie-zavtraki/#',\n",
       " 'https://rskrf.ru/goods/zavtraki-sukhie-khlopya-kukuruznye/',\n",
       " 'https://rskrf.ru/ratings/produkty-pitaniya/bakaleya/sukhie-zavtraki/#',\n",
       " 'https://rskrf.ru/goods/produkty-ekstruzionnoy-tekhnologii-sukhie-sneki-khrustyashchie-figurnye-glazirovanne-shokoladnym-sir/',\n",
       " 'https://rskrf.ru/ratings/produkty-pitaniya/bakaleya/sukhie-zavtraki/#']"
      ]
     },
     "execution_count": 62,
     "metadata": {},
     "output_type": "execute_result"
    }
   ],
   "source": [
    "name_url_list"
   ]
  },
  {
   "cell_type": "code",
   "execution_count": null,
   "metadata": {},
   "outputs": [],
   "source": []
  }
 ],
 "metadata": {
  "kernelspec": {
   "display_name": "Python 3",
   "language": "python",
   "name": "python3"
  },
  "language_info": {
   "codemirror_mode": {
    "name": "ipython",
    "version": 3
   },
   "file_extension": ".py",
   "mimetype": "text/x-python",
   "name": "python",
   "nbconvert_exporter": "python",
   "pygments_lexer": "ipython3",
   "version": "3.7.3"
  }
 },
 "nbformat": 4,
 "nbformat_minor": 2
}

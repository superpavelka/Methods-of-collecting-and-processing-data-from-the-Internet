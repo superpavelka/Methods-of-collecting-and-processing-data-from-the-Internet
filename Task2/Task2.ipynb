{
 "cells": [
  {
   "cell_type": "markdown",
   "metadata": {},
   "source": [
    "1) Необходимо собрать информацию о вакансиях на вводимую должность (используем input или через аргументы) с сайта superjob.ru и hh.ru. Приложение должно анализировать несколько страниц сайта(также вводим через input или аргументы). Получившийся список должен содержать в себе минимум:\n",
    "\n",
    "        *Наименование вакансии\n",
    "        *Предлагаемую зарплату (отдельно мин. и и отдельно макс.)\n",
    "        *Ссылку на саму вакансию        \n",
    "        *Сайт откуда собрана вакансия\n",
    "По своему желанию можно добавить еще работодателя и расположение. Данная структура должна быть одинаковая для вакансий с обоих сайтов. Общий результат можно вывести с помощью dataFrame через pandas.\n",
    "\n",
    "2)Задание похожее, но подход к сбору данных здесь другой.\n",
    "Необходимо собрать информацию по продуктам питания с сайтов: https://rskrf.ru/ratings/produkty-pitaniya/ и https://roscontrol.com/category/produkti/ Получившийся список должен содержать:\n",
    "\n",
    "        *Наименование продукта\n",
    "        *Категорию продукта        (например Бакалея)\n",
    "        *Подкатегорию продукта    (апример \"Рис круглозерный\")\n",
    "        *Параметр \"безопасность\"\n",
    "        *Параметр \"качество\"\n",
    "        *Общий балл\n",
    "        *Сайт, откуда получена информация\n",
    "Данная структура должна быть одинаковая для продуктов с обоих сайтов. Общий результат можно вывести с помощью dataFrame через pandas.\n",
    "\n",
    "Можно выполнить по своему желанию одно любое задание или оба при желании и возможности."
   ]
  },
  {
   "cell_type": "markdown",
   "metadata": {},
   "source": [
    "## Задание 1:"
   ]
  },
  {
   "cell_type": "markdown",
   "metadata": {},
   "source": [
    "### hh.ru"
   ]
  },
  {
   "cell_type": "markdown",
   "metadata": {},
   "source": [
    "#### Импорт необходимых библиотек:"
   ]
  },
  {
   "cell_type": "code",
   "execution_count": 4,
   "metadata": {},
   "outputs": [],
   "source": [
    "from pprint import pprint\n",
    "from bs4 import BeautifulSoup as bs\n",
    "import requests\n",
    "import re\n",
    "import pandas as pd\n",
    "import time"
   ]
  },
  {
   "cell_type": "markdown",
   "metadata": {},
   "source": [
    "#### Ввод названия вакансии:"
   ]
  },
  {
   "cell_type": "code",
   "execution_count": 91,
   "metadata": {},
   "outputs": [
    {
     "name": "stdout",
     "output_type": "stream",
     "text": [
      "Введите название вакансии:программист с++\n"
     ]
    }
   ],
   "source": [
    "vacancy = input(\"Введите название вакансии:\")\n",
    "vacancy = re.sub('\\+',\"%2B\",vacancy);\n",
    "vacancy = re.sub('#',\"%23\",vacancy);\n",
    "vacancy = re.sub(' +',\"+\",vacancy);"
   ]
  },
  {
   "cell_type": "markdown",
   "metadata": {},
   "source": [
    "#### Шаблоны минимальной и максимальной зарплаты:"
   ]
  },
  {
   "cell_type": "code",
   "execution_count": 92,
   "metadata": {},
   "outputs": [],
   "source": [
    "sal_min_1 = re.compile('от [0-9]+')\n",
    "sal_min_2 = re.compile('[0-9]+\\-')\n",
    "sal_max_1 = re.compile('до [0-9]+')\n",
    "sal_max_2 = re.compile('\\-[0-9]+')"
   ]
  },
  {
   "cell_type": "markdown",
   "metadata": {},
   "source": [
    "#### Создание запроса и получение ответа:"
   ]
  },
  {
   "cell_type": "code",
   "execution_count": 93,
   "metadata": {},
   "outputs": [],
   "source": [
    "main_link = 'https://hh.ru/search/vacancy?L_is_autosearch=false&area=1&clusters=true&enable_snippets=true&text=' \n",
    "\n",
    "headers = {\n",
    "    'User-Agent': 'Mozilla/5.0 (Windows NT 6.1; Win64; x64) AppleWebKit/537.36 (KHTML, like Gecko) \\\n",
    "                    Chrome/76.0.3809.100 Safari/537.36 OPR/63.0.3368.53'\n",
    "}"
   ]
  },
  {
   "cell_type": "code",
   "execution_count": 94,
   "metadata": {},
   "outputs": [],
   "source": [
    "vacansy_list = []\n",
    "salary_list = []\n",
    "min_salary = []\n",
    "max_salary = []\n",
    "url_list = []\n",
    "source_name_list = []\n",
    "employer_list = []\n",
    "pages = 10"
   ]
  },
  {
   "cell_type": "code",
   "execution_count": 95,
   "metadata": {},
   "outputs": [],
   "source": [
    "for pg_num in range(0,pages):\n",
    "    # создаем запрос и получаем ответ\n",
    "    page = str(pg_num);\n",
    "    html = requests.get(main_link + vacancy + '&page=' + page,headers=headers)\n",
    "    # проверяем доступность страницы\n",
    "    if html.status_code is not requests.codes.ok:\n",
    "        print('Страница ' + html.url + ' не доступна')\n",
    "        break    \n",
    "    # делаем объект bs\n",
    "    bsObj = bs(html.text,'lxml')\n",
    "    # ищем блок с вакансиями\n",
    "    vacansy_block = bsObj.findAll(class_=\"bloko-link HH-LinkModifier\")\n",
    "    # создаем список вакансий\n",
    "    for i,vacansy in enumerate(vacansy_block):\n",
    "        vacansy_list.append(vacansy_block[i].getText())\n",
    "    # создаем список информационных элементов по вакансиям\n",
    "    item_info_block = bsObj.findAll(class_=\"vacancy-serp-item__row vacancy-serp-item__row_header\")\n",
    "    # создаем список элементов с информациям по зарплатам\n",
    "    for i,salary in enumerate(item_info_block):\n",
    "        salary_list.append(item_info_block[i].findChildren()[-1].getText())\n",
    "        salary_list[i] = re.sub('\\xa0',\"\",salary_list[i])\n",
    "    # создаем список нижней границы зарплат\n",
    "    for salary in salary_list:\n",
    "        if re.findall(sal_min_1,salary):\n",
    "            min_salary.append(re.findall(sal_min_1,salary))        \n",
    "        elif re.findall(sal_min_2,salary):\n",
    "            min_salary.append(re.findall(sal_min_2,salary))\n",
    "        else:\n",
    "            min_salary.append('')    \n",
    "    # создаем список верхней границы зарплат   \n",
    "    for salary in salary_list:\n",
    "        if re.findall(sal_max_1,salary):\n",
    "            max_salary.append(re.findall(sal_max_1,salary))        \n",
    "        elif re.findall(sal_min_2,salary):\n",
    "            max_salary.append(re.findall(sal_max_2,salary))\n",
    "        else:\n",
    "            max_salary.append('')    \n",
    "    # создаем список ссылок на вакансию \n",
    "    for i,url in enumerate(item_info_block):\n",
    "        if item_info_block[i].findChildren()[-3].get('href') is not None:\n",
    "            url_list.append(item_info_block[i].findChildren()[-3].get('href'))    \n",
    "        else:\n",
    "            url_list.append(item_info_block[i].findChildren()[-3].findChildren()[0].get('href'))\n",
    "    # создаем список ссылок на источник данных\n",
    "    for i,info in enumerate(item_info_block):\n",
    "        source_name_list.append('hh.ru')\n",
    "    # ищем блок с работодателями\n",
    "    employer_block = bsObj.findAll(class_=\"bloko-link bloko-link_secondary\")\n",
    "    # создаем список работодателей\n",
    "    for i,employer in enumerate(employer_block):\n",
    "        employer_list.append(employer_block[i].getText())\n",
    "    time.sleep(1);"
   ]
  },
  {
   "cell_type": "code",
   "execution_count": 96,
   "metadata": {},
   "outputs": [],
   "source": [
    "# чистим список нижней границы от ненужных символов    \n",
    "for i,salary in enumerate(min_salary):\n",
    "    if salary is not None:\n",
    "        min_salary[i] = re.sub('от ',\"\",str(min_salary[i]))\n",
    "        min_salary[i] = re.sub('-',\"\",str(min_salary[i]))\n",
    "        min_salary[i] = min_salary[i][2:-2]\n",
    "# чистим список верхней границы от ненужных символов           \n",
    "for i,salary in enumerate(max_salary):\n",
    "    if salary is not None:\n",
    "        max_salary[i] = re.sub('до ',\"\",str(max_salary[i]))\n",
    "        max_salary[i] = re.sub('-',\"\",str(max_salary[i]))  \n",
    "        max_salary[i] = max_salary[i][2:-2]"
   ]
  },
  {
   "cell_type": "code",
   "execution_count": 97,
   "metadata": {},
   "outputs": [],
   "source": [
    "s_vacansy_list = pd.Series(vacansy_list)\n",
    "s_min_salary = pd.Series(min_salary)\n",
    "s_max_salary = pd.Series(max_salary)\n",
    "s_url_list = pd.Series(url_list)\n",
    "s_source_name_list = pd.Series(source_name_list)\n",
    "s_employer_list = pd.Series(employer_list)"
   ]
  },
  {
   "cell_type": "code",
   "execution_count": 98,
   "metadata": {},
   "outputs": [],
   "source": [
    "df = pd.DataFrame()\n",
    "df['vacansy'] = s_vacansy_list\n",
    "df['min_salary'] = s_min_salary\n",
    "df['max_salary'] = s_max_salary\n",
    "df['url'] = s_url_list\n",
    "df['source'] = s_source_name_list\n",
    "df['employer'] = s_employer_list\n",
    "vacancy = re.sub('\\+',\" \",vacancy);\n",
    "vacancy = re.sub('%2B',\"+\",vacancy);\n",
    "vacancy = re.sub('%23',\"#\",vacancy);\n",
    "df.to_csv('hh ' + vacancy + '.csv',index=False,header=True, encoding='utf-8')"
   ]
  },
  {
   "cell_type": "code",
   "execution_count": 99,
   "metadata": {},
   "outputs": [
    {
     "data": {
      "text/plain": [
       "'программист с++'"
      ]
     },
     "execution_count": 99,
     "metadata": {},
     "output_type": "execute_result"
    }
   ],
   "source": [
    "vacancy"
   ]
  },
  {
   "cell_type": "code",
   "execution_count": 100,
   "metadata": {},
   "outputs": [
    {
     "data": {
      "text/html": [
       "<div>\n",
       "<style scoped>\n",
       "    .dataframe tbody tr th:only-of-type {\n",
       "        vertical-align: middle;\n",
       "    }\n",
       "\n",
       "    .dataframe tbody tr th {\n",
       "        vertical-align: top;\n",
       "    }\n",
       "\n",
       "    .dataframe thead th {\n",
       "        text-align: right;\n",
       "    }\n",
       "</style>\n",
       "<table border=\"1\" class=\"dataframe\">\n",
       "  <thead>\n",
       "    <tr style=\"text-align: right;\">\n",
       "      <th></th>\n",
       "      <th>vacansy</th>\n",
       "      <th>min_salary</th>\n",
       "      <th>max_salary</th>\n",
       "      <th>url</th>\n",
       "      <th>source</th>\n",
       "      <th>employer</th>\n",
       "    </tr>\n",
       "  </thead>\n",
       "  <tbody>\n",
       "    <tr>\n",
       "      <th>0</th>\n",
       "      <td>Программист С++/Qt</td>\n",
       "      <td>70000</td>\n",
       "      <td></td>\n",
       "      <td>https://hh.ru/vacancy/31273030?query=%D0%BF%D1...</td>\n",
       "      <td>hh.ru</td>\n",
       "      <td>Cappasity Inc.</td>\n",
       "    </tr>\n",
       "    <tr>\n",
       "      <th>1</th>\n",
       "      <td>Программист С++ (графика)</td>\n",
       "      <td>80000</td>\n",
       "      <td></td>\n",
       "      <td>https://hh.ru/vacancy/32543357?query=%D0%BF%D1...</td>\n",
       "      <td>hh.ru</td>\n",
       "      <td>Cappasity Inc.</td>\n",
       "    </tr>\n",
       "    <tr>\n",
       "      <th>2</th>\n",
       "      <td>Программист С++</td>\n",
       "      <td></td>\n",
       "      <td>100000</td>\n",
       "      <td>https://hh.ru/vacancy/32417827?query=%D0%BF%D1...</td>\n",
       "      <td>hh.ru</td>\n",
       "      <td>Группа Компаний «АМЕ»</td>\n",
       "    </tr>\n",
       "    <tr>\n",
       "      <th>3</th>\n",
       "      <td>Ведущий программист С++</td>\n",
       "      <td>200000</td>\n",
       "      <td></td>\n",
       "      <td>https://hh.ru/vacancy/32773076?query=%D0%BF%D1...</td>\n",
       "      <td>hh.ru</td>\n",
       "      <td>Эверис, Представительство</td>\n",
       "    </tr>\n",
       "    <tr>\n",
       "      <th>4</th>\n",
       "      <td>Программист С++</td>\n",
       "      <td></td>\n",
       "      <td></td>\n",
       "      <td>https://hh.ru/vacancy/30288124?query=%D0%BF%D1...</td>\n",
       "      <td>hh.ru</td>\n",
       "      <td>ЛАНТЕР (ГК ЛАНИТ)</td>\n",
       "    </tr>\n",
       "    <tr>\n",
       "      <th>5</th>\n",
       "      <td>Программист Junior С++</td>\n",
       "      <td>60000</td>\n",
       "      <td></td>\n",
       "      <td>https://hh.ru/vacancy/33254957?query=%D0%BF%D1...</td>\n",
       "      <td>hh.ru</td>\n",
       "      <td>Прикладная Логистика, АНО НИЦ CALS-Технологий</td>\n",
       "    </tr>\n",
       "    <tr>\n",
       "      <th>6</th>\n",
       "      <td>Программист С++</td>\n",
       "      <td></td>\n",
       "      <td>150000</td>\n",
       "      <td>https://hh.ru/vacancy/33514106?query=%D0%BF%D1...</td>\n",
       "      <td>hh.ru</td>\n",
       "      <td>МСК БЛ ГРУПП</td>\n",
       "    </tr>\n",
       "    <tr>\n",
       "      <th>7</th>\n",
       "      <td>Программист С++</td>\n",
       "      <td></td>\n",
       "      <td></td>\n",
       "      <td>https://hh.ru/vacancy/32759566?query=%D0%BF%D1...</td>\n",
       "      <td>hh.ru</td>\n",
       "      <td>Paradigm Geophysical</td>\n",
       "    </tr>\n",
       "    <tr>\n",
       "      <th>8</th>\n",
       "      <td>Программист С++</td>\n",
       "      <td></td>\n",
       "      <td></td>\n",
       "      <td>https://hh.ru/vacancy/32591713?query=%D0%BF%D1...</td>\n",
       "      <td>hh.ru</td>\n",
       "      <td>ООО НТ Прогресс</td>\n",
       "    </tr>\n",
       "    <tr>\n",
       "      <th>9</th>\n",
       "      <td>Программист С++ blockchain</td>\n",
       "      <td></td>\n",
       "      <td></td>\n",
       "      <td>https://hh.ru/vacancy/32152698?query=%D0%BF%D1...</td>\n",
       "      <td>hh.ru</td>\n",
       "      <td>Руформ</td>\n",
       "    </tr>\n",
       "  </tbody>\n",
       "</table>\n",
       "</div>"
      ],
      "text/plain": [
       "                      vacansy min_salary max_salary  \\\n",
       "0          Программист С++/Qt      70000              \n",
       "1   Программист С++ (графика)      80000              \n",
       "2             Программист С++                100000   \n",
       "3     Ведущий программист С++     200000              \n",
       "4             Программист С++                         \n",
       "5      Программист Junior С++      60000              \n",
       "6             Программист С++                150000   \n",
       "7             Программист С++                         \n",
       "8             Программист С++                         \n",
       "9  Программист С++ blockchain                         \n",
       "\n",
       "                                                 url source  \\\n",
       "0  https://hh.ru/vacancy/31273030?query=%D0%BF%D1...  hh.ru   \n",
       "1  https://hh.ru/vacancy/32543357?query=%D0%BF%D1...  hh.ru   \n",
       "2  https://hh.ru/vacancy/32417827?query=%D0%BF%D1...  hh.ru   \n",
       "3  https://hh.ru/vacancy/32773076?query=%D0%BF%D1...  hh.ru   \n",
       "4  https://hh.ru/vacancy/30288124?query=%D0%BF%D1...  hh.ru   \n",
       "5  https://hh.ru/vacancy/33254957?query=%D0%BF%D1...  hh.ru   \n",
       "6  https://hh.ru/vacancy/33514106?query=%D0%BF%D1...  hh.ru   \n",
       "7  https://hh.ru/vacancy/32759566?query=%D0%BF%D1...  hh.ru   \n",
       "8  https://hh.ru/vacancy/32591713?query=%D0%BF%D1...  hh.ru   \n",
       "9  https://hh.ru/vacancy/32152698?query=%D0%BF%D1...  hh.ru   \n",
       "\n",
       "                                         employer  \n",
       "0                                  Cappasity Inc.  \n",
       "1                                  Cappasity Inc.  \n",
       "2                           Группа Компаний «АМЕ»  \n",
       "3                       Эверис, Представительство  \n",
       "4                               ЛАНТЕР (ГК ЛАНИТ)  \n",
       "5   Прикладная Логистика, АНО НИЦ CALS-Технологий  \n",
       "6                                    МСК БЛ ГРУПП  \n",
       "7                            Paradigm Geophysical  \n",
       "8                                 ООО НТ Прогресс  \n",
       "9                                          Руформ  "
      ]
     },
     "execution_count": 100,
     "metadata": {},
     "output_type": "execute_result"
    }
   ],
   "source": [
    "df.head(10)"
   ]
  },
  {
   "cell_type": "markdown",
   "metadata": {},
   "source": [
    "### Superjob"
   ]
  },
  {
   "cell_type": "markdown",
   "metadata": {},
   "source": [
    "#### Ввод названия вакансии:"
   ]
  },
  {
   "cell_type": "code",
   "execution_count": 101,
   "metadata": {},
   "outputs": [
    {
     "name": "stdout",
     "output_type": "stream",
     "text": [
      "Введите название вакансии:программист c#\n"
     ]
    }
   ],
   "source": [
    "vacancy = input(\"Введите название вакансии:\")\n",
    "vacancy = re.sub('\\+',\"%2B\",vacancy);\n",
    "vacancy = re.sub('#',\"%23\",vacancy);\n",
    "vacancy = re.sub(' +',\"%20\",vacancy);"
   ]
  },
  {
   "cell_type": "markdown",
   "metadata": {},
   "source": [
    "#### Главный url и user agent:"
   ]
  },
  {
   "cell_type": "code",
   "execution_count": 102,
   "metadata": {},
   "outputs": [],
   "source": [
    "main_link = 'https://www.superjob.ru/vacancy/search/?keywords=' \n",
    "\n",
    "headers = {\n",
    "    'User-Agent': 'Mozilla/5.0 (Windows NT 6.1; Win64; x64) AppleWebKit/537.36 (KHTML, like Gecko) \\\n",
    "                    Chrome/76.0.3809.100 Safari/537.36 OPR/63.0.3368.53'\n",
    "}"
   ]
  },
  {
   "cell_type": "markdown",
   "metadata": {},
   "source": [
    "#### Создаем необходимые структуры и шаблоны:"
   ]
  },
  {
   "cell_type": "code",
   "execution_count": 103,
   "metadata": {},
   "outputs": [],
   "source": [
    "vacansy_list=[]\n",
    "salary_list=[]\n",
    "min_salary=[]\n",
    "max_salary=[]\n",
    "max_salary=[]\n",
    "url_list=[]\n",
    "source_name_list=[]\n",
    "employer_list=[]\n",
    "pages = 10"
   ]
  },
  {
   "cell_type": "code",
   "execution_count": 104,
   "metadata": {},
   "outputs": [],
   "source": [
    "sal_min_1 = re.compile('от[0-9]+₽')\n",
    "sal_min_2 = re.compile('[0-9]+—')\n",
    "sal_min_3 = re.compile('[0-9]+₽')\n",
    "sal_max_1 = re.compile('^[0-9]+₽')\n",
    "sal_max_2 = re.compile('—[0-9]+₽')\n",
    "url_re = re.compile('^icMQ_ _1QIBo f-test-link')\n",
    "employer_re = re.compile('^icMQ_ _205Zx f-test-link')"
   ]
  },
  {
   "cell_type": "code",
   "execution_count": 105,
   "metadata": {},
   "outputs": [],
   "source": [
    "for pg_num in range(1,pages + 1):\n",
    "     # создаем запрос и получаем ответ\n",
    "    page = str(pg_num);\n",
    "    html = requests.get(main_link + vacancy + '&page=' + page,headers=headers)\n",
    "    # делаем объект bs\n",
    "    bsObj = bs(html.text,'lxml')\n",
    "    # создаем блок с вакансиями\n",
    "    vacansy_block = bsObj.findAll(class_=\"_3mfro CuJz5 PlM3e _2JVkc _3LJqf\")\n",
    "    if vacansy_block == []:        \n",
    "        print('На странице '+ main_link + vacancy + '&page=' + page + ' нет вакансий')\n",
    "        break;\n",
    "    # создаем список вакансий\n",
    "    for vacansy in vacansy_block:\n",
    "        vacansy_list.append(vacansy.getText())\n",
    "    # создаем блок зарплат\n",
    "    salary_block = bsObj.findAll(class_=\"_3mfro _2Wp8I f-test-text-company-item-salary PlM3e _2JVkc _2VHxz\")\n",
    "    # создаем список зарплат\n",
    "    for i,salary in enumerate(salary_block):\n",
    "        salary_list.append(salary.getText()) \n",
    "        salary_list[i] = re.sub('\\xa0',\"\",salary_list[i])\n",
    "    # создаем список нижней границы зарплаты\n",
    "    for salary in salary_list:\n",
    "        if re.findall(sal_min_1,salary):\n",
    "            min_salary.append(re.findall(sal_min_1,salary))        \n",
    "        elif re.findall(sal_min_2,salary):\n",
    "            min_salary.append(re.findall(sal_min_2,salary))\n",
    "        elif re.findall(sal_min_3,salary):\n",
    "            min_salary.append(re.findall(sal_min_3,salary))\n",
    "        else:\n",
    "            min_salary.append('')   \n",
    "    # создаем список верхней границы зарплаты\n",
    "    for salary in salary_list:\n",
    "        if re.findall(sal_max_1,salary):\n",
    "            max_salary.append(re.findall(sal_max_1,salary))        \n",
    "        elif re.findall(sal_max_2,salary):\n",
    "            max_salary.append(re.findall(sal_max_2,salary))\n",
    "        else:\n",
    "            max_salary.append('')   \n",
    "    # создаем блок url\n",
    "    url_block = bsObj.findAll(class_=url_re)\n",
    "    # создаем список url\n",
    "    for i,url in enumerate(url_block):\n",
    "        url_list.append('https://www.superjob.ru' + url_block[i].get('href'))\n",
    "    # создаем список ссылок на источник данных\n",
    "    for i,info in enumerate(vacansy_block):\n",
    "        source_name_list.append('superjob.ru')\n",
    "    # создаем блок работодателей\n",
    "    employer_block = bsObj.findAll(class_=employer_re)\n",
    "    # создаем список работодателей\n",
    "    for i,employer in enumerate(employer_block):\n",
    "        employer_list.append(employer_block[i].getText())\n",
    "    time.sleep(1);"
   ]
  },
  {
   "cell_type": "code",
   "execution_count": 106,
   "metadata": {},
   "outputs": [],
   "source": [
    "# чистим список нижней границы от ненужных символов    \n",
    "for i,salary in enumerate(min_salary):\n",
    "    if salary is not None:\n",
    "        min_salary[i] = re.sub('от',\"\",str(min_salary[i]))\n",
    "        min_salary[i] = re.sub('—',\"\",str(min_salary[i]))\n",
    "        min_salary[i] = re.sub('₽',\"\",str(min_salary[i]))\n",
    "        min_salary[i] = min_salary[i][2:-2]\n",
    "# чистим список верхней границы от ненужных символов    \n",
    "for i,salary in enumerate(max_salary):\n",
    "    if salary is not None:\n",
    "        max_salary[i] = re.sub('—',\"\",str(max_salary[i]))\n",
    "        max_salary[i] = re.sub('₽',\"\",str(max_salary[i]))\n",
    "        max_salary[i] = max_salary[i][2:-2]"
   ]
  },
  {
   "cell_type": "code",
   "execution_count": 107,
   "metadata": {},
   "outputs": [],
   "source": [
    "s_vacansy_list2 = pd.Series(vacansy_list)\n",
    "s_min_salary2 = pd.Series(min_salary)\n",
    "s_max_salary2 = pd.Series(max_salary)\n",
    "s_url_list2 = pd.Series(url_list)\n",
    "s_source_name_list2 = pd.Series(source_name_list)\n",
    "s_employer_list2 = pd.Series(employer_list)"
   ]
  },
  {
   "cell_type": "code",
   "execution_count": 112,
   "metadata": {},
   "outputs": [],
   "source": [
    "df2 = pd.DataFrame()\n",
    "df2['vacansy'] = s_vacansy_list2\n",
    "df2['min_salary'] = s_min_salary2\n",
    "df2['max_salary'] = s_max_salary2\n",
    "df2['url'] = s_url_list2\n",
    "df2['source'] = s_source_name_list2\n",
    "df2['employer'] = s_employer_list2\n",
    "vacancy = re.sub('%20',\" \",vacancy);\n",
    "vacancy = re.sub('%2B',\"+\",vacancy);\n",
    "vacancy = re.sub('%23',\"#\",vacancy);\n",
    "df2.to_csv('superjob ' + vacancy + '.csv',index=False,header=True, encoding='utf-8')"
   ]
  },
  {
   "cell_type": "code",
   "execution_count": 111,
   "metadata": {},
   "outputs": [
    {
     "data": {
      "text/html": [
       "<div>\n",
       "<style scoped>\n",
       "    .dataframe tbody tr th:only-of-type {\n",
       "        vertical-align: middle;\n",
       "    }\n",
       "\n",
       "    .dataframe tbody tr th {\n",
       "        vertical-align: top;\n",
       "    }\n",
       "\n",
       "    .dataframe thead th {\n",
       "        text-align: right;\n",
       "    }\n",
       "</style>\n",
       "<table border=\"1\" class=\"dataframe\">\n",
       "  <thead>\n",
       "    <tr style=\"text-align: right;\">\n",
       "      <th></th>\n",
       "      <th>vacansy</th>\n",
       "      <th>min_salary</th>\n",
       "      <th>max_salary</th>\n",
       "      <th>url</th>\n",
       "      <th>source</th>\n",
       "      <th>employer</th>\n",
       "    </tr>\n",
       "  </thead>\n",
       "  <tbody>\n",
       "    <tr>\n",
       "      <th>0</th>\n",
       "      <td>Инженер-программист / Разработчик C#</td>\n",
       "      <td>300000</td>\n",
       "      <td></td>\n",
       "      <td>https://www.superjob.ru/vakansii/inzhener-prog...</td>\n",
       "      <td>superjob.ru</td>\n",
       "      <td>ФГУ НПП Гамма</td>\n",
       "    </tr>\n",
       "    <tr>\n",
       "      <th>1</th>\n",
       "      <td>Инженер-программист C#</td>\n",
       "      <td></td>\n",
       "      <td></td>\n",
       "      <td>https://www.superjob.ru/vakansii/inzhener-prog...</td>\n",
       "      <td>superjob.ru</td>\n",
       "      <td>Центральная ППК</td>\n",
       "    </tr>\n",
       "    <tr>\n",
       "      <th>2</th>\n",
       "      <td>.NET Developer / Разработчик C#</td>\n",
       "      <td></td>\n",
       "      <td></td>\n",
       "      <td>https://www.superjob.ru/vakansii/net-developer...</td>\n",
       "      <td>superjob.ru</td>\n",
       "      <td>Информационные технологии</td>\n",
       "    </tr>\n",
       "    <tr>\n",
       "      <th>3</th>\n",
       "      <td>Программист-разработчик C#</td>\n",
       "      <td></td>\n",
       "      <td></td>\n",
       "      <td>https://www.superjob.ru/vakansii/programmist-r...</td>\n",
       "      <td>superjob.ru</td>\n",
       "      <td>АйТи Элемент</td>\n",
       "    </tr>\n",
       "    <tr>\n",
       "      <th>4</th>\n",
       "      <td>Unity/C# Game Developer</td>\n",
       "      <td></td>\n",
       "      <td></td>\n",
       "      <td>https://www.superjob.ru/vakansii/unity-3240922...</td>\n",
       "      <td>superjob.ru</td>\n",
       "      <td>Tinybuild</td>\n",
       "    </tr>\n",
       "    <tr>\n",
       "      <th>5</th>\n",
       "      <td>Unity/C# Porting Developer (Netherlands)</td>\n",
       "      <td></td>\n",
       "      <td></td>\n",
       "      <td>https://www.superjob.ru/vakansii/unity-3240882...</td>\n",
       "      <td>superjob.ru</td>\n",
       "      <td>Tinybuild</td>\n",
       "    </tr>\n",
       "    <tr>\n",
       "      <th>6</th>\n",
       "      <td>Senior Web.NET C#/F# разработчик</td>\n",
       "      <td>180000</td>\n",
       "      <td></td>\n",
       "      <td>https://www.superjob.ru/vakansii/senior-web-32...</td>\n",
       "      <td>superjob.ru</td>\n",
       "      <td>Открытая Клиника</td>\n",
       "    </tr>\n",
       "    <tr>\n",
       "      <th>7</th>\n",
       "      <td>Web-программист / Web-разработчик</td>\n",
       "      <td>150000</td>\n",
       "      <td>200000</td>\n",
       "      <td>https://www.superjob.ru/vakansii/web-programmi...</td>\n",
       "      <td>superjob.ru</td>\n",
       "      <td>Минерал-Инфо</td>\n",
       "    </tr>\n",
       "    <tr>\n",
       "      <th>8</th>\n",
       "      <td>Инженер-программист</td>\n",
       "      <td>98310</td>\n",
       "      <td>98310</td>\n",
       "      <td>https://www.superjob.ru/vakansii/inzhener-prog...</td>\n",
       "      <td>superjob.ru</td>\n",
       "      <td>\"Корпорация \"ВНИИЭМ\"</td>\n",
       "    </tr>\n",
       "    <tr>\n",
       "      <th>9</th>\n",
       "      <td>Программист C#</td>\n",
       "      <td>160000</td>\n",
       "      <td></td>\n",
       "      <td>https://www.superjob.ru/vakansii/programmist-c...</td>\n",
       "      <td>superjob.ru</td>\n",
       "      <td>Сеть медицинских клиник «ИММА» («IMMA»)</td>\n",
       "    </tr>\n",
       "  </tbody>\n",
       "</table>\n",
       "</div>"
      ],
      "text/plain": [
       "                                    vacansy min_salary max_salary  \\\n",
       "0      Инженер-программист / Разработчик C#     300000              \n",
       "1                    Инженер-программист C#                         \n",
       "2           .NET Developer / Разработчик C#                         \n",
       "3                Программист-разработчик C#                         \n",
       "4                   Unity/C# Game Developer                         \n",
       "5  Unity/C# Porting Developer (Netherlands)                         \n",
       "6          Senior Web.NET C#/F# разработчик     180000              \n",
       "7         Web-программист / Web-разработчик     150000     200000   \n",
       "8                       Инженер-программист      98310      98310   \n",
       "9                            Программист C#     160000              \n",
       "\n",
       "                                                 url       source  \\\n",
       "0  https://www.superjob.ru/vakansii/inzhener-prog...  superjob.ru   \n",
       "1  https://www.superjob.ru/vakansii/inzhener-prog...  superjob.ru   \n",
       "2  https://www.superjob.ru/vakansii/net-developer...  superjob.ru   \n",
       "3  https://www.superjob.ru/vakansii/programmist-r...  superjob.ru   \n",
       "4  https://www.superjob.ru/vakansii/unity-3240922...  superjob.ru   \n",
       "5  https://www.superjob.ru/vakansii/unity-3240882...  superjob.ru   \n",
       "6  https://www.superjob.ru/vakansii/senior-web-32...  superjob.ru   \n",
       "7  https://www.superjob.ru/vakansii/web-programmi...  superjob.ru   \n",
       "8  https://www.superjob.ru/vakansii/inzhener-prog...  superjob.ru   \n",
       "9  https://www.superjob.ru/vakansii/programmist-c...  superjob.ru   \n",
       "\n",
       "                                  employer  \n",
       "0                            ФГУ НПП Гамма  \n",
       "1                          Центральная ППК  \n",
       "2                Информационные технологии  \n",
       "3                             АйТи Элемент  \n",
       "4                                Tinybuild  \n",
       "5                                Tinybuild  \n",
       "6                         Открытая Клиника  \n",
       "7                             Минерал-Инфо  \n",
       "8                     \"Корпорация \"ВНИИЭМ\"  \n",
       "9  Сеть медицинских клиник «ИММА» («IMMA»)  "
      ]
     },
     "execution_count": 111,
     "metadata": {},
     "output_type": "execute_result"
    }
   ],
   "source": [
    "df2.head(10)"
   ]
  },
  {
   "cell_type": "markdown",
   "metadata": {},
   "source": [
    "## Задание 2:"
   ]
  },
  {
   "cell_type": "code",
   "execution_count": 5,
   "metadata": {},
   "outputs": [],
   "source": [
    "main_link = 'https://rskrf.ru/ratings/produkty-pitaniya/' \n",
    "\n",
    "headers = {\n",
    "    'User-Agent': 'Mozilla/5.0 (Windows NT 6.1; Win64; x64) AppleWebKit/537.36 (KHTML, like Gecko) \\\n",
    "                    Chrome/76.0.3809.100 Safari/537.36 OPR/63.0.3368.53'\n",
    "}"
   ]
  },
  {
   "cell_type": "code",
   "execution_count": 6,
   "metadata": {},
   "outputs": [],
   "source": [
    "products_url_list=[]\n",
    "subproducts_url_list=[]\n",
    "product_name_list=[]\n",
    "category_name_list=[]\n",
    "subcategory_name_list=[]\n",
    "name_url_list=[]"
   ]
  },
  {
   "cell_type": "code",
   "execution_count": 7,
   "metadata": {},
   "outputs": [],
   "source": [
    "html = requests.get(main_link,headers=headers)\n",
    "if html.status_code is not requests.codes.ok:\n",
    "        print('Страница ' + html.url + ' не доступна')\n",
    "else:\n",
    "    # делаем объект bs\n",
    "    bsObj = bs(html.text,'lxml')\n",
    "    # ищем блок с ссылками на категории продуктов\n",
    "    products_url_block = bsObj.findAll(class_=\"category-item\")"
   ]
  },
  {
   "cell_type": "markdown",
   "metadata": {},
   "source": [
    "#### Получаем список ссылок на все категории продуктов:"
   ]
  },
  {
   "cell_type": "code",
   "execution_count": 8,
   "metadata": {},
   "outputs": [],
   "source": [
    "for i, item in enumerate(products_url_block):\n",
    "    products_url_list.append('https://rskrf.ru' +  products_url_block[i].find('a').get('href'))"
   ]
  },
  {
   "cell_type": "markdown",
   "metadata": {},
   "source": [
    "#### Получаем список ссылок на все подкатегории продуктов:"
   ]
  },
  {
   "cell_type": "code",
   "execution_count": 9,
   "metadata": {},
   "outputs": [],
   "source": [
    "for url in products_url_list:\n",
    "    link = url;\n",
    "    html = requests.get(link)\n",
    "    if html.status_code is not requests.codes.ok:\n",
    "        print('Страница ' + html.url + ' не доступна')\n",
    "        break\n",
    "    # делаем объект bs\n",
    "    bsObj = bs(html.text,'lxml')\n",
    "    subproducts_url_block = bsObj.findAll(class_=\"category-item\")\n",
    "    for i, item in enumerate(subproducts_url_block):\n",
    "        subproducts_url_list.append('https://rskrf.ru' +  subproducts_url_block[i].find('a').get('href'))"
   ]
  },
  {
   "cell_type": "markdown",
   "metadata": {},
   "source": [
    "#### Импортируем selenium:"
   ]
  },
  {
   "cell_type": "code",
   "execution_count": 10,
   "metadata": {},
   "outputs": [],
   "source": [
    "from selenium import webdriver\n",
    "from selenium.webdriver.common.by import By"
   ]
  },
  {
   "cell_type": "markdown",
   "metadata": {},
   "source": [
    "#### Список имен продуктов:"
   ]
  },
  {
   "cell_type": "code",
   "execution_count": 11,
   "metadata": {},
   "outputs": [],
   "source": [
    "product_name_list=[]"
   ]
  },
  {
   "cell_type": "code",
   "execution_count": 13,
   "metadata": {},
   "outputs": [],
   "source": [
    "driver = webdriver.PhantomJS('C:\\\\Users\\\\stroganov\\\\phantomjs-2.1.1-windows\\\\bin\\\\phantomjs')\n",
    "for url in subproducts_url_list:\n",
    "    driver.get(url)\n",
    "    time.sleep(3)\n",
    "    content = driver.find_elements_by_xpath('//*[@class=\"col-xl-4 col-lg-4 col-md-4 product\"]')\n",
    "    for elem in content:\n",
    "        product_name_list.append(elem.text)\n",
    "driver.close()"
   ]
  },
  {
   "cell_type": "code",
   "execution_count": 14,
   "metadata": {},
   "outputs": [
    {
     "data": {
      "text/plain": [
       "['Globus\\nСухие продукты экструзионной технологии (СПЭТ) - шарики кукурузные, шоколадные\\n4.513\\n24.99 ₽ /100 г',\n",
       " 'Schär\\nЗавтраки сухие: шарики шоколадные Milly Magic\\n4.330\\n186.8 ₽ /100 г',\n",
       " 'Кузя Лакомкин\\nСухие завтраки. Шарики мультизерновые, глазированные шоколадные, «Кузя Лакомкин»\\n4.244\\n41.39 ₽ /100 г',\n",
       " 'Krosby choco balls\\nЗавтраки сухие, экструзионные, из зернового сырья, обогащенные витаминами и минеральными веществами, глазированные шарики шоколадные\\n4.230\\n41 ₽ /100 г',\n",
       " 'Коровка\\nЗавтраки сухие, фигурные, глазированные. Шарики, вкус шоколада\\n4.086\\n35.79 ₽ /100 г',\n",
       " 'Любятово\\nЗавтраки готовые: шарики шоколадные\\n4.040\\n17.98 ₽ /100 г',\n",
       " 'Metro cheff\\nШарики со вкусом шоколада\\n3.405\\n21.78 ₽ /100 г',\n",
       " 'Mamori\\nЗавтраки сухие Crunchy тм Mamori: шарики шоколадные, хрустящие\\n3.004\\n38 ₽ /100 г',\n",
       " 'Ого!\\nСухие завтраки «Десять витаминов» Choca (шарики со вкусом молочного шоколада)\\n2.916\\n29.99 ₽ /100 г',\n",
       " 'Каждый день\\nСухие завтраки глазированные, без добавления витаминов, сладкие: шоколадные шарики.\\n2.723\\n12.4 ₽ /100 г']"
      ]
     },
     "execution_count": 14,
     "metadata": {},
     "output_type": "execute_result"
    }
   ],
   "source": [
    "product_name_list[:10]"
   ]
  },
  {
   "cell_type": "markdown",
   "metadata": {},
   "source": [
    "#### Ссылки на все продукты:"
   ]
  },
  {
   "cell_type": "code",
   "execution_count": 16,
   "metadata": {},
   "outputs": [],
   "source": [
    "driver = webdriver.PhantomJS('C:\\\\Users\\\\stroganov\\\\phantomjs-2.1.1-windows\\\\bin\\\\phantomjs')\n",
    "for url in subproducts_url_list:\n",
    "    driver.get(url)\n",
    "    time.sleep(3)\n",
    "    content = driver.find_elements_by_xpath('//*[@class=\"col-xl-4 col-lg-4 col-md-4 product\"]/div[2]/a')\n",
    "    for elem in content:\n",
    "        name_url_list.append(elem.get_attribute(\"href\"))\n",
    "driver.close()"
   ]
  },
  {
   "cell_type": "code",
   "execution_count": 17,
   "metadata": {},
   "outputs": [
    {
     "data": {
      "text/plain": [
       "['https://rskrf.ru/goods/sukhie-produkty-ekstruzionnoy-tekhnologii-spet-shariki-kukuruznye-shokoladnye/',\n",
       " 'https://rskrf.ru/ratings/produkty-pitaniya/bakaleya/sukhie-zavtraki/#',\n",
       " 'https://rskrf.ru/goods/zavtraki-sukhie-shariki-shokoladnye-milly-magic/',\n",
       " 'https://rskrf.ru/ratings/produkty-pitaniya/bakaleya/sukhie-zavtraki/#',\n",
       " 'https://rskrf.ru/goods/sukhie-zavtraki-shariki-multizernovye-glazirovannye-shokoladnye-kuzya-lakomkin/',\n",
       " 'https://rskrf.ru/ratings/produkty-pitaniya/bakaleya/sukhie-zavtraki/#',\n",
       " 'https://rskrf.ru/goods/zavtraki-sukhie-ekstruzionnye-iz-zernovogo-syrya-obogashchennye-vitaminami-i-mineralnymi-veshchestva/',\n",
       " 'https://rskrf.ru/ratings/produkty-pitaniya/bakaleya/sukhie-zavtraki/#',\n",
       " 'https://rskrf.ru/goods/zavtraki-sukhie-figurnye-glazirovannye-shariki-vkus-shokolada/',\n",
       " 'https://rskrf.ru/ratings/produkty-pitaniya/bakaleya/sukhie-zavtraki/#']"
      ]
     },
     "execution_count": 17,
     "metadata": {},
     "output_type": "execute_result"
    }
   ],
   "source": [
    "name_url_list[:10]"
   ]
  },
  {
   "cell_type": "markdown",
   "metadata": {},
   "source": [
    "#### Удаляем якоря:"
   ]
  },
  {
   "cell_type": "code",
   "execution_count": 18,
   "metadata": {},
   "outputs": [],
   "source": [
    "nul = [v for i, v in enumerate(name_url_list) if i % 2 == 0]"
   ]
  },
  {
   "cell_type": "code",
   "execution_count": 19,
   "metadata": {},
   "outputs": [
    {
     "data": {
      "text/plain": [
       "True"
      ]
     },
     "execution_count": 19,
     "metadata": {},
     "output_type": "execute_result"
    }
   ],
   "source": [
    "len(product_name_list)==len(nul)"
   ]
  },
  {
   "cell_type": "markdown",
   "metadata": {},
   "source": [
    "#### Попытка получить названия категорий:"
   ]
  },
  {
   "cell_type": "code",
   "execution_count": 22,
   "metadata": {},
   "outputs": [],
   "source": [
    "link='https://rskrf.ru/goods/sukhie-produkty-ekstruzionnoy-tekhnologii-spet-shariki-kukuruznye-shokoladnye/'\n",
    "html2 = requests.get(link,headers=headers)\n",
    "html2.encoding = 'utf-8'\n",
    "if html2.status_code is not requests.codes.ok:\n",
    "        print('Страница ' + html2.url + ' не доступна')\n",
    "else:\n",
    "    # делаем объект bs\n",
    "    bsObj2 = bs(html2.text,'lxml')\n",
    "    # ищем блок с ссылками на категории продуктов\n",
    "    category_name_block = bsObj.findAll(class_=\"breadcrumb-item\")"
   ]
  },
  {
   "cell_type": "code",
   "execution_count": 23,
   "metadata": {},
   "outputs": [
    {
     "data": {
      "text/plain": [
       "[<li class=\"breadcrumb-item\"><a href=\"/\">ÐÐ»Ð°Ð²Ð½Ð°Ñ</a></li>,\n",
       " <li class=\"breadcrumb-item\"><a href=\"/ratings/\">Ð ÐµÐ¹ÑÐ¸Ð½Ð³Ð¸</a></li>,\n",
       " <li class=\"breadcrumb-item\"><a href=\"/ratings/produkty-pitaniya/\">ÐÑÐ¾Ð´ÑÐºÑÑ Ð¿Ð¸ÑÐ°Ð½Ð¸Ñ</a></li>,\n",
       " <li aria-current=\"page\" class=\"breadcrumb-item active\">Ð¥Ð»ÐµÐ±Ð¾Ð±ÑÐ»Ð¾ÑÐ½ÑÐµ Ð¸Ð·Ð´ÐµÐ»Ð¸Ñ</li>]"
      ]
     },
     "execution_count": 23,
     "metadata": {},
     "output_type": "execute_result"
    }
   ],
   "source": [
    "category_name_block"
   ]
  },
  {
   "cell_type": "markdown",
   "metadata": {},
   "source": [
    "#### Почистим имена продуктов:"
   ]
  },
  {
   "cell_type": "code",
   "execution_count": 20,
   "metadata": {},
   "outputs": [],
   "source": [
    "for i,name in enumerate(product_name_list):\n",
    "    product_name_list[i] = re.sub('\\n',\" \",product_name_list[i])\n",
    "    product_name_list[i] = re.sub('\\d{1}\\.\\d{3}',\"\",product_name_list[i])\n",
    "    product_name_list[i] = re.sub('\\d+\\.\\d+ ₽',\"\",product_name_list[i])\n",
    "    product_name_list[i] = re.sub('\\d+ ₽',\"\",product_name_list[i])\n",
    "    product_name_list[i] = re.sub('/\\d+ г',\"\",product_name_list[i])\n",
    "    product_name_list[i] = re.sub('/кг',\"\",product_name_list[i])\n",
    "    product_name_list[i] = re.sub(' кг$',\"\",product_name_list[i])\n",
    "    product_name_list[i] = re.sub('/\\d+г',\"\",product_name_list[i])\n",
    "    product_name_list[i] = re.sub('/шт',\"\",product_name_list[i])\n",
    "    product_name_list[i] = re.sub('/л',\"\",product_name_list[i])\n",
    "    product_name_list[i] = re.sub(' \\d+г$',\"\",product_name_list[i])\n",
    "    product_name_list[i] = re.sub(' +$',\"\",product_name_list[i])"
   ]
  },
  {
   "cell_type": "markdown",
   "metadata": {},
   "source": [
    "#### Функция для поиска тега содержащего текст tagText по url в классе rating-item:"
   ]
  },
  {
   "cell_type": "code",
   "execution_count": 24,
   "metadata": {},
   "outputs": [],
   "source": [
    "def findTagNum(tagText,url):\n",
    "    tags=[]\n",
    "    driver = webdriver.PhantomJS('C:\\\\Users\\\\stroganov\\\\phantomjs-2.1.1-windows\\\\bin\\\\phantomjs')\n",
    "    driver.get(url)\n",
    "    content = driver.find_elements_by_xpath('//*[@class=\"rating-item\"]')\n",
    "    for elem in content:\n",
    "        tags.append(elem.text)\n",
    "    driver.close()\n",
    "    for i,tag in enumerate(tags):\n",
    "        tags[i] = re.sub('\\n',\"\",tags[i])\n",
    "        tags[i] = re.sub('\\d{1}\\.\\d{3}',\"\",tags[i])\n",
    "        if tags[i] == tagText:\n",
    "            return i+1\n",
    "    return None"
   ]
  },
  {
   "cell_type": "markdown",
   "metadata": {},
   "source": [
    "#### Заходим на страницу каждого товара и заполняем поля: качество, безопасность, общий рейтинг:"
   ]
  },
  {
   "cell_type": "code",
   "execution_count": 26,
   "metadata": {},
   "outputs": [],
   "source": [
    "quality_list=[]\n",
    "rate_list=[]\n",
    "safety_list=[]\n",
    "for url in nul:\n",
    "    html = requests.get(url,headers=headers)\n",
    "    bsObj = bs(html.text,'lxml')\n",
    "    index = findTagNum('Качество',url)\n",
    "    if index is not None:\n",
    "        quality = bsObj.findAll(class_=\"rating-item\")[index].findChildren()[2].getText()\n",
    "    else:\n",
    "        quality = 'None'    \n",
    "    index = findTagNum('Безопасность',url)\n",
    "    if index is not None:\n",
    "        safety = bsObj.findAll(class_=\"rating-item\")[index].findChildren()[2].getText()  \n",
    "    else:\n",
    "        safety = 'None'\n",
    "    rate = bsObj.find(class_=\"rating-item big\").findChildren()[2].getText()\n",
    "    quality_list.append(quality)    \n",
    "    rate_list.append(rate)\n",
    "    safety_list.append(safety)\n",
    "    time.sleep(1)"
   ]
  },
  {
   "cell_type": "markdown",
   "metadata": {},
   "source": [
    "#### Сохраняем данные в датафрейм и в файл:"
   ]
  },
  {
   "cell_type": "code",
   "execution_count": 27,
   "metadata": {},
   "outputs": [],
   "source": [
    "s_pnl = pd.Series(product_name_list)\n",
    "s_rate = pd.Series(rate_list)\n",
    "s_nul = pd.Series(nul)\n",
    "s_quality = pd.Series(quality_list)\n",
    "s_safety = pd.Series(safety_list)"
   ]
  },
  {
   "cell_type": "code",
   "execution_count": 28,
   "metadata": {},
   "outputs": [],
   "source": [
    "df = pd.DataFrame()\n",
    "df['product_name'] = s_pnl\n",
    "df['quality'] = s_quality\n",
    "df['safety'] = s_safety\n",
    "df['rate'] = s_rate\n",
    "df['product_url'] = s_nul\n",
    "df.to_csv('products.csv',index=False,header=True, encoding='utf-8')"
   ]
  },
  {
   "cell_type": "code",
   "execution_count": 29,
   "metadata": {},
   "outputs": [
    {
     "data": {
      "text/html": [
       "<div>\n",
       "<style scoped>\n",
       "    .dataframe tbody tr th:only-of-type {\n",
       "        vertical-align: middle;\n",
       "    }\n",
       "\n",
       "    .dataframe tbody tr th {\n",
       "        vertical-align: top;\n",
       "    }\n",
       "\n",
       "    .dataframe thead th {\n",
       "        text-align: right;\n",
       "    }\n",
       "</style>\n",
       "<table border=\"1\" class=\"dataframe\">\n",
       "  <thead>\n",
       "    <tr style=\"text-align: right;\">\n",
       "      <th></th>\n",
       "      <th>product_name</th>\n",
       "      <th>quality</th>\n",
       "      <th>safety</th>\n",
       "      <th>rate</th>\n",
       "      <th>product_url</th>\n",
       "    </tr>\n",
       "  </thead>\n",
       "  <tbody>\n",
       "    <tr>\n",
       "      <th>0</th>\n",
       "      <td>Globus Сухие продукты экструзионной технологии...</td>\n",
       "      <td>4.025</td>\n",
       "      <td>5.000</td>\n",
       "      <td>4.513</td>\n",
       "      <td>https://rskrf.ru/goods/sukhie-produkty-ekstruz...</td>\n",
       "    </tr>\n",
       "    <tr>\n",
       "      <th>1</th>\n",
       "      <td>Schär Завтраки сухие: шарики шоколадные Milly ...</td>\n",
       "      <td>3.660</td>\n",
       "      <td>5.000</td>\n",
       "      <td>4.330</td>\n",
       "      <td>https://rskrf.ru/goods/zavtraki-sukhie-shariki...</td>\n",
       "    </tr>\n",
       "    <tr>\n",
       "      <th>2</th>\n",
       "      <td>Кузя Лакомкин Сухие завтраки. Шарики мультизер...</td>\n",
       "      <td>3.488</td>\n",
       "      <td>5.000</td>\n",
       "      <td>4.244</td>\n",
       "      <td>https://rskrf.ru/goods/sukhie-zavtraki-shariki...</td>\n",
       "    </tr>\n",
       "    <tr>\n",
       "      <th>3</th>\n",
       "      <td>Krosby choco balls Завтраки сухие, экструзионн...</td>\n",
       "      <td>3.460</td>\n",
       "      <td>5.000</td>\n",
       "      <td>4.230</td>\n",
       "      <td>https://rskrf.ru/goods/zavtraki-sukhie-ekstruz...</td>\n",
       "    </tr>\n",
       "    <tr>\n",
       "      <th>4</th>\n",
       "      <td>Коровка Завтраки сухие, фигурные, глазированны...</td>\n",
       "      <td>3.173</td>\n",
       "      <td>5.000</td>\n",
       "      <td>4.086</td>\n",
       "      <td>https://rskrf.ru/goods/zavtraki-sukhie-figurny...</td>\n",
       "    </tr>\n",
       "  </tbody>\n",
       "</table>\n",
       "</div>"
      ],
      "text/plain": [
       "                                        product_name quality safety   rate  \\\n",
       "0  Globus Сухие продукты экструзионной технологии...   4.025  5.000  4.513   \n",
       "1  Schär Завтраки сухие: шарики шоколадные Milly ...   3.660  5.000  4.330   \n",
       "2  Кузя Лакомкин Сухие завтраки. Шарики мультизер...   3.488  5.000  4.244   \n",
       "3  Krosby choco balls Завтраки сухие, экструзионн...   3.460  5.000  4.230   \n",
       "4  Коровка Завтраки сухие, фигурные, глазированны...   3.173  5.000  4.086   \n",
       "\n",
       "                                         product_url  \n",
       "0  https://rskrf.ru/goods/sukhie-produkty-ekstruz...  \n",
       "1  https://rskrf.ru/goods/zavtraki-sukhie-shariki...  \n",
       "2  https://rskrf.ru/goods/sukhie-zavtraki-shariki...  \n",
       "3  https://rskrf.ru/goods/zavtraki-sukhie-ekstruz...  \n",
       "4  https://rskrf.ru/goods/zavtraki-sukhie-figurny...  "
      ]
     },
     "execution_count": 29,
     "metadata": {},
     "output_type": "execute_result"
    }
   ],
   "source": [
    "df.head()"
   ]
  }
 ],
 "metadata": {
  "kernelspec": {
   "display_name": "Python 3",
   "language": "python",
   "name": "python3"
  },
  "language_info": {
   "codemirror_mode": {
    "name": "ipython",
    "version": 3
   },
   "file_extension": ".py",
   "mimetype": "text/x-python",
   "name": "python",
   "nbconvert_exporter": "python",
   "pygments_lexer": "ipython3",
   "version": "3.7.3"
  }
 },
 "nbformat": 4,
 "nbformat_minor": 2
}

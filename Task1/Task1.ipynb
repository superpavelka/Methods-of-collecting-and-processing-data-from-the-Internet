{
 "cells": [
  {
   "cell_type": "markdown",
   "metadata": {},
   "source": [
    "### Задание 1"
   ]
  },
  {
   "cell_type": "markdown",
   "metadata": {},
   "source": [
    "Посмотреть документацию к API гитхаба, разобраться как вывести список репозиториев для конкретного пользователя, сохранить JSON-вывод в файле *.json"
   ]
  },
  {
   "cell_type": "code",
   "execution_count": 11,
   "metadata": {},
   "outputs": [
    {
     "name": "stdout",
     "output_type": "stream",
     "text": [
      "Enter the github username:superpavelka\n"
     ]
    }
   ],
   "source": [
    "import requests\n",
    "username = input(\"Enter the github username:\")\n",
    "request = requests.get('https://api.github.com/users/'+username+'/repos')"
   ]
  },
  {
   "cell_type": "code",
   "execution_count": 12,
   "metadata": {},
   "outputs": [
    {
     "data": {
      "text/plain": [
       "<Response [200]>"
      ]
     },
     "execution_count": 12,
     "metadata": {},
     "output_type": "execute_result"
    }
   ],
   "source": [
    "request"
   ]
  },
  {
   "cell_type": "code",
   "execution_count": 17,
   "metadata": {},
   "outputs": [
    {
     "name": "stdout",
     "output_type": "stream",
     "text": [
      "Project Number: 1\n",
      "Project Name: Geekbrains_DB_0607\n",
      "Project URL: https://github.com/superpavelka/Geekbrains_DB_0607 \n",
      "\n",
      "Project Number: 2\n",
      "Project Name: GetIATA\n",
      "Project URL: https://github.com/superpavelka/GetIATA \n",
      "\n",
      "Project Number: 3\n",
      "Project Name: player_vs_hamsters\n",
      "Project URL: https://github.com/superpavelka/player_vs_hamsters \n",
      "\n",
      "Project Number: 4\n",
      "Project Name: Python_for_DS\n",
      "Project URL: https://github.com/superpavelka/Python_for_DS \n",
      "\n",
      "Project Number: 5\n",
      "Project Name: py_tasks-file_manager\n",
      "Project URL: https://github.com/superpavelka/py_tasks-file_manager \n",
      "\n",
      "Project Number: 6\n",
      "Project Name: py_tasks_oop-1\n",
      "Project URL: https://github.com/superpavelka/py_tasks_oop-1 \n",
      "\n",
      "Project Number: 7\n",
      "Project Name: py_tasks_oop-5\n",
      "Project URL: https://github.com/superpavelka/py_tasks_oop-5 \n",
      "\n",
      "Project Number: 8\n",
      "Project Name: py_tasks_oop-6\n",
      "Project URL: https://github.com/superpavelka/py_tasks_oop-6 \n",
      "\n",
      "Project Number: 9\n",
      "Project Name: wiki_parser\n",
      "Project URL: https://github.com/superpavelka/wiki_parser \n",
      "\n"
     ]
    }
   ],
   "source": [
    "req_json = request.json()\n",
    "for i in range(0,len(req_json)):\n",
    "  print(\"Project Number:\",i+1)\n",
    "  print(\"Project Name:\",req_json[i]['name'])\n",
    "  print(\"Project URL:\",req_json[i]['svn_url'],\"\\n\")"
   ]
  },
  {
   "cell_type": "markdown",
   "metadata": {},
   "source": [
    "#### Сохраним ответ в json файл:"
   ]
  },
  {
   "cell_type": "code",
   "execution_count": 14,
   "metadata": {},
   "outputs": [],
   "source": [
    "import json"
   ]
  },
  {
   "cell_type": "code",
   "execution_count": 18,
   "metadata": {},
   "outputs": [],
   "source": [
    "with open(\"repo.json\", \"w\", encoding=\"utf-8\") as file:\n",
    "    json.dump(req_json, file)"
   ]
  },
  {
   "cell_type": "code",
   "execution_count": 20,
   "metadata": {},
   "outputs": [],
   "source": [
    "with open(\"repo.json\", mode='r', encoding='utf-8') as file:\n",
    "        req_json_r = json.load(file)"
   ]
  },
  {
   "cell_type": "markdown",
   "metadata": {},
   "source": [
    "#### Убедимся в том, что сохраненный ответ соответсвует полученному:"
   ]
  },
  {
   "cell_type": "code",
   "execution_count": 21,
   "metadata": {},
   "outputs": [
    {
     "data": {
      "text/plain": [
       "True"
      ]
     },
     "execution_count": 21,
     "metadata": {},
     "output_type": "execute_result"
    }
   ],
   "source": [
    "req_json == req_json_r"
   ]
  },
  {
   "cell_type": "markdown",
   "metadata": {},
   "source": [
    "### Задание 2"
   ]
  },
  {
   "cell_type": "markdown",
   "metadata": {},
   "source": [
    "Изучить список открытых API. Найти среди них любое, которое требует авторизацию (любого типа). Выполнить запросы к нему, пройдя авторизацию.  Результат ответа от сервера записать в файл "
   ]
  },
  {
   "cell_type": "code",
   "execution_count": 22,
   "metadata": {},
   "outputs": [],
   "source": [
    "request = requests.get('https://api.login.yahoo.com/oauth2/request_auth?client_id=dj0yJmk9Z0U2SXdYU0FoMkxmJmQ9WVdrOVMzQnFUR3hYTjJrbWNHbzlNQS0tJnM9Y29uc3VtZXJzZWNyZXQmc3Y9MCZ4PTA3&response_type=code&language=en-us')"
   ]
  },
  {
   "cell_type": "code",
   "execution_count": 23,
   "metadata": {},
   "outputs": [
    {
     "data": {
      "text/plain": [
       "<Response [200]>"
      ]
     },
     "execution_count": 23,
     "metadata": {},
     "output_type": "execute_result"
    }
   ],
   "source": [
    "request"
   ]
  },
  {
   "cell_type": "code",
   "execution_count": 29,
   "metadata": {},
   "outputs": [],
   "source": [
    "from pprint import pprint"
   ]
  },
  {
   "cell_type": "code",
   "execution_count": 30,
   "metadata": {},
   "outputs": [
    {
     "name": "stdout",
     "output_type": "stream",
     "text": [
      "('<!DOCTYPE html>\\n'\n",
      " '<html id=\"Stencil\" class=\"no-js mobile\">\\n'\n",
      " '    <head>\\n'\n",
      " '        <meta charset=\"utf-8\">\\n'\n",
      " '        <meta name=\"viewport\" content=\"initial-scale=1, maximum-scale=1, '\n",
      " 'user-scalable=0\"/>\\n'\n",
      " '        <meta name=\"format-detection\" content=\"telephone=no\">\\n'\n",
      " '        <meta name=\"referrer\" content=\"origin-when-cross-origin\">\\n'\n",
      " '        <title>Yahoo</title>\\n'\n",
      " '        <link rel=\"dns-prefetch\" href=\"//gstatic.com\">\\n'\n",
      " '        <link rel=\"dns-prefetch\" href=\"//google.com\">\\n'\n",
      " '        <link rel=\"dns-prefetch\" href=\"//s.yimg.com\">\\n'\n",
      " '        <link rel=\"dns-prefetch\" href=\"//y.analytics.yahoo.com\">\\n'\n",
      " '        <link rel=\"dns-prefetch\" href=\"//ucs.query.yahoo.com\">\\n'\n",
      " '        <link rel=\"dns-prefetch\" href=\"//geo.query.yahoo.com\">\\n'\n",
      " '        <link rel=\"dns-prefetch\" href=\"//geo.yahoo.com\">\\n'\n",
      " '        <link rel=\"icon\" type=\"image/x-icon\" '\n",
      " 'href=\"https://s.yimg.com/wm/login/favicon.ico\">\\n'\n",
      " '        <link rel=\"shortcut icon\" type=\"image/x-icon\" '\n",
      " 'href=\"https://s.yimg.com/wm/login/favicon.ico\">\\n'\n",
      " '        <link rel=\"apple-touch-icon\" '\n",
      " 'href=\"https://s.yimg.com/wm/login/apple-touch-icon.png\">\\n'\n",
      " '        <link rel=\"apple-touch-icon-precomposed\" '\n",
      " 'href=\"https://s.yimg.com/wm/login/apple-touch-icon.png\">\\n'\n",
      " '\\n'\n",
      " '        <style nonce=\"eDBReVWCrjEPTgmyBgVBVU+YlmeAD8Sxh7udp2pwFlGMVJAi\">\\n'\n",
      " '            #mbr-css-check {\\n'\n",
      " '                display: inline;\\n'\n",
      " '            }\\n'\n",
      " '            .mbr-legacy-device-bar {\\n'\n",
      " '                display: none;\\n'\n",
      " '            }\\n'\n",
      " '        </style>\\n'\n",
      " '        <link '\n",
      " 'href=\"https://s.yimg.com/wm/mbr/d974c195e056ec9693cdabfe2e0176156a210860/yahoo-main.css\" '\n",
      " 'rel=\"stylesheet\" type=\"text/css\">\\n'\n",
      " '        <script nonce=\"eDBReVWCrjEPTgmyBgVBVU+YlmeAD8Sxh7udp2pwFlGMVJAi\">\\n'\n",
      " '            (function(root) {\\n'\n",
      " \"                var isGoodJS = ('create' in Object && 'isArray' in Array && \"\n",
      " \"'pushState' in window.history);\\n\"\n",
      " '                root.isGoodJS = isGoodJS;\\n'\n",
      " '            }(this));\\n'\n",
      " '            \\n'\n",
      " '(function (root) {\\n'\n",
      " '/* -- Data -- */\\n'\n",
      " 'root.YUI_config = '\n",
      " '{\"comboBase\":\"https:\\\\u002F\\\\u002Fs.yimg.com\\\\u002Fzz\\\\u002Fcombo?\",\"combine\":true,\"root\":\"yui-s:3.18.0\\\\u002F\"};\\n'\n",
      " 'root.COMET_URL = \"https:\\\\u002F\\\\u002Fpr.comet.yahoo.com\\\\u002Fcomet\";\\n'\n",
      " 'root.I13N_config = '\n",
      " '{\"keys\":{\"pt\":\"utility\",\"ver\":\"nodejs\",\"A_xp\":\"dev\"},\"nol\":false};\\n'\n",
      " 'root.I13N_config || (root.I13N_config = {});\\n'\n",
      " 'root.I13N_config.spaceid = 794201016;\\n'\n",
      " 'root.I13N_config.location = '\n",
      " '\"https:\\\\u002F\\\\u002Fapi.login.yahoo.com\\\\u002Foauth2\\\\u002Frequest_auth?language=en-us\";\\n'\n",
      " 'root.I13N_config.referrer = \"\";\\n'\n",
      " 'root.I13N_config.keys || (root.I13N_config.keys = {});\\n'\n",
      " 'root.I13N_config.keys.ns = \"yahoo\";\\n'\n",
      " 'root.I13N_config.keys.p_sec = \"oauth2-request_auth\";\\n'\n",
      " 'root.I13N_config.keys.p_subsec = \"oauth2-request_auth\";\\n'\n",
      " 'root.mKeyPrefix = \"yidreg_oauth2-request_auth_\";\\n'\n",
      " 'root.oauthData || (root.oauthData = {});\\n'\n",
      " 'root.oauthData.defaultRedirectUrl = \"https:\\\\u002F\\\\u002Fwww.yahoo.com\";\\n'\n",
      " 'root.isIOSDevice = false;\\n'\n",
      " '}(this));\\n'\n",
      " '\\n'\n",
      " '            \\n'\n",
      " '            YUI_config.global = window;\\n'\n",
      " '\\n'\n",
      " '\\n'\n",
      " '            window.mbrSendError = function (name, url) {\\n'\n",
      " '                (new Image()).src = '\n",
      " \"'/account/js-reporting/?rid=clhftl5em9qdq&crumb=' + \"\n",
      " \"encodeURIComponent('eoS4QQSSzyE') + '&message=' + \"\n",
      " \"encodeURIComponent(name.toLowerCase()) + '&url=' + encodeURIComponent(url);\\n\"\n",
      " '            };\\n'\n",
      " '\\n'\n",
      " '            var oldError = window.onerror;\\n'\n",
      " '\\n'\n",
      " '            window.onerror = function (errorMsg, url) {\\n'\n",
      " '                window.mbrSendError(errorMsg, url);\\n'\n",
      " '                if (oldError) {\\n'\n",
      " '                    oldError.apply(this, arguments);\\n'\n",
      " '                }\\n'\n",
      " '                return false;\\n'\n",
      " '            };\\n'\n",
      " '        </script>\\n'\n",
      " '    </head>\\n'\n",
      " '    <body class=\"  \">\\n'\n",
      " '        <div class=\"mbr-legacy-device-bar\" id=\"mbr-legacy-device-bar\">\\n'\n",
      " '            <label class=\"cross\" for=\"mbr-legacy-device-bar-cross\" '\n",
      " 'aria-label=\"Close this\\xa0warning\">x</label>\\n'\n",
      " '            <input type=\"checkbox\" id=\"mbr-legacy-device-bar-cross\" />\\n'\n",
      " '            <p class=\"mbr-legacy-device\">\\n'\n",
      " '                    Yahoo works best with the latest versions of the '\n",
      " \"browsers. You're using an outdated or unsupported browser and some Yahoo \"\n",
      " 'features may not work properly. Please update your browser version now. <a '\n",
      " 'href=\"\">More\\xa0Info</a>\\n'\n",
      " '            </p>\\n'\n",
      " '        </div>\\n'\n",
      " '    <script nonce=\"eDBReVWCrjEPTgmyBgVBVU+YlmeAD8Sxh7udp2pwFlGMVJAi\">\\n'\n",
      " '        (function(root) {\\n'\n",
      " '            var doc = document;\\n'\n",
      " '\\n'\n",
      " '            if (root.isGoodJS) {\\n'\n",
      " '                doc.documentElement.className = '\n",
      " \"doc.documentElement.className.replace('no-js', 'js');\\n\"\n",
      " \"                doc.cookie = 'mbr-nojs=; domain=' + doc.domain + '; \"\n",
      " \"path=/account; expires=Thu, 01 Jan 1970 00:00:01 GMT; secure';\\n\"\n",
      " '            } else {\\n'\n",
      " \"                doc.cookie = 'mbr-nojs=badbrowser; domain=' + doc.domain + \"\n",
      " \"'; path=/account; expires=Fri, 31 Dec 9999 23:59:59 GMT; secure';\\n\"\n",
      " \"                doc.getElementById('mbr-legacy-device-bar').style.display = \"\n",
      " \"'block';\\n\"\n",
      " '            }\\n'\n",
      " '        }(this));\\n'\n",
      " '    </script>\\n'\n",
      " '\\n'\n",
      " '    <div class=\"loginish login-centered clrfix  responsive\">\\n'\n",
      " '    <div class=\"mbr-login-hd\" id=\"mbr-uh-hd\">\\n'\n",
      " '        <img '\n",
      " 'src=\"https://s.yimg.com/rz/d/yahoo_frontpage_master_s_f_p_bestfit_frontpage_common_2x.png\" '\n",
      " 'alt=\"Yahoo\" class=\"logo yahoo-en-US\" width=\"116\" height=\"\" />\\n'\n",
      " '        <img '\n",
      " 'src=\"https://s.yimg.com/rz/d/yahoo_frontpage_master_s_f_w_bestfit_frontpage_common_2x.png\" '\n",
      " 'alt=\"Yahoo\" class=\"dark-mode-logo logo yahoo-en-US\" width=\"116\" height=\"\" '\n",
      " '/>\\n'\n",
      " '</div>\\n'\n",
      " '    <div class=\"oauth2\">\\n'\n",
      " '    <div class=\"oauth2-error txt-align-center\">\\n'\n",
      " '        <h1 class=\"oauth2-title\" data-error=\"INVALID_REDIRECT_URI\">Uh\\xa0'\n",
      " 'oh</h1>\\n'\n",
      " '        <p class=\"margin8 writeup\">Looks like something went wrong.</p>\\n'\n",
      " '        <p class=\"writeup\">Please try again later.</p>\\n'\n",
      " '        <div class=\"margin20 close\">\\n'\n",
      " '            <a role=\"button\" id=\"oauth2-close\" class=\"pure-button '\n",
      " 'puree-button-primary\" href=\"https://www.yahoo.com\">Close</a>\\n'\n",
      " '        </div>\\n'\n",
      " '    </div>\\n'\n",
      " '</div>\\n'\n",
      " '<p class=\"oauth2-developer-footer\" '\n",
      " 'data-error=\"INVALID_REDIRECT_URI\">Developers: Please check the redirect URI '\n",
      " 'in your request and submit again.</p>\\n'\n",
      " '</div>\\n'\n",
      " '    <script src=\"https://s.yimg.com/wm/mbr/js/rapid-3.53.3.js\"></script>\\n'\n",
      " '    <script nonce=\"eDBReVWCrjEPTgmyBgVBVU+YlmeAD8Sxh7udp2pwFlGMVJAi\">\\n'\n",
      " '        var rapidInstance = new YAHOO.i13n.Rapid(I13N_config);\\n'\n",
      " '        // Used in common JS to add to beacons\\n'\n",
      " \"        rapidInstance.beaconClick('yidreg_oauth2-request_auth_launch' , \"\n",
      " 'null, 0, {\\n'\n",
      " \"            mKey: 'yidreg_oauth2-request_auth_launch',\\n\"\n",
      " \"            intrctn: 'click',\\n\"\n",
      " \"            corActn: 'click'\\n\"\n",
      " '        });\\n'\n",
      " '    </script>\\n'\n",
      " '    <script '\n",
      " 'src=\"https://s.yimg.com/wm/mbr/d974c195e056ec9693cdabfe2e0176156a210860/bundle.js\"></script>\\n'\n",
      " '    <noscript>\\n'\n",
      " '        <img '\n",
      " 'src=\"/account/js-reporting/?crumb=eoS4QQSSzyE&message=javascript_not_enabled\" '\n",
      " 'height=\"0\" width=\"0\" style=\"visibility: hidden;\">\\n'\n",
      " '    </noscript>\\n'\n",
      " '    <script nonce=\"eDBReVWCrjEPTgmyBgVBVU+YlmeAD8Sxh7udp2pwFlGMVJAi\">\\n'\n",
      " '        var checkAssets = function(seconds) {\\n'\n",
      " '            setTimeout(function() {\\n'\n",
      " '                if (!window.mbrJSLoaded) {\\n'\n",
      " \"                    window.mbrSendError('js_failed_to_load', \"\n",
      " 'location.pathname);\\n'\n",
      " '                }\\n'\n",
      " \"                var check = document.getElementById('mbr-css-check'),\\n\"\n",
      " '                    style = check.currentStyle;\\n'\n",
      " '                if (window.getComputedStyle) {\\n'\n",
      " '                    style = window.getComputedStyle(check);\\n'\n",
      " '                }\\n'\n",
      " \"                if (style.display !== 'none') {\\n\"\n",
      " \"                    window.mbrSendError('css_failed_to_load', \"\n",
      " 'location.pathname);\\n'\n",
      " '                }\\n'\n",
      " '            }, (seconds * 1000));\\n'\n",
      " '        };\\n'\n",
      " '\\n'\n",
      " '        checkAssets(10);\\n'\n",
      " '    </script>\\n'\n",
      " '    <div id=\"mbr-css-check\"></div>\\n'\n",
      " '</body>\\n'\n",
      " '</html>\\n'\n",
      " '<!-- fe07.member.ir2.yahoo.com - Tue Aug 27 2019 08:28:43 GMT+0000 (UTC) - '\n",
      " '(1ms) -->')\n"
     ]
    }
   ],
   "source": [
    "pprint(request.text)"
   ]
  },
  {
   "cell_type": "code",
   "execution_count": 31,
   "metadata": {},
   "outputs": [],
   "source": [
    "with open(\"yahoo_req.json\", \"w\", encoding=\"utf-8\") as file:\n",
    "    json.dump(request.text, file)"
   ]
  },
  {
   "cell_type": "code",
   "execution_count": 37,
   "metadata": {},
   "outputs": [],
   "source": [
    "with open(\"yahoo_req.json\", mode='r', encoding='utf-8') as file:\n",
    "        req_yahoo_json_r = json.load(file)"
   ]
  },
  {
   "cell_type": "code",
   "execution_count": 38,
   "metadata": {},
   "outputs": [
    {
     "data": {
      "text/plain": [
       "True"
      ]
     },
     "execution_count": 38,
     "metadata": {},
     "output_type": "execute_result"
    }
   ],
   "source": [
    "request.text == req_yahoo_json_r"
   ]
  }
 ],
 "metadata": {
  "kernelspec": {
   "display_name": "Python 3",
   "language": "python",
   "name": "python3"
  },
  "language_info": {
   "codemirror_mode": {
    "name": "ipython",
    "version": 3
   },
   "file_extension": ".py",
   "mimetype": "text/x-python",
   "name": "python",
   "nbconvert_exporter": "python",
   "pygments_lexer": "ipython3",
   "version": "3.7.3"
  }
 },
 "nbformat": 4,
 "nbformat_minor": 2
}

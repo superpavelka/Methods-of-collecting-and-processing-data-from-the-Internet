{
 "cells": [
  {
   "cell_type": "markdown",
   "metadata": {},
   "source": [
    "1)Написать приложение, которое собирает основные новости с сайтов mail.ru, lenta.ru, yandex-новости.\n",
    "\n",
    "Для парсинга использовать xpath. Структура данных должна содержать:\n",
    "* название источника,\n",
    "* наименование новости,\n",
    "* ссылку на новость,\n",
    "* дата публикации"
   ]
  },
  {
   "cell_type": "code",
   "execution_count": 54,
   "metadata": {},
   "outputs": [],
   "source": [
    "from pprint import pprint\n",
    "from lxml import html\n",
    "import requests\n",
    "from selenium import webdriver\n",
    "from selenium.webdriver.common.by import By\n",
    "import time"
   ]
  },
  {
   "cell_type": "markdown",
   "metadata": {},
   "source": [
    "#### mail.ru"
   ]
  },
  {
   "cell_type": "code",
   "execution_count": 42,
   "metadata": {},
   "outputs": [],
   "source": [
    "    headers = {\n",
    "        'User-Agent': 'Mozilla/5.0 (Windows NT 6.1; Win64; x64) AppleWebKit/537.36 (KHTML, like Gecko) \\\n",
    "                        Chrome/76.0.3809.100 Safari/537.36 OPR/63.0.3368.53'\n",
    "    }\n",
    "\n",
    "main_link = 'https://www.mail.ru/' \n",
    "req = requests.get(main_link,headers=headers)\n",
    "root_mail = html.fromstring(req.text)"
   ]
  },
  {
   "cell_type": "code",
   "execution_count": 56,
   "metadata": {},
   "outputs": [],
   "source": [
    "news_block_mail = root_mail.xpath('//div[contains(@class,\"I4bwWHu\")]')"
   ]
  },
  {
   "cell_type": "code",
   "execution_count": 57,
   "metadata": {},
   "outputs": [
    {
     "data": {
      "text/plain": [
       "[]"
      ]
     },
     "execution_count": 57,
     "metadata": {},
     "output_type": "execute_result"
    }
   ],
   "source": [
    "news_block_mail"
   ]
  },
  {
   "cell_type": "code",
   "execution_count": 55,
   "metadata": {},
   "outputs": [
    {
     "data": {
      "text/plain": [
       "[]"
      ]
     },
     "execution_count": 55,
     "metadata": {},
     "output_type": "execute_result"
    }
   ],
   "source": [
    "driver = webdriver.PhantomJS('C:\\\\Users\\\\krilatiy\\\\phantomjs-2.1.1-windows\\\\bin\\\\phantomjs')\n",
    "driver.get(main_link)\n",
    "time.sleep(3)\n",
    "news_block_mail = driver.find_elements_by_xpath('//div[contains(@class,\"I4bwWHu\")]')\n",
    "driver.close()\n",
    "news_block_mail"
   ]
  },
  {
   "cell_type": "markdown",
   "metadata": {},
   "source": [
    "#### lenta.ru"
   ]
  },
  {
   "cell_type": "code",
   "execution_count": 39,
   "metadata": {},
   "outputs": [],
   "source": [
    "main_link = 'https://www.mail.ru/' \n",
    "req = requests.get(main_link,headers=headers)\n",
    "root_lenta = html.fromstring(req.text)"
   ]
  },
  {
   "cell_type": "code",
   "execution_count": 40,
   "metadata": {},
   "outputs": [],
   "source": [
    "news_block_lenta = root_lenta.xpath('//section[@class=\"row js-top-seven b-top7-for-main jhkx\"]')"
   ]
  },
  {
   "cell_type": "code",
   "execution_count": 41,
   "metadata": {},
   "outputs": [
    {
     "data": {
      "text/plain": [
       "[]"
      ]
     },
     "execution_count": 41,
     "metadata": {},
     "output_type": "execute_result"
    }
   ],
   "source": [
    "news_block_lenta"
   ]
  },
  {
   "cell_type": "code",
   "execution_count": 58,
   "metadata": {},
   "outputs": [
    {
     "name": "stdout",
     "output_type": "stream",
     "text": [
      "[<Element div at 0x96b8818>]\n",
      "['/film/686898/',\n",
      " '/film/922029/',\n",
      " '/film/1200603/',\n",
      " '/film/973148/',\n",
      " '/film/1198736/',\n",
      " '/film/1047883/',\n",
      " '/film/1176435/',\n",
      " '/film/1209752/',\n",
      " '/film/958464/',\n",
      " '/film/1044450/']\n"
     ]
    }
   ],
   "source": [
    "headers = {\n",
    "    'User-Agent': 'Mozilla/5.0 (Windows NT 6.1; Win64; x64) AppleWebKit/537.36 (KHTML, like Gecko) \\\n",
    "                    Chrome/76.0.3809.100 Safari/537.36 OPR/63.0.3368.53'\n",
    "}\n",
    "main_link = 'https://www.kinopoisk.ru/' #Основная ссылка на сайт\n",
    "req = requests.get(main_link + 'afisha/new/city/1/',headers = headers) #Ссылка на фильмы в кинотеатрах\n",
    "root = html.fromstring(req.text)\n",
    "\n",
    "films_block = root.xpath('//div[contains(@class,\"filmsListNew\")]')\n",
    "\n",
    "\n",
    "hrefs = films_block[0].xpath('//div[@class=\"name\"]/a/@href')\n",
    "names = films_block[0].xpath('//div[@class=\"name\"]/a/text()')\n",
    "genre = films_block[0].xpath('//div[@class=\"gray\"][last()]/text()')\n",
    "rating = films_block[0].xpath('//div[@class=\"rating\"]/span/text()')\n",
    "\n",
    "pprint(films_block)\n",
    "pprint(hrefs)"
   ]
  },
  {
   "cell_type": "code",
   "execution_count": null,
   "metadata": {},
   "outputs": [],
   "source": []
  }
 ],
 "metadata": {
  "kernelspec": {
   "display_name": "Python 3",
   "language": "python",
   "name": "python3"
  },
  "language_info": {
   "codemirror_mode": {
    "name": "ipython",
    "version": 3
   },
   "file_extension": ".py",
   "mimetype": "text/x-python",
   "name": "python",
   "nbconvert_exporter": "python",
   "pygments_lexer": "ipython3",
   "version": "3.7.3"
  }
 },
 "nbformat": 4,
 "nbformat_minor": 2
}

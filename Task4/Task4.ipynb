{
 "cells": [
  {
   "cell_type": "markdown",
   "metadata": {},
   "source": [
    "1)Написать приложение, которое собирает основные новости с сайтов mail.ru, lenta.ru, yandex-новости.\n",
    "\n",
    "Для парсинга использовать xpath. Структура данных должна содержать:\n",
    "* название источника,\n",
    "* наименование новости,\n",
    "* ссылку на новость,\n",
    "* дата публикации"
   ]
  },
  {
   "cell_type": "code",
   "execution_count": 1,
   "metadata": {},
   "outputs": [],
   "source": [
    "from pprint import pprint\n",
    "from lxml import html\n",
    "import requests\n",
    "import re\n",
    "import pandas as pd\n",
    "from datetime import datetime, date, time"
   ]
  },
  {
   "cell_type": "markdown",
   "metadata": {},
   "source": [
    "### mail.ru"
   ]
  },
  {
   "cell_type": "code",
   "execution_count": 42,
   "metadata": {},
   "outputs": [],
   "source": [
    "headers = {\n",
    "        'User-Agent': 'Mozilla/5.0 (Windows NT 6.1; Win64; x64) AppleWebKit/537.36 (KHTML, like Gecko) \\\n",
    "                        Chrome/76.0.3809.100 Safari/537.36 OPR/63.0.3368.53'\n",
    "    }\n",
    "\n",
    "main_link = 'https://www.mail.ru/' \n",
    "req = requests.get(main_link,headers=headers)\n",
    "root_mail = html.fromstring(req.text)"
   ]
  },
  {
   "cell_type": "code",
   "execution_count": 100,
   "metadata": {},
   "outputs": [],
   "source": [
    "news_block_mail = root_mail.xpath('//div[contains(@class,I4bwWHu)]')"
   ]
  },
  {
   "cell_type": "code",
   "execution_count": 101,
   "metadata": {},
   "outputs": [
    {
     "data": {
      "text/plain": [
       "['Mail.ru',\n",
       " 'Новости',\n",
       " 'Поиск',\n",
       " 'Все проекты',\n",
       " 'выход',\n",
       " 'Регистрация',\n",
       " 'Вход',\n",
       " 'Почта',\n",
       " '\\n',\n",
       " '\\n',\n",
       " 'Войти по СМС',\n",
       " 'Забыли пароль?',\n",
       " 'Создать почту',\n",
       " 'Сильный снегопад в\\xa0России признали поводом прогулять работу',\n",
       " 'Суд изъял имущество экс-чиновника на\\xa09 миллиардов рублей',\n",
       " 'Актеры запустили флешмоб в поддержку осужденного Павла Устинова',\n",
       " '«Зенит» играет с\\xa0«Лионом» в Лиге чемпионов (трансляция)',\n",
       " 'ВМС США подтвердили подлинность видео с\\xa0неопознанным объектом',\n",
       " '30 экстренных служб мира снялись со\\xa0своим оборудованием (фото)',\n",
       " 'Туристы назвали самую большую проблему российских курортов',\n",
       " 'На\\xa0Ямале сошедшую с\\xa0фундамента многоэтажку подперли досками',\n",
       " 'Ученые выяснили, что после смерти тело продолжает двигаться',\n",
       " 'На\\xa0таганрогских школьников обрушился потолок во\\xa0время уроков',\n",
       " 'Болгарский суд снял препятствие для\\xa0«Турецкого потока»',\n",
       " 'В\\xa0Сети запустили флешмоб, помогающий распознать измену',\n",
       " 'Спорт',\n",
       " '«Спартак»: у\\xa0Кононова три матча, Цорн контактирует с\\xa0Венгером',\n",
       " 'Авто',\n",
       " 'В России появились пробки из-за новой «высокой» разметки',\n",
       " 'Кино',\n",
       " '«Пусть говорят» пригрозили судом из-за выпуска про Заворотнюк']"
      ]
     },
     "execution_count": 101,
     "metadata": {},
     "output_type": "execute_result"
    }
   ],
   "source": [
    "text = news_block_mail[0].xpath('//a/text()')\n",
    "text"
   ]
  },
  {
   "cell_type": "code",
   "execution_count": 103,
   "metadata": {},
   "outputs": [],
   "source": [
    "first_news_text = root_mail.xpath('//div[contains(@class,news-item_main)]/h3/text()')"
   ]
  },
  {
   "cell_type": "code",
   "execution_count": 105,
   "metadata": {},
   "outputs": [
    {
     "data": {
      "text/plain": [
       "['Северокорейский «кальмаровый» флот «атаковал» Приморье',\n",
       " 'Сильный снегопад в России признали поводом прогулять работу',\n",
       " 'Суд изъял имущество экс-чиновника на 9 миллиардов рублей',\n",
       " 'Актеры запустили флешмоб в поддержку осужденного Павла Устинова',\n",
       " '«Зенит» играет с «Лионом» в Лиге чемпионов (трансляция)',\n",
       " 'ВМС США подтвердили подлинность видео с неопознанным объектом',\n",
       " '30 экстренных служб мира снялись со своим оборудованием (фото)',\n",
       " 'Туристы назвали самую большую проблему российских курортов',\n",
       " 'На Ямале сошедшую с фундамента многоэтажку подперли досками',\n",
       " 'Ученые выяснили, что после смерти тело продолжает двигаться',\n",
       " 'На таганрогских школьников обрушился потолок во время уроков',\n",
       " 'Болгарский суд снял препятствие для «Турецкого потока»',\n",
       " 'В Сети запустили флешмоб, помогающий распознать измену',\n",
       " '«Спартак»: у Кононова три матча, Цорн контактирует с Венгером',\n",
       " 'В России появились пробки из-за новой «высокой» разметки',\n",
       " '«Пусть говорят» пригрозили судом из-за выпуска про Заворотнюк']"
      ]
     },
     "execution_count": 105,
     "metadata": {},
     "output_type": "execute_result"
    }
   ],
   "source": [
    "news_text_mail=[]\n",
    "news_text_mail.append(first_news_text[0])\n",
    "for elem in text:\n",
    "    if len(elem) > 15:\n",
    "        elem = re.sub('\\xa0',\" \",elem)\n",
    "        news_text_mail.append(elem) \n",
    "news_text_mail"
   ]
  },
  {
   "cell_type": "code",
   "execution_count": 106,
   "metadata": {},
   "outputs": [
    {
     "data": {
      "text/plain": [
       "['https://r.mail.ru/n275254611?sz=45&rnd=554389472',\n",
       " 'https://r.mail.ru/n275254612?sz=45&rnd=554389472',\n",
       " 'https://r.mail.ru/n275254613?sz=45&rnd=554389472',\n",
       " 'https://r.mail.ru/n275254614?sz=45&rnd=554389472',\n",
       " 'https://r.mail.ru/n275254615?sz=45&rnd=554389472',\n",
       " 'https://r.mail.ru/n275254616?sz=45&rnd=554389472',\n",
       " 'https://r.mail.ru/n275254617?sz=45&rnd=554389472',\n",
       " 'https://r.mail.ru/n275254618?sz=45&rnd=554389472',\n",
       " 'https://r.mail.ru/n275254619?sz=45&rnd=554389472',\n",
       " '#',\n",
       " 'https://r.mail.ru/cls1074201/auth.mail.ru/cgi-bin/logout?next=1&lang=ru_RU&Page=https%3A%2F%2Fmail.ru%2F%3Ffrom%3Dlogout%26amp%3Bref%3Dmain',\n",
       " 'https://r.mail.ru/cls31132326/r.mail.ru/clb1126010/e.mail.ru/signup?from=navi&lang=ru_RU&siteid=169&rnd=554389472',\n",
       " 'https://r.mail.ru/cls951827/e.mail.ru/login?lang=ru_RU&Page=',\n",
       " '//e.mail.ru/login?from=main',\n",
       " 'https://promo.calendar.mail.ru/',\n",
       " 'https://cloud.mail.ru/?utm_source=mainpage_promo&utm_medium=mainpage_promo&utm_campaign=иконки%20на%20главной/',\n",
       " 'https://e.mail.ru/password/restore/',\n",
       " 'https://e.mail.ru/signup?from=main&rf=auth.mail.ru',\n",
       " 'https://news.mail.ru/incident/38750476/?frommail=1',\n",
       " 'https://news.mail.ru/society/38750271/?frommail=1',\n",
       " 'https://news.mail.ru/politics/38748759/?frommail=1',\n",
       " 'https://news.mail.ru/politics/38743123/?frommail=1',\n",
       " 'https://sportmail.ru/football-eurocups/220/match/311197/?frommail=1',\n",
       " 'https://news.mail.ru/society/38745083/?frommail=10',\n",
       " 'https://news.mail.ru/society/38735261/gallery/974685/?frommail=10',\n",
       " 'https://news.mail.ru/society/38746210/?frommail=10',\n",
       " 'https://news.mail.ru/society/38737555/?frommail=10',\n",
       " 'https://news.mail.ru/society/38745914/?frommail=10',\n",
       " 'https://news.mail.ru/incident/38748054/?frommail=1',\n",
       " 'https://news.mail.ru/politics/38747881/?frommail=1',\n",
       " 'https://news.mail.ru/society/38745312/?frommail=10',\n",
       " '//sportmail.ru',\n",
       " 'https://sportmail.ru/news/football-rus-premier/38751001/',\n",
       " '//auto.mail.ru/',\n",
       " 'https://auto.mail.ru/article/74397-v_rossii_poyavilis_probki_iz-za_novoi_vysokoi_razmetki/',\n",
       " '//kino.mail.ru/',\n",
       " 'https://kino.mail.ru/news/52177_pust_govoryat_prigrozili_sudom_iz_za_vipuska_pro_zavorotnyuk/?from=mr_news']"
      ]
     },
     "execution_count": 106,
     "metadata": {},
     "output_type": "execute_result"
    }
   ],
   "source": [
    "urls = news_block_mail[0].xpath('//a/@href')\n",
    "urls"
   ]
  },
  {
   "cell_type": "code",
   "execution_count": 107,
   "metadata": {},
   "outputs": [
    {
     "data": {
      "text/plain": [
       "['https://news.mail.ru/incident/38750476/?frommail=1',\n",
       " 'https://news.mail.ru/society/38750271/?frommail=1',\n",
       " 'https://news.mail.ru/politics/38748759/?frommail=1',\n",
       " 'https://news.mail.ru/politics/38743123/?frommail=1',\n",
       " 'https://sportmail.ru/football-eurocups/220/match/311197/?frommail=1',\n",
       " 'https://news.mail.ru/society/38745083/?frommail=10',\n",
       " 'https://news.mail.ru/society/38735261/gallery/974685/?frommail=10',\n",
       " 'https://news.mail.ru/society/38746210/?frommail=10',\n",
       " 'https://news.mail.ru/society/38737555/?frommail=10',\n",
       " 'https://news.mail.ru/society/38745914/?frommail=10',\n",
       " 'https://news.mail.ru/incident/38748054/?frommail=1',\n",
       " 'https://news.mail.ru/politics/38747881/?frommail=1',\n",
       " 'https://news.mail.ru/society/38745312/?frommail=10',\n",
       " 'https://sportmail.ru/news/football-rus-premier/38751001/',\n",
       " 'https://auto.mail.ru/article/74397-v_rossii_poyavilis_probki_iz-za_novoi_vysokoi_razmetki/',\n",
       " 'https://kino.mail.ru/news/52177_pust_govoryat_prigrozili_sudom_iz_za_vipuska_pro_zavorotnyuk/?from=mr_news']"
      ]
     },
     "execution_count": 107,
     "metadata": {},
     "output_type": "execute_result"
    }
   ],
   "source": [
    "news_urls_mail=[]\n",
    "for url in urls:\n",
    "    if url.find('https://news.mail.ru/') >= 0 or \\\n",
    "       url.find('https://sportmail.ru/') >= 0 or \\\n",
    "       url.find('https://auto.mail.ru/') >= 0 or \\\n",
    "       url.find('https://kino.mail.ru/') >= 0 :\n",
    "        news_urls_mail.append(url)\n",
    "news_urls_mail"
   ]
  },
  {
   "cell_type": "code",
   "execution_count": 108,
   "metadata": {},
   "outputs": [
    {
     "data": {
      "text/plain": [
       "True"
      ]
     },
     "execution_count": 108,
     "metadata": {},
     "output_type": "execute_result"
    }
   ],
   "source": [
    "len(news_text_mail)==len(news_urls_mail)"
   ]
  },
  {
   "cell_type": "code",
   "execution_count": 114,
   "metadata": {},
   "outputs": [],
   "source": [
    "source=[]\n",
    "date=[]\n",
    "for i,elem in enumerate(news_urls_mail):\n",
    "    source.append('mail.ru')\n",
    "    date.append(str(datetime.now()))"
   ]
  },
  {
   "cell_type": "code",
   "execution_count": 116,
   "metadata": {},
   "outputs": [
    {
     "data": {
      "text/html": [
       "<div>\n",
       "<style scoped>\n",
       "    .dataframe tbody tr th:only-of-type {\n",
       "        vertical-align: middle;\n",
       "    }\n",
       "\n",
       "    .dataframe tbody tr th {\n",
       "        vertical-align: top;\n",
       "    }\n",
       "\n",
       "    .dataframe thead th {\n",
       "        text-align: right;\n",
       "    }\n",
       "</style>\n",
       "<table border=\"1\" class=\"dataframe\">\n",
       "  <thead>\n",
       "    <tr style=\"text-align: right;\">\n",
       "      <th></th>\n",
       "      <th>url</th>\n",
       "      <th>news_text</th>\n",
       "      <th>source</th>\n",
       "      <th>datetime</th>\n",
       "    </tr>\n",
       "  </thead>\n",
       "  <tbody>\n",
       "    <tr>\n",
       "      <th>0</th>\n",
       "      <td>https://news.mail.ru/incident/38750476/?fromma...</td>\n",
       "      <td>Северокорейский «кальмаровый» флот «атаковал» ...</td>\n",
       "      <td>mail.ru</td>\n",
       "      <td>2019-09-17 21:16:41.427290</td>\n",
       "    </tr>\n",
       "    <tr>\n",
       "      <th>1</th>\n",
       "      <td>https://news.mail.ru/society/38750271/?frommail=1</td>\n",
       "      <td>Сильный снегопад в России признали поводом про...</td>\n",
       "      <td>mail.ru</td>\n",
       "      <td>2019-09-17 21:16:41.427290</td>\n",
       "    </tr>\n",
       "    <tr>\n",
       "      <th>2</th>\n",
       "      <td>https://news.mail.ru/politics/38748759/?fromma...</td>\n",
       "      <td>Суд изъял имущество экс-чиновника на 9 миллиар...</td>\n",
       "      <td>mail.ru</td>\n",
       "      <td>2019-09-17 21:16:41.427290</td>\n",
       "    </tr>\n",
       "    <tr>\n",
       "      <th>3</th>\n",
       "      <td>https://news.mail.ru/politics/38743123/?fromma...</td>\n",
       "      <td>Актеры запустили флешмоб в поддержку осужденно...</td>\n",
       "      <td>mail.ru</td>\n",
       "      <td>2019-09-17 21:16:41.427290</td>\n",
       "    </tr>\n",
       "    <tr>\n",
       "      <th>4</th>\n",
       "      <td>https://sportmail.ru/football-eurocups/220/mat...</td>\n",
       "      <td>«Зенит» играет с «Лионом» в Лиге чемпионов (тр...</td>\n",
       "      <td>mail.ru</td>\n",
       "      <td>2019-09-17 21:16:41.427290</td>\n",
       "    </tr>\n",
       "  </tbody>\n",
       "</table>\n",
       "</div>"
      ],
      "text/plain": [
       "                                                 url  \\\n",
       "0  https://news.mail.ru/incident/38750476/?fromma...   \n",
       "1  https://news.mail.ru/society/38750271/?frommail=1   \n",
       "2  https://news.mail.ru/politics/38748759/?fromma...   \n",
       "3  https://news.mail.ru/politics/38743123/?fromma...   \n",
       "4  https://sportmail.ru/football-eurocups/220/mat...   \n",
       "\n",
       "                                           news_text   source  \\\n",
       "0  Северокорейский «кальмаровый» флот «атаковал» ...  mail.ru   \n",
       "1  Сильный снегопад в России признали поводом про...  mail.ru   \n",
       "2  Суд изъял имущество экс-чиновника на 9 миллиар...  mail.ru   \n",
       "3  Актеры запустили флешмоб в поддержку осужденно...  mail.ru   \n",
       "4  «Зенит» играет с «Лионом» в Лиге чемпионов (тр...  mail.ru   \n",
       "\n",
       "                     datetime  \n",
       "0  2019-09-17 21:16:41.427290  \n",
       "1  2019-09-17 21:16:41.427290  \n",
       "2  2019-09-17 21:16:41.427290  \n",
       "3  2019-09-17 21:16:41.427290  \n",
       "4  2019-09-17 21:16:41.427290  "
      ]
     },
     "execution_count": 116,
     "metadata": {},
     "output_type": "execute_result"
    }
   ],
   "source": [
    "s_text = pd.Series(news_text_mail)\n",
    "s_urls = pd.Series(news_urls_mail)\n",
    "s_source = pd.Series(source)\n",
    "s_date = pd.Series(date)\n",
    "df = pd.DataFrame()\n",
    "df['url'] = s_urls\n",
    "df['news_text'] = s_text\n",
    "df['source'] = s_source\n",
    "df['datetime'] = s_date\n",
    "df.head()"
   ]
  },
  {
   "cell_type": "markdown",
   "metadata": {},
   "source": [
    "### lenta.ru"
   ]
  },
  {
   "cell_type": "code",
   "execution_count": 39,
   "metadata": {},
   "outputs": [],
   "source": [
    "headers = {\n",
    "        'User-Agent': 'Mozilla/5.0 (Windows NT 6.1; Win64; x64) AppleWebKit/537.36 (KHTML, like Gecko) \\\n",
    "                        Chrome/76.0.3809.100 Safari/537.36 OPR/63.0.3368.53'\n",
    "    }\n",
    "main_link = 'https://www.lenta.ru/' \n",
    "req = requests.get(main_link,headers=headers)\n",
    "root_lenta = html.fromstring(req.text)"
   ]
  },
  {
   "cell_type": "code",
   "execution_count": 52,
   "metadata": {},
   "outputs": [],
   "source": [
    "first_news_lenta = root_lenta.xpath('//div[@class=\"first-item\"]')"
   ]
  },
  {
   "cell_type": "code",
   "execution_count": 57,
   "metadata": {},
   "outputs": [
    {
     "data": {
      "text/plain": [
       "'Московский полицейский открыл огонь по коллегам из-за взятки в две тысячи рублей'"
      ]
     },
     "execution_count": 57,
     "metadata": {},
     "output_type": "execute_result"
    }
   ],
   "source": [
    "first_text = first_news_lenta[0].xpath('//h2//a/text()')\n",
    "first_news_text = re.sub('\\xa0',\" \",first_text[0])\n",
    "first_news_text"
   ]
  },
  {
   "cell_type": "code",
   "execution_count": 40,
   "metadata": {},
   "outputs": [],
   "source": [
    "news_block_lenta = root_lenta.xpath('//section[contains(@class,js-top-seven)]')"
   ]
  },
  {
   "cell_type": "code",
   "execution_count": 43,
   "metadata": {},
   "outputs": [],
   "source": [
    "text = news_block_lenta[0].xpath('//div[contains(@class,item)]/a/text()')"
   ]
  },
  {
   "cell_type": "code",
   "execution_count": 58,
   "metadata": {},
   "outputs": [
    {
     "data": {
      "text/plain": [
       "['Московский полицейский открыл огонь по коллегам из-за взятки в две тысячи рублей',\n",
       " 'В Минздраве объяснили прогноз резкого скачка смертности от онкологии',\n",
       " 'Порнозвезда Джессика Джеймс умерла в 43 года',\n",
       " 'Россию признали страной для грустных',\n",
       " 'Жилье станет недоступнее для россиян',\n",
       " 'Тренер МЮ точным ударом попал в мусорку и восхитил фанатов',\n",
       " 'Открывший огонь по коллегам полицейский хотел сбежать',\n",
       " 'Россиянин купил землю для участка и нашел в ней черепа',\n",
       " 'Вспотевшая школьница сняла на уроке пиджак и оказалась наказана',\n",
       " 'Раскрыты намерения Украины по газу']"
      ]
     },
     "execution_count": 58,
     "metadata": {},
     "output_type": "execute_result"
    }
   ],
   "source": [
    "news_text_lenta=[]\n",
    "news_text_lenta.append(first_news_text)\n",
    "for elem in text[1:11]:\n",
    "    if len(elem) > 15:\n",
    "        elem = re.sub('\\xa0',\" \",elem)\n",
    "        news_text_lenta.append(elem) \n",
    "news_text_lenta"
   ]
  },
  {
   "cell_type": "code",
   "execution_count": 61,
   "metadata": {},
   "outputs": [],
   "source": [
    "urls = news_block_lenta[0].xpath('//div[contains(@class,item)]/a/@href')"
   ]
  },
  {
   "cell_type": "code",
   "execution_count": 63,
   "metadata": {},
   "outputs": [
    {
     "data": {
      "text/plain": [
       "['https://lenta.ru/news/2019/09/18/vsyatka/',\n",
       " 'https://lenta.ru/news/2019/09/18/oncologia/',\n",
       " 'https://lenta.ru/news/2019/09/18/43/',\n",
       " 'https://lenta.ru/news/2019/09/18/so_sad/',\n",
       " 'https://lenta.ru/news/2019/09/18/zhilye/',\n",
       " 'https://lenta.ru/news/2019/09/18/solskjer/',\n",
       " 'https://lenta.ru/news/2019/09/18/police_osb/',\n",
       " 'https://lenta.ru/news/2019/09/18/cher/',\n",
       " 'https://lenta.ru/news/2019/09/18/jacket/',\n",
       " 'https://lenta.ru/news/2019/09/18/gaz/']"
      ]
     },
     "execution_count": 63,
     "metadata": {},
     "output_type": "execute_result"
    }
   ],
   "source": [
    "news_urls_lenta=[]\n",
    "for url in urls:\n",
    "    if url.find('/news/20') >= 0:\n",
    "        url = 'https://lenta.ru' + url\n",
    "        news_urls_lenta.append(url)\n",
    "news_urls_lenta = news_urls_lenta[:10]\n",
    "news_urls_lenta"
   ]
  },
  {
   "cell_type": "code",
   "execution_count": 64,
   "metadata": {},
   "outputs": [],
   "source": [
    "source=[]\n",
    "date=[]\n",
    "for i,elem in enumerate(news_urls_lenta):\n",
    "    source.append('lenta.ru')\n",
    "    date.append(str(datetime.now()))"
   ]
  },
  {
   "cell_type": "code",
   "execution_count": 65,
   "metadata": {},
   "outputs": [
    {
     "data": {
      "text/html": [
       "<div>\n",
       "<style scoped>\n",
       "    .dataframe tbody tr th:only-of-type {\n",
       "        vertical-align: middle;\n",
       "    }\n",
       "\n",
       "    .dataframe tbody tr th {\n",
       "        vertical-align: top;\n",
       "    }\n",
       "\n",
       "    .dataframe thead th {\n",
       "        text-align: right;\n",
       "    }\n",
       "</style>\n",
       "<table border=\"1\" class=\"dataframe\">\n",
       "  <thead>\n",
       "    <tr style=\"text-align: right;\">\n",
       "      <th></th>\n",
       "      <th>url</th>\n",
       "      <th>news_text</th>\n",
       "      <th>source</th>\n",
       "      <th>datetime</th>\n",
       "    </tr>\n",
       "  </thead>\n",
       "  <tbody>\n",
       "    <tr>\n",
       "      <th>0</th>\n",
       "      <td>https://lenta.ru/news/2019/09/18/vsyatka/</td>\n",
       "      <td>Московский полицейский открыл огонь по коллега...</td>\n",
       "      <td>lenta.ru</td>\n",
       "      <td>2019-09-18 22:59:56.042219</td>\n",
       "    </tr>\n",
       "    <tr>\n",
       "      <th>1</th>\n",
       "      <td>https://lenta.ru/news/2019/09/18/oncologia/</td>\n",
       "      <td>В Минздраве объяснили прогноз резкого скачка с...</td>\n",
       "      <td>lenta.ru</td>\n",
       "      <td>2019-09-18 22:59:56.042219</td>\n",
       "    </tr>\n",
       "    <tr>\n",
       "      <th>2</th>\n",
       "      <td>https://lenta.ru/news/2019/09/18/43/</td>\n",
       "      <td>Порнозвезда Джессика Джеймс умерла в 43 года</td>\n",
       "      <td>lenta.ru</td>\n",
       "      <td>2019-09-18 22:59:56.042219</td>\n",
       "    </tr>\n",
       "    <tr>\n",
       "      <th>3</th>\n",
       "      <td>https://lenta.ru/news/2019/09/18/so_sad/</td>\n",
       "      <td>Россию признали страной для грустных</td>\n",
       "      <td>lenta.ru</td>\n",
       "      <td>2019-09-18 22:59:56.042219</td>\n",
       "    </tr>\n",
       "    <tr>\n",
       "      <th>4</th>\n",
       "      <td>https://lenta.ru/news/2019/09/18/zhilye/</td>\n",
       "      <td>Жилье станет недоступнее для россиян</td>\n",
       "      <td>lenta.ru</td>\n",
       "      <td>2019-09-18 22:59:56.042219</td>\n",
       "    </tr>\n",
       "  </tbody>\n",
       "</table>\n",
       "</div>"
      ],
      "text/plain": [
       "                                           url  \\\n",
       "0    https://lenta.ru/news/2019/09/18/vsyatka/   \n",
       "1  https://lenta.ru/news/2019/09/18/oncologia/   \n",
       "2         https://lenta.ru/news/2019/09/18/43/   \n",
       "3     https://lenta.ru/news/2019/09/18/so_sad/   \n",
       "4     https://lenta.ru/news/2019/09/18/zhilye/   \n",
       "\n",
       "                                           news_text    source  \\\n",
       "0  Московский полицейский открыл огонь по коллега...  lenta.ru   \n",
       "1  В Минздраве объяснили прогноз резкого скачка с...  lenta.ru   \n",
       "2       Порнозвезда Джессика Джеймс умерла в 43 года  lenta.ru   \n",
       "3               Россию признали страной для грустных  lenta.ru   \n",
       "4               Жилье станет недоступнее для россиян  lenta.ru   \n",
       "\n",
       "                     datetime  \n",
       "0  2019-09-18 22:59:56.042219  \n",
       "1  2019-09-18 22:59:56.042219  \n",
       "2  2019-09-18 22:59:56.042219  \n",
       "3  2019-09-18 22:59:56.042219  \n",
       "4  2019-09-18 22:59:56.042219  "
      ]
     },
     "execution_count": 65,
     "metadata": {},
     "output_type": "execute_result"
    }
   ],
   "source": [
    "s_text = pd.Series(news_text_lenta)\n",
    "s_urls = pd.Series(news_urls_lenta)\n",
    "s_source = pd.Series(source)\n",
    "s_date = pd.Series(date)\n",
    "df = pd.DataFrame()\n",
    "df['url'] = s_urls\n",
    "df['news_text'] = s_text\n",
    "df['source'] = s_source\n",
    "df['datetime'] = s_date\n",
    "df.head()"
   ]
  },
  {
   "cell_type": "markdown",
   "metadata": {},
   "source": [
    "### yandex.ru/news"
   ]
  },
  {
   "cell_type": "code",
   "execution_count": 68,
   "metadata": {},
   "outputs": [],
   "source": [
    "headers = {\n",
    "        'User-Agent': 'Mozilla/5.0 (Windows NT 6.1; Win64; x64) AppleWebKit/537.36 (KHTML, like Gecko) \\\n",
    "                        Chrome/76.0.3809.100 Safari/537.36 OPR/63.0.3368.53'\n",
    "    }\n",
    "main_link = 'https://yandex.ru/news/' \n",
    "req = requests.get(main_link,headers=headers)\n",
    "root_yandex = html.fromstring(req.text)"
   ]
  },
  {
   "cell_type": "code",
   "execution_count": 71,
   "metadata": {},
   "outputs": [],
   "source": [
    "from selenium import webdriver\n",
    "from selenium.webdriver.common.by import By\n",
    "import time"
   ]
  },
  {
   "cell_type": "code",
   "execution_count": 85,
   "metadata": {},
   "outputs": [],
   "source": [
    "news_yandex_text=[]\n",
    "news_yandex_urls=[]\n",
    "driver = webdriver.PhantomJS('C:\\\\Users\\\\krilatiy\\\\phantomjs-2.1.1-windows\\\\bin\\\\phantomjs')\n",
    "driver.get(main_link)\n",
    "time.sleep(3)\n",
    "content = driver.find_elements_by_xpath('//h2[@class=\"story__title\"]/a')\n",
    "for elem in content:\n",
    "        news_yandex_text.append(elem.text)\n",
    "        news_yandex_urls.append(elem.get_attribute(\"href\"))\n",
    "driver.close()"
   ]
  },
  {
   "cell_type": "code",
   "execution_count": 87,
   "metadata": {},
   "outputs": [],
   "source": [
    "source=[]\n",
    "date=[]\n",
    "for i,elem in enumerate(news_yandex_urls):\n",
    "    source.append('https://yandex.ru/news/')\n",
    "    date.append(str(datetime.now()))"
   ]
  },
  {
   "cell_type": "code",
   "execution_count": 90,
   "metadata": {},
   "outputs": [],
   "source": [
    "s_text = pd.Series(news_yandex_text)\n",
    "s_urls = pd.Series(news_yandex_urls)\n",
    "s_source = pd.Series(source)\n",
    "s_date = pd.Series(date)\n",
    "df = pd.DataFrame()\n",
    "df['url'] = s_urls\n",
    "df['news_text'] = s_text\n",
    "df['source'] = s_source\n",
    "df['datetime'] = s_date"
   ]
  },
  {
   "cell_type": "code",
   "execution_count": 91,
   "metadata": {},
   "outputs": [
    {
     "data": {
      "text/html": [
       "<div>\n",
       "<style scoped>\n",
       "    .dataframe tbody tr th:only-of-type {\n",
       "        vertical-align: middle;\n",
       "    }\n",
       "\n",
       "    .dataframe tbody tr th {\n",
       "        vertical-align: top;\n",
       "    }\n",
       "\n",
       "    .dataframe thead th {\n",
       "        text-align: right;\n",
       "    }\n",
       "</style>\n",
       "<table border=\"1\" class=\"dataframe\">\n",
       "  <thead>\n",
       "    <tr style=\"text-align: right;\">\n",
       "      <th></th>\n",
       "      <th>url</th>\n",
       "      <th>news_text</th>\n",
       "      <th>source</th>\n",
       "      <th>datetime</th>\n",
       "    </tr>\n",
       "  </thead>\n",
       "  <tbody>\n",
       "    <tr>\n",
       "      <th>0</th>\n",
       "      <td>https://yandex.ru/news/story/V_Moskve_policejs...</td>\n",
       "      <td>В Москве полицейский погиб при перестрелке в м...</td>\n",
       "      <td>https://yandex.ru/news/</td>\n",
       "      <td>2019-09-18 23:46:39.524569</td>\n",
       "    </tr>\n",
       "    <tr>\n",
       "      <th>1</th>\n",
       "      <td>https://yandex.ru/news/story/Gryzlov_zayavil_o...</td>\n",
       "      <td>Грызлов заявил о срыве Киевом договоренностей ...</td>\n",
       "      <td>https://yandex.ru/news/</td>\n",
       "      <td>2019-09-18 23:46:39.524569</td>\n",
       "    </tr>\n",
       "    <tr>\n",
       "      <th>2</th>\n",
       "      <td>https://yandex.ru/news/story/Glavy_gorodov_i_r...</td>\n",
       "      <td>Главы городов и районов Крыма ушли в отставку</td>\n",
       "      <td>https://yandex.ru/news/</td>\n",
       "      <td>2019-09-18 23:46:39.524569</td>\n",
       "    </tr>\n",
       "    <tr>\n",
       "      <th>3</th>\n",
       "      <td>https://yandex.ru/news/story/FRS_SSHA_vnov_sni...</td>\n",
       "      <td>ФРС США вновь снизила базовую ставку</td>\n",
       "      <td>https://yandex.ru/news/</td>\n",
       "      <td>2019-09-18 23:46:39.524569</td>\n",
       "    </tr>\n",
       "    <tr>\n",
       "      <th>4</th>\n",
       "      <td>https://yandex.ru/news/story/Peskov_otreagirov...</td>\n",
       "      <td>Песков отреагировал на акцию в поддержку актер...</td>\n",
       "      <td>https://yandex.ru/news/</td>\n",
       "      <td>2019-09-18 23:46:39.524569</td>\n",
       "    </tr>\n",
       "  </tbody>\n",
       "</table>\n",
       "</div>"
      ],
      "text/plain": [
       "                                                 url  \\\n",
       "0  https://yandex.ru/news/story/V_Moskve_policejs...   \n",
       "1  https://yandex.ru/news/story/Gryzlov_zayavil_o...   \n",
       "2  https://yandex.ru/news/story/Glavy_gorodov_i_r...   \n",
       "3  https://yandex.ru/news/story/FRS_SSHA_vnov_sni...   \n",
       "4  https://yandex.ru/news/story/Peskov_otreagirov...   \n",
       "\n",
       "                                           news_text                   source  \\\n",
       "0  В Москве полицейский погиб при перестрелке в м...  https://yandex.ru/news/   \n",
       "1  Грызлов заявил о срыве Киевом договоренностей ...  https://yandex.ru/news/   \n",
       "2      Главы городов и районов Крыма ушли в отставку  https://yandex.ru/news/   \n",
       "3               ФРС США вновь снизила базовую ставку  https://yandex.ru/news/   \n",
       "4  Песков отреагировал на акцию в поддержку актер...  https://yandex.ru/news/   \n",
       "\n",
       "                     datetime  \n",
       "0  2019-09-18 23:46:39.524569  \n",
       "1  2019-09-18 23:46:39.524569  \n",
       "2  2019-09-18 23:46:39.524569  \n",
       "3  2019-09-18 23:46:39.524569  \n",
       "4  2019-09-18 23:46:39.524569  "
      ]
     },
     "execution_count": 91,
     "metadata": {},
     "output_type": "execute_result"
    }
   ],
   "source": [
    "df.head()"
   ]
  },
  {
   "cell_type": "code",
   "execution_count": 92,
   "metadata": {},
   "outputs": [
    {
     "data": {
      "text/html": [
       "<div>\n",
       "<style scoped>\n",
       "    .dataframe tbody tr th:only-of-type {\n",
       "        vertical-align: middle;\n",
       "    }\n",
       "\n",
       "    .dataframe tbody tr th {\n",
       "        vertical-align: top;\n",
       "    }\n",
       "\n",
       "    .dataframe thead th {\n",
       "        text-align: right;\n",
       "    }\n",
       "</style>\n",
       "<table border=\"1\" class=\"dataframe\">\n",
       "  <thead>\n",
       "    <tr style=\"text-align: right;\">\n",
       "      <th></th>\n",
       "      <th>url</th>\n",
       "      <th>news_text</th>\n",
       "      <th>source</th>\n",
       "      <th>datetime</th>\n",
       "    </tr>\n",
       "  </thead>\n",
       "  <tbody>\n",
       "    <tr>\n",
       "      <th>60</th>\n",
       "      <td>https://yandex.ru/news/story/Opredeleny_region...</td>\n",
       "      <td>Определены регионы с самыми доступными машинам...</td>\n",
       "      <td>https://yandex.ru/news/</td>\n",
       "      <td>2019-09-18 23:46:39.524569</td>\n",
       "    </tr>\n",
       "    <tr>\n",
       "      <th>61</th>\n",
       "      <td>https://yandex.ru/news/story/Otmenit_akciz_na_...</td>\n",
       "      <td>Отменить акциз на ввоз автомобилей хотят на Ук...</td>\n",
       "      <td>https://yandex.ru/news/</td>\n",
       "      <td>2019-09-18 23:46:39.524569</td>\n",
       "    </tr>\n",
       "    <tr>\n",
       "      <th>62</th>\n",
       "      <td>https://yandex.ru/news/story/Mitsubishi_prezen...</td>\n",
       "      <td>Mitsubishi презентует концепт нового кроссовера</td>\n",
       "      <td>https://yandex.ru/news/</td>\n",
       "      <td>2019-09-18 23:46:39.524569</td>\n",
       "    </tr>\n",
       "    <tr>\n",
       "      <th>63</th>\n",
       "      <td>https://yandex.ru/news/story/V_kompanii_Skoda_...</td>\n",
       "      <td>В компании Skoda рассказали о новых моделях дл...</td>\n",
       "      <td>https://yandex.ru/news/</td>\n",
       "      <td>2019-09-18 23:46:39.524569</td>\n",
       "    </tr>\n",
       "    <tr>\n",
       "      <th>64</th>\n",
       "      <td>https://yandex.ru/news/story/Chery_privezet_v_...</td>\n",
       "      <td>Chery привезет в Россию новый удлиненный кросс...</td>\n",
       "      <td>https://yandex.ru/news/</td>\n",
       "      <td>2019-09-18 23:46:39.524569</td>\n",
       "    </tr>\n",
       "  </tbody>\n",
       "</table>\n",
       "</div>"
      ],
      "text/plain": [
       "                                                  url  \\\n",
       "60  https://yandex.ru/news/story/Opredeleny_region...   \n",
       "61  https://yandex.ru/news/story/Otmenit_akciz_na_...   \n",
       "62  https://yandex.ru/news/story/Mitsubishi_prezen...   \n",
       "63  https://yandex.ru/news/story/V_kompanii_Skoda_...   \n",
       "64  https://yandex.ru/news/story/Chery_privezet_v_...   \n",
       "\n",
       "                                            news_text  \\\n",
       "60  Определены регионы с самыми доступными машинам...   \n",
       "61  Отменить акциз на ввоз автомобилей хотят на Ук...   \n",
       "62    Mitsubishi презентует концепт нового кроссовера   \n",
       "63  В компании Skoda рассказали о новых моделях дл...   \n",
       "64  Chery привезет в Россию новый удлиненный кросс...   \n",
       "\n",
       "                     source                    datetime  \n",
       "60  https://yandex.ru/news/  2019-09-18 23:46:39.524569  \n",
       "61  https://yandex.ru/news/  2019-09-18 23:46:39.524569  \n",
       "62  https://yandex.ru/news/  2019-09-18 23:46:39.524569  \n",
       "63  https://yandex.ru/news/  2019-09-18 23:46:39.524569  \n",
       "64  https://yandex.ru/news/  2019-09-18 23:46:39.524569  "
      ]
     },
     "execution_count": 92,
     "metadata": {},
     "output_type": "execute_result"
    }
   ],
   "source": [
    "df.tail()"
   ]
  }
 ],
 "metadata": {
  "kernelspec": {
   "display_name": "Python 3",
   "language": "python",
   "name": "python3"
  },
  "language_info": {
   "codemirror_mode": {
    "name": "ipython",
    "version": 3
   },
   "file_extension": ".py",
   "mimetype": "text/x-python",
   "name": "python",
   "nbconvert_exporter": "python",
   "pygments_lexer": "ipython3",
   "version": "3.7.3"
  }
 },
 "nbformat": 4,
 "nbformat_minor": 2
}

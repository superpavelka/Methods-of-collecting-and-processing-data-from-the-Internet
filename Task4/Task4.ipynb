{
 "cells": [
  {
   "cell_type": "markdown",
   "metadata": {},
   "source": [
    "1)Написать приложение, которое собирает основные новости с сайтов mail.ru, lenta.ru, yandex-новости.\n",
    "\n",
    "Для парсинга использовать xpath. Структура данных должна содержать:\n",
    "* название источника,\n",
    "* наименование новости,\n",
    "* ссылку на новость,\n",
    "* дата публикации"
   ]
  },
  {
   "cell_type": "code",
   "execution_count": 111,
   "metadata": {},
   "outputs": [],
   "source": [
    "from pprint import pprint\n",
    "from lxml import html\n",
    "import requests\n",
    "import re\n",
    "import pandas as pd\n",
    "from datetime import datetime, date, time"
   ]
  },
  {
   "cell_type": "markdown",
   "metadata": {},
   "source": [
    "#### mail.ru"
   ]
  },
  {
   "cell_type": "code",
   "execution_count": 42,
   "metadata": {},
   "outputs": [],
   "source": [
    "    headers = {\n",
    "        'User-Agent': 'Mozilla/5.0 (Windows NT 6.1; Win64; x64) AppleWebKit/537.36 (KHTML, like Gecko) \\\n",
    "                        Chrome/76.0.3809.100 Safari/537.36 OPR/63.0.3368.53'\n",
    "    }\n",
    "\n",
    "main_link = 'https://www.mail.ru/' \n",
    "req = requests.get(main_link,headers=headers)\n",
    "root_mail = html.fromstring(req.text)"
   ]
  },
  {
   "cell_type": "code",
   "execution_count": 100,
   "metadata": {},
   "outputs": [],
   "source": [
    "news_block_mail = root_mail.xpath('//div[contains(@class,I4bwWHu)]')"
   ]
  },
  {
   "cell_type": "code",
   "execution_count": 101,
   "metadata": {},
   "outputs": [
    {
     "data": {
      "text/plain": [
       "['Mail.ru',\n",
       " 'Новости',\n",
       " 'Поиск',\n",
       " 'Все проекты',\n",
       " 'выход',\n",
       " 'Регистрация',\n",
       " 'Вход',\n",
       " 'Почта',\n",
       " '\\n',\n",
       " '\\n',\n",
       " 'Войти по СМС',\n",
       " 'Забыли пароль?',\n",
       " 'Создать почту',\n",
       " 'Сильный снегопад в\\xa0России признали поводом прогулять работу',\n",
       " 'Суд изъял имущество экс-чиновника на\\xa09 миллиардов рублей',\n",
       " 'Актеры запустили флешмоб в поддержку осужденного Павла Устинова',\n",
       " '«Зенит» играет с\\xa0«Лионом» в Лиге чемпионов (трансляция)',\n",
       " 'ВМС США подтвердили подлинность видео с\\xa0неопознанным объектом',\n",
       " '30 экстренных служб мира снялись со\\xa0своим оборудованием (фото)',\n",
       " 'Туристы назвали самую большую проблему российских курортов',\n",
       " 'На\\xa0Ямале сошедшую с\\xa0фундамента многоэтажку подперли досками',\n",
       " 'Ученые выяснили, что после смерти тело продолжает двигаться',\n",
       " 'На\\xa0таганрогских школьников обрушился потолок во\\xa0время уроков',\n",
       " 'Болгарский суд снял препятствие для\\xa0«Турецкого потока»',\n",
       " 'В\\xa0Сети запустили флешмоб, помогающий распознать измену',\n",
       " 'Спорт',\n",
       " '«Спартак»: у\\xa0Кононова три матча, Цорн контактирует с\\xa0Венгером',\n",
       " 'Авто',\n",
       " 'В России появились пробки из-за новой «высокой» разметки',\n",
       " 'Кино',\n",
       " '«Пусть говорят» пригрозили судом из-за выпуска про Заворотнюк']"
      ]
     },
     "execution_count": 101,
     "metadata": {},
     "output_type": "execute_result"
    }
   ],
   "source": [
    "text = news_block_mail[0].xpath('//a/text()')\n",
    "text"
   ]
  },
  {
   "cell_type": "code",
   "execution_count": 103,
   "metadata": {},
   "outputs": [],
   "source": [
    "first_news_text = root_mail.xpath('//div[contains(@class,news-item_main)]/h3/text()')"
   ]
  },
  {
   "cell_type": "code",
   "execution_count": 105,
   "metadata": {},
   "outputs": [
    {
     "data": {
      "text/plain": [
       "['Северокорейский «кальмаровый» флот «атаковал» Приморье',\n",
       " 'Сильный снегопад в России признали поводом прогулять работу',\n",
       " 'Суд изъял имущество экс-чиновника на 9 миллиардов рублей',\n",
       " 'Актеры запустили флешмоб в поддержку осужденного Павла Устинова',\n",
       " '«Зенит» играет с «Лионом» в Лиге чемпионов (трансляция)',\n",
       " 'ВМС США подтвердили подлинность видео с неопознанным объектом',\n",
       " '30 экстренных служб мира снялись со своим оборудованием (фото)',\n",
       " 'Туристы назвали самую большую проблему российских курортов',\n",
       " 'На Ямале сошедшую с фундамента многоэтажку подперли досками',\n",
       " 'Ученые выяснили, что после смерти тело продолжает двигаться',\n",
       " 'На таганрогских школьников обрушился потолок во время уроков',\n",
       " 'Болгарский суд снял препятствие для «Турецкого потока»',\n",
       " 'В Сети запустили флешмоб, помогающий распознать измену',\n",
       " '«Спартак»: у Кононова три матча, Цорн контактирует с Венгером',\n",
       " 'В России появились пробки из-за новой «высокой» разметки',\n",
       " '«Пусть говорят» пригрозили судом из-за выпуска про Заворотнюк']"
      ]
     },
     "execution_count": 105,
     "metadata": {},
     "output_type": "execute_result"
    }
   ],
   "source": [
    "news_text_mail=[]\n",
    "news_text_mail.append(first_news_text[0])\n",
    "for elem in text:\n",
    "    if len(elem) > 15:\n",
    "        elem = re.sub('\\xa0',\" \",elem)\n",
    "        news_text_mail.append(elem) \n",
    "news_text_mail"
   ]
  },
  {
   "cell_type": "code",
   "execution_count": 106,
   "metadata": {},
   "outputs": [
    {
     "data": {
      "text/plain": [
       "['https://r.mail.ru/n275254611?sz=45&rnd=554389472',\n",
       " 'https://r.mail.ru/n275254612?sz=45&rnd=554389472',\n",
       " 'https://r.mail.ru/n275254613?sz=45&rnd=554389472',\n",
       " 'https://r.mail.ru/n275254614?sz=45&rnd=554389472',\n",
       " 'https://r.mail.ru/n275254615?sz=45&rnd=554389472',\n",
       " 'https://r.mail.ru/n275254616?sz=45&rnd=554389472',\n",
       " 'https://r.mail.ru/n275254617?sz=45&rnd=554389472',\n",
       " 'https://r.mail.ru/n275254618?sz=45&rnd=554389472',\n",
       " 'https://r.mail.ru/n275254619?sz=45&rnd=554389472',\n",
       " '#',\n",
       " 'https://r.mail.ru/cls1074201/auth.mail.ru/cgi-bin/logout?next=1&lang=ru_RU&Page=https%3A%2F%2Fmail.ru%2F%3Ffrom%3Dlogout%26amp%3Bref%3Dmain',\n",
       " 'https://r.mail.ru/cls31132326/r.mail.ru/clb1126010/e.mail.ru/signup?from=navi&lang=ru_RU&siteid=169&rnd=554389472',\n",
       " 'https://r.mail.ru/cls951827/e.mail.ru/login?lang=ru_RU&Page=',\n",
       " '//e.mail.ru/login?from=main',\n",
       " 'https://promo.calendar.mail.ru/',\n",
       " 'https://cloud.mail.ru/?utm_source=mainpage_promo&utm_medium=mainpage_promo&utm_campaign=иконки%20на%20главной/',\n",
       " 'https://e.mail.ru/password/restore/',\n",
       " 'https://e.mail.ru/signup?from=main&rf=auth.mail.ru',\n",
       " 'https://news.mail.ru/incident/38750476/?frommail=1',\n",
       " 'https://news.mail.ru/society/38750271/?frommail=1',\n",
       " 'https://news.mail.ru/politics/38748759/?frommail=1',\n",
       " 'https://news.mail.ru/politics/38743123/?frommail=1',\n",
       " 'https://sportmail.ru/football-eurocups/220/match/311197/?frommail=1',\n",
       " 'https://news.mail.ru/society/38745083/?frommail=10',\n",
       " 'https://news.mail.ru/society/38735261/gallery/974685/?frommail=10',\n",
       " 'https://news.mail.ru/society/38746210/?frommail=10',\n",
       " 'https://news.mail.ru/society/38737555/?frommail=10',\n",
       " 'https://news.mail.ru/society/38745914/?frommail=10',\n",
       " 'https://news.mail.ru/incident/38748054/?frommail=1',\n",
       " 'https://news.mail.ru/politics/38747881/?frommail=1',\n",
       " 'https://news.mail.ru/society/38745312/?frommail=10',\n",
       " '//sportmail.ru',\n",
       " 'https://sportmail.ru/news/football-rus-premier/38751001/',\n",
       " '//auto.mail.ru/',\n",
       " 'https://auto.mail.ru/article/74397-v_rossii_poyavilis_probki_iz-za_novoi_vysokoi_razmetki/',\n",
       " '//kino.mail.ru/',\n",
       " 'https://kino.mail.ru/news/52177_pust_govoryat_prigrozili_sudom_iz_za_vipuska_pro_zavorotnyuk/?from=mr_news']"
      ]
     },
     "execution_count": 106,
     "metadata": {},
     "output_type": "execute_result"
    }
   ],
   "source": [
    "urls = news_block_mail[0].xpath('//a/@href')\n",
    "urls"
   ]
  },
  {
   "cell_type": "code",
   "execution_count": 107,
   "metadata": {},
   "outputs": [
    {
     "data": {
      "text/plain": [
       "['https://news.mail.ru/incident/38750476/?frommail=1',\n",
       " 'https://news.mail.ru/society/38750271/?frommail=1',\n",
       " 'https://news.mail.ru/politics/38748759/?frommail=1',\n",
       " 'https://news.mail.ru/politics/38743123/?frommail=1',\n",
       " 'https://sportmail.ru/football-eurocups/220/match/311197/?frommail=1',\n",
       " 'https://news.mail.ru/society/38745083/?frommail=10',\n",
       " 'https://news.mail.ru/society/38735261/gallery/974685/?frommail=10',\n",
       " 'https://news.mail.ru/society/38746210/?frommail=10',\n",
       " 'https://news.mail.ru/society/38737555/?frommail=10',\n",
       " 'https://news.mail.ru/society/38745914/?frommail=10',\n",
       " 'https://news.mail.ru/incident/38748054/?frommail=1',\n",
       " 'https://news.mail.ru/politics/38747881/?frommail=1',\n",
       " 'https://news.mail.ru/society/38745312/?frommail=10',\n",
       " 'https://sportmail.ru/news/football-rus-premier/38751001/',\n",
       " 'https://auto.mail.ru/article/74397-v_rossii_poyavilis_probki_iz-za_novoi_vysokoi_razmetki/',\n",
       " 'https://kino.mail.ru/news/52177_pust_govoryat_prigrozili_sudom_iz_za_vipuska_pro_zavorotnyuk/?from=mr_news']"
      ]
     },
     "execution_count": 107,
     "metadata": {},
     "output_type": "execute_result"
    }
   ],
   "source": [
    "news_urls_mail=[]\n",
    "for url in urls:\n",
    "    if url.find('https://news.mail.ru/') >= 0 or \\\n",
    "       url.find('https://sportmail.ru/') >= 0 or \\\n",
    "       url.find('https://auto.mail.ru/') >= 0 or \\\n",
    "       url.find('https://kino.mail.ru/') >= 0 :\n",
    "        news_urls_mail.append(url)\n",
    "news_urls_mail"
   ]
  },
  {
   "cell_type": "code",
   "execution_count": 108,
   "metadata": {},
   "outputs": [
    {
     "data": {
      "text/plain": [
       "True"
      ]
     },
     "execution_count": 108,
     "metadata": {},
     "output_type": "execute_result"
    }
   ],
   "source": [
    "len(news_text_mail)==len(news_urls_mail)"
   ]
  },
  {
   "cell_type": "code",
   "execution_count": 114,
   "metadata": {},
   "outputs": [],
   "source": [
    "source=[]\n",
    "date=[]\n",
    "for i,elem in enumerate(news_urls_mail):\n",
    "    source.append('mail.ru')\n",
    "    date.append(str(datetime.now()))"
   ]
  },
  {
   "cell_type": "code",
   "execution_count": 116,
   "metadata": {},
   "outputs": [
    {
     "data": {
      "text/html": [
       "<div>\n",
       "<style scoped>\n",
       "    .dataframe tbody tr th:only-of-type {\n",
       "        vertical-align: middle;\n",
       "    }\n",
       "\n",
       "    .dataframe tbody tr th {\n",
       "        vertical-align: top;\n",
       "    }\n",
       "\n",
       "    .dataframe thead th {\n",
       "        text-align: right;\n",
       "    }\n",
       "</style>\n",
       "<table border=\"1\" class=\"dataframe\">\n",
       "  <thead>\n",
       "    <tr style=\"text-align: right;\">\n",
       "      <th></th>\n",
       "      <th>url</th>\n",
       "      <th>news_text</th>\n",
       "      <th>source</th>\n",
       "      <th>datetime</th>\n",
       "    </tr>\n",
       "  </thead>\n",
       "  <tbody>\n",
       "    <tr>\n",
       "      <th>0</th>\n",
       "      <td>https://news.mail.ru/incident/38750476/?fromma...</td>\n",
       "      <td>Северокорейский «кальмаровый» флот «атаковал» ...</td>\n",
       "      <td>mail.ru</td>\n",
       "      <td>2019-09-17 21:16:41.427290</td>\n",
       "    </tr>\n",
       "    <tr>\n",
       "      <th>1</th>\n",
       "      <td>https://news.mail.ru/society/38750271/?frommail=1</td>\n",
       "      <td>Сильный снегопад в России признали поводом про...</td>\n",
       "      <td>mail.ru</td>\n",
       "      <td>2019-09-17 21:16:41.427290</td>\n",
       "    </tr>\n",
       "    <tr>\n",
       "      <th>2</th>\n",
       "      <td>https://news.mail.ru/politics/38748759/?fromma...</td>\n",
       "      <td>Суд изъял имущество экс-чиновника на 9 миллиар...</td>\n",
       "      <td>mail.ru</td>\n",
       "      <td>2019-09-17 21:16:41.427290</td>\n",
       "    </tr>\n",
       "    <tr>\n",
       "      <th>3</th>\n",
       "      <td>https://news.mail.ru/politics/38743123/?fromma...</td>\n",
       "      <td>Актеры запустили флешмоб в поддержку осужденно...</td>\n",
       "      <td>mail.ru</td>\n",
       "      <td>2019-09-17 21:16:41.427290</td>\n",
       "    </tr>\n",
       "    <tr>\n",
       "      <th>4</th>\n",
       "      <td>https://sportmail.ru/football-eurocups/220/mat...</td>\n",
       "      <td>«Зенит» играет с «Лионом» в Лиге чемпионов (тр...</td>\n",
       "      <td>mail.ru</td>\n",
       "      <td>2019-09-17 21:16:41.427290</td>\n",
       "    </tr>\n",
       "  </tbody>\n",
       "</table>\n",
       "</div>"
      ],
      "text/plain": [
       "                                                 url  \\\n",
       "0  https://news.mail.ru/incident/38750476/?fromma...   \n",
       "1  https://news.mail.ru/society/38750271/?frommail=1   \n",
       "2  https://news.mail.ru/politics/38748759/?fromma...   \n",
       "3  https://news.mail.ru/politics/38743123/?fromma...   \n",
       "4  https://sportmail.ru/football-eurocups/220/mat...   \n",
       "\n",
       "                                           news_text   source  \\\n",
       "0  Северокорейский «кальмаровый» флот «атаковал» ...  mail.ru   \n",
       "1  Сильный снегопад в России признали поводом про...  mail.ru   \n",
       "2  Суд изъял имущество экс-чиновника на 9 миллиар...  mail.ru   \n",
       "3  Актеры запустили флешмоб в поддержку осужденно...  mail.ru   \n",
       "4  «Зенит» играет с «Лионом» в Лиге чемпионов (тр...  mail.ru   \n",
       "\n",
       "                     datetime  \n",
       "0  2019-09-17 21:16:41.427290  \n",
       "1  2019-09-17 21:16:41.427290  \n",
       "2  2019-09-17 21:16:41.427290  \n",
       "3  2019-09-17 21:16:41.427290  \n",
       "4  2019-09-17 21:16:41.427290  "
      ]
     },
     "execution_count": 116,
     "metadata": {},
     "output_type": "execute_result"
    }
   ],
   "source": [
    "s_text = pd.Series(news_text_mail)\n",
    "s_urls = pd.Series(news_urls_mail)\n",
    "s_source = pd.Series(source)\n",
    "s_date = pd.Series(date)\n",
    "df = pd.DataFrame()\n",
    "df['url'] = s_urls\n",
    "df['news_text'] = s_text\n",
    "df['source'] = s_source\n",
    "df['datetime'] = s_date\n",
    "df.head()"
   ]
  },
  {
   "cell_type": "markdown",
   "metadata": {},
   "source": [
    "#### lenta.ru"
   ]
  },
  {
   "cell_type": "code",
   "execution_count": 39,
   "metadata": {},
   "outputs": [],
   "source": [
    "main_link = 'https://www.mail.ru/' \n",
    "req = requests.get(main_link,headers=headers)\n",
    "root_lenta = html.fromstring(req.text)"
   ]
  },
  {
   "cell_type": "code",
   "execution_count": 40,
   "metadata": {},
   "outputs": [],
   "source": [
    "news_block_lenta = root_lenta.xpath('//section[@class=\"row js-top-seven b-top7-for-main jhkx\"]')"
   ]
  },
  {
   "cell_type": "code",
   "execution_count": 41,
   "metadata": {},
   "outputs": [
    {
     "data": {
      "text/plain": [
       "[]"
      ]
     },
     "execution_count": 41,
     "metadata": {},
     "output_type": "execute_result"
    }
   ],
   "source": [
    "news_block_lenta"
   ]
  },
  {
   "cell_type": "code",
   "execution_count": 58,
   "metadata": {},
   "outputs": [
    {
     "name": "stdout",
     "output_type": "stream",
     "text": [
      "[<Element div at 0x96b8818>]\n",
      "['/film/686898/',\n",
      " '/film/922029/',\n",
      " '/film/1200603/',\n",
      " '/film/973148/',\n",
      " '/film/1198736/',\n",
      " '/film/1047883/',\n",
      " '/film/1176435/',\n",
      " '/film/1209752/',\n",
      " '/film/958464/',\n",
      " '/film/1044450/']\n"
     ]
    }
   ],
   "source": [
    "headers = {\n",
    "    'User-Agent': 'Mozilla/5.0 (Windows NT 6.1; Win64; x64) AppleWebKit/537.36 (KHTML, like Gecko) \\\n",
    "                    Chrome/76.0.3809.100 Safari/537.36 OPR/63.0.3368.53'\n",
    "}\n",
    "main_link = 'https://www.kinopoisk.ru/' #Основная ссылка на сайт\n",
    "req = requests.get(main_link + 'afisha/new/city/1/',headers = headers) #Ссылка на фильмы в кинотеатрах\n",
    "root = html.fromstring(req.text)\n",
    "\n",
    "films_block = root.xpath('//div[contains(@class,\"filmsListNew\")]')\n",
    "\n",
    "\n",
    "hrefs = films_block[0].xpath('//div[@class=\"name\"]/a/@href')\n",
    "names = films_block[0].xpath('//div[@class=\"name\"]/a/text()')\n",
    "genre = films_block[0].xpath('//div[@class=\"gray\"][last()]/text()')\n",
    "rating = films_block[0].xpath('//div[@class=\"rating\"]/span/text()')\n",
    "\n",
    "pprint(films_block)\n",
    "pprint(hrefs)"
   ]
  },
  {
   "cell_type": "code",
   "execution_count": null,
   "metadata": {},
   "outputs": [],
   "source": []
  }
 ],
 "metadata": {
  "kernelspec": {
   "display_name": "Python 3",
   "language": "python",
   "name": "python3"
  },
  "language_info": {
   "codemirror_mode": {
    "name": "ipython",
    "version": 3
   },
   "file_extension": ".py",
   "mimetype": "text/x-python",
   "name": "python",
   "nbconvert_exporter": "python",
   "pygments_lexer": "ipython3",
   "version": "3.7.3"
  }
 },
 "nbformat": 4,
 "nbformat_minor": 2
}

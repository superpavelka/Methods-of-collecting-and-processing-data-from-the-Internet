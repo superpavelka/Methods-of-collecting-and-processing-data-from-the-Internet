{
 "cells": [
  {
   "cell_type": "markdown",
   "metadata": {},
   "source": [
    "1) Написать программу, которая собирает входящие письма из своего или тестового почтового ящика и сложить данные о письмах в базу данных (от кого, дата отправки, тема письма, текст письма полный)\n",
    "\n",
    "2) Написать программу, которая собирает «Хиты продаж» с сайта техники mvideo и складывает данные в БД. Магазины можно выбрать свои. Главный критерий выбора: динамически загружаемые товары!"
   ]
  },
  {
   "cell_type": "markdown",
   "metadata": {},
   "source": [
    "### Задание 1"
   ]
  },
  {
   "cell_type": "code",
   "execution_count": 3,
   "metadata": {},
   "outputs": [],
   "source": [
    "from selenium import webdriver\n",
    "from selenium.webdriver.common.by import By  \n",
    "from selenium.webdriver.support.ui import WebDriverWait\n",
    "from selenium.webdriver.support import expected_conditions as EC\n",
    "from selenium.webdriver.support.ui import Select  \n",
    "from selenium.webdriver.common.action_chains import ActionChains\n",
    "import time\n",
    "import pandas as pd\n",
    "from pymongo import MongoClient\n",
    "from selenium.webdriver.chrome.options import Options"
   ]
  },
  {
   "cell_type": "code",
   "execution_count": 31,
   "metadata": {},
   "outputs": [
    {
     "name": "stdout",
     "output_type": "stream",
     "text": [
      "Message: element click intercepted: Element <div class=\"llc__container\">...</div> is not clickable at point (529, 900). Other element would receive the click: <div class=\"scrollable g-scrollable scrollable_bright scrollable_footer\">...</div>\n",
      "  (Session info: chrome=77.0.3865.90)\n",
      "\n",
      "Message: element click intercepted: Element <div class=\"llc__container\">...</div> is not clickable at point (529, 900). Other element would receive the click: <div class=\"scrollable g-scrollable scrollable_bright scrollable_footer\">...</div>\n",
      "  (Session info: chrome=77.0.3865.90)\n",
      "\n",
      "Message: element click intercepted: Element <div class=\"llc__container\">...</div> is not clickable at point (529, 900). Other element would receive the click: <div class=\"scrollable g-scrollable scrollable_bright scrollable_footer\">...</div>\n",
      "  (Session info: chrome=77.0.3865.90)\n",
      "\n",
      "Message: element click intercepted: Element <div class=\"llc__container\">...</div> is not clickable at point (529, 900). Other element would receive the click: <div class=\"scrollable g-scrollable scrollable_bright scrollable_footer\">...</div>\n",
      "  (Session info: chrome=77.0.3865.90)\n",
      "\n",
      "Message: element click intercepted: Element <div class=\"llc__container\">...</div> is not clickable at point (529, 900). Other element would receive the click: <div class=\"scrollable g-scrollable scrollable_bright scrollable_footer\">...</div>\n",
      "  (Session info: chrome=77.0.3865.90)\n",
      "\n",
      "Message: element click intercepted: Element <div class=\"llc__container\">...</div> is not clickable at point (529, 900). Other element would receive the click: <div class=\"scrollable g-scrollable scrollable_bright scrollable_footer\">...</div>\n",
      "  (Session info: chrome=77.0.3865.90)\n",
      "\n",
      "Message: element click intercepted: Element <div class=\"llc__container\">...</div> is not clickable at point (529, 900). Other element would receive the click: <div class=\"scrollable g-scrollable scrollable_bright scrollable_footer\">...</div>\n",
      "  (Session info: chrome=77.0.3865.90)\n",
      "\n",
      "Message: element click intercepted: Element <div class=\"llc__container\">...</div> is not clickable at point (529, 900). Other element would receive the click: <div class=\"scrollable g-scrollable scrollable_bright scrollable_footer\">...</div>\n",
      "  (Session info: chrome=77.0.3865.90)\n",
      "\n"
     ]
    }
   ],
   "source": [
    "from_list=[]\n",
    "date_list=[]\n",
    "subject_list=[]\n",
    "text_list=[]\n",
    "driver = webdriver.Chrome()   \n",
    "driver.get('https://mail.ru')\n",
    "assert \"Mail.ru\" in driver.title\n",
    "\n",
    "#Заполняем поля для ввода\n",
    "login = driver.find_element_by_id(\"mailbox:login\")\n",
    "login.send_keys('study.ai_172@mail.ru')\n",
    "login.submit()\n",
    "#Кнопка введите пароль\n",
    "btn_pass_ent = driver.find_element_by_id(\"mailbox:submit\")\n",
    "btn_pass_ent.click()\n",
    "password = driver.find_element_by_id(\"mailbox:password\")\n",
    "#password = WebDriverWait(driver,5).until(EC.presence_of_element_located((By.ID, 'mailbox:password')))     \n",
    "password.send_keys('Password172')\n",
    "password.submit()\n",
    "time.sleep(5)\n",
    "#news = driver.find_element_by_class_name(\"mt-t_newsletters\")\n",
    "action = ActionChains(driver);\n",
    "#action.move_to_element(news).perform()\n",
    "#news.click()\n",
    "#driver.implicitly_wait(3)\n",
    "#content = driver.find_elements_by_class_name('ll-sj__normal')\n",
    "#for elem in content:\n",
    "#        from_list.append(elem.text)\n",
    "all_ = driver.find_element_by_class_name(\"ico_16-burger\")\n",
    "action.move_to_element(all_).perform()\n",
    "all_.click()\n",
    "driver.implicitly_wait(1)\n",
    "#folders = WebDriverWait(driver,3).until(EC.presence_of_element_located((By.CLASS_NAME, 'nav__folder-name__txt')))  \n",
    "folders = driver.find_elements_by_class_name(\"nav__folder-name__txt\")\n",
    "folder = folders[-5]\n",
    "action.move_to_element(folder).perform()\n",
    "folder.click()\n",
    "time.sleep(2)\n",
    "i = 0\n",
    "while True:\n",
    "    try:\n",
    "        content = driver.find_elements_by_class_name('llc__container')\n",
    "        action.move_to_element(content[i])\n",
    "        content[i].click()\n",
    "        from_ = driver.find_element_by_class_name('letter__contact-item')\n",
    "        from_list.append(from_.text)\n",
    "        date = driver.find_element_by_class_name('letter__date')\n",
    "        date_list.append(date.text)\n",
    "        subject = driver.find_element_by_class_name('thread__subject')\n",
    "        subject_list.append(subject.text)\n",
    "        try :\n",
    "            text = driver.find_element_by_class_name('letter__body')\n",
    "            text_list.append(text.text)\n",
    "        except:\n",
    "            text_list.append(None)\n",
    "        time.sleep(1)\n",
    "        back = driver.find_element_by_class_name(\"ico_16-arrow-back\")\n",
    "        back.click()\n",
    "        time.sleep(1)\n",
    "        i+=1\n",
    "    except IndexError:\n",
    "        break\n",
    "    except Exception as e:\n",
    "        print(e)\n",
    "        pass"
   ]
  },
  {
   "cell_type": "code",
   "execution_count": 32,
   "metadata": {},
   "outputs": [
    {
     "data": {
      "text/plain": [
       "24"
      ]
     },
     "execution_count": 32,
     "metadata": {},
     "output_type": "execute_result"
    }
   ],
   "source": [
    "len(text_list)"
   ]
  },
  {
   "cell_type": "code",
   "execution_count": 34,
   "metadata": {},
   "outputs": [],
   "source": [
    "s_from = pd.Series(from_list)\n",
    "s_date = pd.Series(date_list)\n",
    "s_subject = pd.Series(subject_list)\n",
    "s_text = pd.Series(text_list)\n",
    "df = pd.DataFrame()\n",
    "df['from'] = s_from\n",
    "df['date'] = s_date\n",
    "df['subject'] = s_subject\n",
    "df['text'] = s_text\n",
    "df.to_csv('letters.csv',index=False,header=True, encoding='utf-8')"
   ]
  },
  {
   "cell_type": "code",
   "execution_count": 35,
   "metadata": {},
   "outputs": [
    {
     "data": {
      "text/html": [
       "<div>\n",
       "<style scoped>\n",
       "    .dataframe tbody tr th:only-of-type {\n",
       "        vertical-align: middle;\n",
       "    }\n",
       "\n",
       "    .dataframe tbody tr th {\n",
       "        vertical-align: top;\n",
       "    }\n",
       "\n",
       "    .dataframe thead th {\n",
       "        text-align: right;\n",
       "    }\n",
       "</style>\n",
       "<table border=\"1\" class=\"dataframe\">\n",
       "  <thead>\n",
       "    <tr style=\"text-align: right;\">\n",
       "      <th></th>\n",
       "      <th>from</th>\n",
       "      <th>date</th>\n",
       "      <th>subject</th>\n",
       "      <th>text</th>\n",
       "    </tr>\n",
       "  </thead>\n",
       "  <tbody>\n",
       "    <tr>\n",
       "      <th>0</th>\n",
       "      <td>Tproger Live</td>\n",
       "      <td>Сегодня, 20:18</td>\n",
       "      <td>Вечерний обзор IT-новостей 2 октября</td>\n",
       "      <td>Налоги в Сети\\nБританская компания Comparitech...</td>\n",
       "    </tr>\n",
       "    <tr>\n",
       "      <th>1</th>\n",
       "      <td>Tproger Live</td>\n",
       "      <td>Вчера, 21:02</td>\n",
       "      <td>Вечерний обзор IT-новостей 1 октября</td>\n",
       "      <td>Яндекс.Облако\\nСегодня утром прошла Yandex Sca...</td>\n",
       "    </tr>\n",
       "    <tr>\n",
       "      <th>2</th>\n",
       "      <td>GeekBrains</td>\n",
       "      <td>Вчера, 11:27</td>\n",
       "      <td>&lt;Открытый урок&gt; Верстаем сайт по макету</td>\n",
       "      <td>Если в письме нет картинок, жмите сюда...</td>\n",
       "    </tr>\n",
       "    <tr>\n",
       "      <th>3</th>\n",
       "      <td>Tproger Live</td>\n",
       "      <td>30 сентября, 20:26</td>\n",
       "      <td>Вечерний обзор IT-новостей 30 сентября</td>\n",
       "      <td>Бэкдоры для соседа\\nКакой-то инсайдер, знакомы...</td>\n",
       "    </tr>\n",
       "    <tr>\n",
       "      <th>4</th>\n",
       "      <td>Tproger Live</td>\n",
       "      <td>27 сентября, 20:44</td>\n",
       "      <td>Вечерний обзор IT-новостей 27 сентября</td>\n",
       "      <td>Интернет\\nChrome, Firefox и Cloudflare начинаю...</td>\n",
       "    </tr>\n",
       "  </tbody>\n",
       "</table>\n",
       "</div>"
      ],
      "text/plain": [
       "           from                date                                  subject  \\\n",
       "0  Tproger Live      Сегодня, 20:18     Вечерний обзор IT-новостей 2 октября   \n",
       "1  Tproger Live        Вчера, 21:02     Вечерний обзор IT-новостей 1 октября   \n",
       "2    GeekBrains        Вчера, 11:27  <Открытый урок> Верстаем сайт по макету   \n",
       "3  Tproger Live  30 сентября, 20:26   Вечерний обзор IT-новостей 30 сентября   \n",
       "4  Tproger Live  27 сентября, 20:44   Вечерний обзор IT-новостей 27 сентября   \n",
       "\n",
       "                                                text  \n",
       "0  Налоги в Сети\\nБританская компания Comparitech...  \n",
       "1  Яндекс.Облако\\nСегодня утром прошла Yandex Sca...  \n",
       "2          Если в письме нет картинок, жмите сюда...  \n",
       "3  Бэкдоры для соседа\\nКакой-то инсайдер, знакомы...  \n",
       "4  Интернет\\nChrome, Firefox и Cloudflare начинаю...  "
      ]
     },
     "execution_count": 35,
     "metadata": {},
     "output_type": "execute_result"
    }
   ],
   "source": [
    "df.head()"
   ]
  },
  {
   "cell_type": "code",
   "execution_count": 36,
   "metadata": {},
   "outputs": [],
   "source": [
    "client = MongoClient('localhost',27017)\n",
    "db = client['letters']"
   ]
  },
  {
   "cell_type": "code",
   "execution_count": 37,
   "metadata": {},
   "outputs": [
    {
     "data": {
      "text/plain": [
       "<pymongo.results.InsertManyResult at 0x5fa7f08>"
      ]
     },
     "execution_count": 37,
     "metadata": {},
     "output_type": "execute_result"
    }
   ],
   "source": [
    "data = df.to_dict(orient='records')\n",
    "db = db.letters\n",
    "db.insert_many(data)"
   ]
  },
  {
   "cell_type": "markdown",
   "metadata": {},
   "source": [
    "### Задание 2"
   ]
  },
  {
   "cell_type": "code",
   "execution_count": 23,
   "metadata": {},
   "outputs": [
    {
     "name": "stderr",
     "output_type": "stream",
     "text": [
      "D:\\Anaconda3\\lib\\site-packages\\ipykernel_launcher.py:4: DeprecationWarning: use options instead of chrome_options\n",
      "  after removing the cwd from sys.path.\n"
     ]
    }
   ],
   "source": [
    "g = []\n",
    "chrome_options = Options()\n",
    "chrome_options.add_argument(\"--window-size=1920,1080\")\n",
    "driver = webdriver.Chrome(chrome_options=chrome_options)\n",
    "driver.get('https://www.mvideo.ru')\n",
    "assert \"М.Видео\" in driver.title\n",
    "time.sleep(3)\n",
    "exit = False\n",
    "while not exit:\n",
    "    try:\n",
    "        goods = driver.find_elements_by_class_name(\"sel-product-tile-title\")\n",
    "        for name in goods[0:4]:\n",
    "                if len(g) and name.text in g:\n",
    "                    exit = True\n",
    "                g.append(name.text)\n",
    "        #button_next = driver.find_elements_by_class_name(\"sel-hits-button-next\")\n",
    "        #button_next = driver.find_element_by_css_selector(\".sel-hits-button-next\")\n",
    "        button_next = driver.find_elements_by_xpath('//*[@class=\"accessories-carousel-wrapper\"]/a[2]')\n",
    "        action = ActionChains(driver);\n",
    "        action.move_to_element(button_next[1])\n",
    "        button_next[1].click()\n",
    "        time.sleep(2)\n",
    "    except Exception as e:\n",
    "        print(e)\n",
    "        break"
   ]
  },
  {
   "cell_type": "code",
   "execution_count": 24,
   "metadata": {},
   "outputs": [
    {
     "data": {
      "text/plain": [
       "['Игровая консоль Xbox One Microsoft S 1TB белая с двумя геймпадами',\n",
       " 'Телевизор Samsung UE43NU7097U',\n",
       " 'Смартфон Apple iPhone XR 64GB Black (MRY42RU/A)',\n",
       " 'Стиральная машина узкая Haier HW60-12829A',\n",
       " 'Смартфон Apple iPhone 7 Plus 32Gb Rose Gold (MNQQ2RU/A)',\n",
       " 'Электромясорубка Bosch ProPower MFW66020',\n",
       " 'Смартфон Honor 10I 128Gb Midnight black(HRY-LX1T)',\n",
       " 'Холодильник Hotpoint-Ariston HFP 5200 W',\n",
       " 'Ноутбук Lenovo IdeaPad 330-15IKB (81DE02VRRU)',\n",
       " 'Конвектор VITEK VT-2174 W',\n",
       " 'Ноутбук Lenovo IdeaPad S145-15IWL (81MV00HHRU)',\n",
       " \"Утюг Bosch sensixx'x DA50 TDA503011P\",\n",
       " 'Беспроводная акустика iHome iBT372 Black',\n",
       " 'Мультиварка Tefal Advanced RK812832',\n",
       " 'Наушники Marshall Major III Bluetooth Black',\n",
       " 'Пылесос ручной (handstick) Tefal Air Force 160 red TY7233WO',\n",
       " 'Беспроводная акустика Harman/Kardon Go + Play Mini Black (HKGOPLAYMINIBLKEU)',\n",
       " 'Фен Rowenta Studio Dry CV5361F0',\n",
       " 'Струйное МФУ HP Ink Tank 315',\n",
       " 'Электрочайник Moulinex BY730132',\n",
       " 'Беспроводная акустика Harman/Kardon Go + Play Mini Black (HKGOPLAYMINIBLKEU)',\n",
       " 'Фен Rowenta Studio Dry CV5361F0',\n",
       " 'Струйное МФУ HP Ink Tank 315',\n",
       " 'Электрочайник Moulinex BY730132']"
      ]
     },
     "execution_count": 24,
     "metadata": {},
     "output_type": "execute_result"
    }
   ],
   "source": [
    "g"
   ]
  },
  {
   "cell_type": "code",
   "execution_count": 26,
   "metadata": {},
   "outputs": [
    {
     "data": {
      "text/html": [
       "<div>\n",
       "<style scoped>\n",
       "    .dataframe tbody tr th:only-of-type {\n",
       "        vertical-align: middle;\n",
       "    }\n",
       "\n",
       "    .dataframe tbody tr th {\n",
       "        vertical-align: top;\n",
       "    }\n",
       "\n",
       "    .dataframe thead th {\n",
       "        text-align: right;\n",
       "    }\n",
       "</style>\n",
       "<table border=\"1\" class=\"dataframe\">\n",
       "  <thead>\n",
       "    <tr style=\"text-align: right;\">\n",
       "      <th></th>\n",
       "      <th>name</th>\n",
       "    </tr>\n",
       "  </thead>\n",
       "  <tbody>\n",
       "    <tr>\n",
       "      <th>0</th>\n",
       "      <td>Игровая консоль Xbox One Microsoft S 1TB белая...</td>\n",
       "    </tr>\n",
       "    <tr>\n",
       "      <th>1</th>\n",
       "      <td>Телевизор Samsung UE43NU7097U</td>\n",
       "    </tr>\n",
       "    <tr>\n",
       "      <th>2</th>\n",
       "      <td>Смартфон Apple iPhone XR 64GB Black (MRY42RU/A)</td>\n",
       "    </tr>\n",
       "    <tr>\n",
       "      <th>3</th>\n",
       "      <td>Стиральная машина узкая Haier HW60-12829A</td>\n",
       "    </tr>\n",
       "    <tr>\n",
       "      <th>4</th>\n",
       "      <td>Смартфон Apple iPhone 7 Plus 32Gb Rose Gold (M...</td>\n",
       "    </tr>\n",
       "  </tbody>\n",
       "</table>\n",
       "</div>"
      ],
      "text/plain": [
       "                                                name\n",
       "0  Игровая консоль Xbox One Microsoft S 1TB белая...\n",
       "1                      Телевизор Samsung UE43NU7097U\n",
       "2    Смартфон Apple iPhone XR 64GB Black (MRY42RU/A)\n",
       "3          Стиральная машина узкая Haier HW60-12829A\n",
       "4  Смартфон Apple iPhone 7 Plus 32Gb Rose Gold (M..."
      ]
     },
     "execution_count": 26,
     "metadata": {},
     "output_type": "execute_result"
    }
   ],
   "source": [
    "s_name = pd.Series(g)\n",
    "df = pd.DataFrame()\n",
    "df['name'] = s_name\n",
    "df.to_csv('bestsellers.csv',index=False,header=True, encoding='utf-8')\n",
    "df.head()"
   ]
  },
  {
   "cell_type": "code",
   "execution_count": 27,
   "metadata": {
    "scrolled": true
   },
   "outputs": [],
   "source": [
    "client = MongoClient('localhost',27017)\n",
    "db = client['bestsellers']"
   ]
  },
  {
   "cell_type": "code",
   "execution_count": 28,
   "metadata": {},
   "outputs": [
    {
     "data": {
      "text/plain": [
       "<pymongo.results.InsertManyResult at 0x90d4388>"
      ]
     },
     "execution_count": 28,
     "metadata": {},
     "output_type": "execute_result"
    }
   ],
   "source": [
    "data = df.to_dict(orient='records')\n",
    "db = db.letters\n",
    "db.insert_many(data)"
   ]
  }
 ],
 "metadata": {
  "kernelspec": {
   "display_name": "Python 3",
   "language": "python",
   "name": "python3"
  },
  "language_info": {
   "codemirror_mode": {
    "name": "ipython",
    "version": 3
   },
   "file_extension": ".py",
   "mimetype": "text/x-python",
   "name": "python",
   "nbconvert_exporter": "python",
   "pygments_lexer": "ipython3",
   "version": "3.7.3"
  }
 },
 "nbformat": 4,
 "nbformat_minor": 2
}
